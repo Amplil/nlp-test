{
  "nbformat": 4,
  "nbformat_minor": 0,
  "metadata": {
    "colab": {
      "name": "random_struct_analysis.ipynb",
      "provenance": [],
      "collapsed_sections": [],
      "toc_visible": true,
      "mount_file_id": "14y0UK6pew_ailH4DGQoVYMBdF6bDMnjW",
      "authorship_tag": "ABX9TyPrqBVTZk3q8bXcGr2FqITU",
      "include_colab_link": true
    },
    "kernelspec": {
      "display_name": "Python 3",
      "name": "python3"
    },
    "language_info": {
      "name": "python"
    }
  },
  "cells": [
    {
      "cell_type": "markdown",
      "metadata": {
        "id": "view-in-github",
        "colab_type": "text"
      },
      "source": [
        "<a href=\"https://colab.research.google.com/github/Amplil/nlp-test/blob/master/random_struct_analysis.ipynb\" target=\"_parent\"><img src=\"https://colab.research.google.com/assets/colab-badge.svg\" alt=\"Open In Colab\"/></a>"
      ]
    },
    {
      "cell_type": "markdown",
      "metadata": {
        "id": "LEWAGnkyKr6Q"
      },
      "source": [
        "# 初期化"
      ]
    },
    {
      "cell_type": "code",
      "metadata": {
        "colab": {
          "base_uri": "https://localhost:8080/"
        },
        "id": "zPhT98YigIjd",
        "outputId": "2fda1019-b94b-49cb-c6a9-6a9ac78384e6"
      },
      "source": [
        "cd \"/content/drive/MyDrive/Colab Notebooks\""
      ],
      "execution_count": null,
      "outputs": [
        {
          "output_type": "stream",
          "text": [
            "/content/drive/MyDrive/Colab Notebooks\n"
          ],
          "name": "stdout"
        }
      ]
    },
    {
      "cell_type": "code",
      "metadata": {
        "id": "L22u7iwggIjg"
      },
      "source": [
        "import sys\n",
        "sys.path.append(\"/content/drive/MyDrive/Colab Notebooks/packages\")"
      ],
      "execution_count": null,
      "outputs": []
    },
    {
      "cell_type": "code",
      "metadata": {
        "id": "KxyTOUB6gIjh"
      },
      "source": [
        "import numpy as np\n",
        "import networkx as nx\n",
        "import pandas as pd\n",
        "import matplotlib.pyplot as plt\n",
        "#import icecream as ic\n",
        "import time\n",
        "import slacknotice # オリジナルモジュール slacknotice.send(\"\")\n",
        "import traceback\n",
        "import random"
      ],
      "execution_count": null,
      "outputs": []
    },
    {
      "cell_type": "markdown",
      "metadata": {
        "id": "Zo1wwXrgM5Qt"
      },
      "source": [
        "## GNPの関数とGNP実行オブジェクト(printxによる表示のON,OFFあり)"
      ]
    },
    {
      "cell_type": "code",
      "metadata": {
        "id": "HZ5dPDeVTupl"
      },
      "source": [
        "# 入力ノード数エラー：-1\n",
        "# 出力およびその他のエラー：-2\n",
        "\n",
        "class printx(): # ONのときだけ表示\n",
        "    out_on=False\n",
        "    @classmethod\n",
        "    def on(cls):\n",
        "        cls.out_on=True\n",
        "    @classmethod\n",
        "    def off(cls):\n",
        "        cls.out_on=False\n",
        "    @classmethod\n",
        "    def out(cls,*args):\n",
        "        if cls.out_on:\n",
        "            print(*args)\n",
        "\n",
        "def div(gn): # gn: DiGraphNode\n",
        "    if (gn.in_deg==1): # divの入力ノードは1つ\n",
        "        if (gn.out_deg==1): # 出力ノードが1つの場合\n",
        "            if not (type(gn.in_ele_list[0])==list): # 入力ノードの要素がリストでない（複数ない）場合\n",
        "                result=str(gn.in_ele_list[0]).split() # 入力ノードと入力ノードリストの要素ともに1つだけ\n",
        "                return gn.out_ele(gn.out_node_list[0],result) # resultを代入、出力ノードは1つだけ\n",
        "            else:\n",
        "                printx.out(\"繰り返し処理の入ったネットワークの繰り返しは関数化によって実現すれば良いため、繰り返し処理で用いるリストの分解深度は1のまま増やさない。すなわち、入力ノードの要素がリストである（複数ある）場合エラー\")\n",
        "                return -2\n",
        "        elif (gn.out_deg==0): # エンドノードの場合\n",
        "            return gn.in_ele_list[0] # 入力をそのまま出力\n",
        "        else: # 複数出力ノードの場合\n",
        "            if not (type(gn.in_ele_list[0])==list): # 入力ノードの要素がリストでない（複数ない）場合\n",
        "                result=str(gn.in_ele_list[0]).split() # 入力ノードと入力ノードリストの要素ともに1つだけ\n",
        "                for num,node in enumerate(gn.out_node_list): # pos要素を追加\n",
        "                    gn.G.nodes[node]['pos']=num\n",
        "                return list(map(gn.out_ele,gn.out_node_list,result)) # resultはリスト、resultを代入、出力ノードは1つだけ\n",
        "            else:\n",
        "                printx.out(\"入力ノードの要素がリストである（複数ある）場合、for文と再帰を使い、出力ノードリストの要素が1つになるまで繰り返す。)\")\n",
        "                return -2\n",
        "    else:\n",
        "        printx.out(\"div len args error\")\n",
        "        return -1\n",
        "\n",
        "def sum(gn): # gn: DiGraphNode\n",
        "    flatten = lambda x: [z for y in x for z in (flatten(y) if hasattr(y, '__iter__') and not isinstance(y, str) else (y,))]\n",
        "    word_list=list(map(str,flatten(gn.in_ele_list))) # すべての入力エッジの要素の平坦化された文字列のリスト\n",
        "    sentense=\"\"\n",
        "    for word in word_list:\n",
        "        if (word!=\"[NULL]\"):\n",
        "            sentense+=word+\" \"\n",
        "    result=sentense.rstrip() # 最後のスペースはなくして出力\n",
        "    if result==\"\": result=\"[NULL]\" # 結果が何もない場合、\"[NULL]\"を出力\n",
        "    printx.out(result)\n",
        "    for out_node in gn.out_node_list: # 出力ノードは複数でも可\n",
        "        gn.out_ele(out_node,result)\n",
        "    return result\n",
        "def equal(gn):\n",
        "    if (gn.in_deg==2):\n",
        "        if (type(gn.in_ele_list[0])!=list and type(gn.in_ele_list[1])!=list):\n",
        "            ele=[[gn.in_ele_list[i]] for i in range(2)] # 個々にリスト化\n",
        "        elif (type(gn.in_ele_list[0])==list and type(gn.in_ele_list[1])==list and len(gn.in_ele_list[0])==len(gn.in_ele_list[1])): # 入力がどちらもリストであり、要素数も同じとき\n",
        "            ele=gn.in_ele_list\n",
        "        else:\n",
        "            printx.out(\"equal nodes list error\")\n",
        "            return -2\n",
        "        out_list=[]\n",
        "        for i in range(len(ele[0])): # 繰り返し処理に対応\n",
        "            if (ele[0][i]==ele[1][i]):\n",
        "                out=\"[TRUE]\"\n",
        "            else:\n",
        "                out=\"[FALSE]\"\n",
        "            out_list.append(out)\n",
        "        if (len(out_list)==1):\n",
        "            result=out_list[0]\n",
        "        else:\n",
        "            result=out_list\n",
        "        for out_node in gn.out_node_list: # 出力ノードは複数でも可\n",
        "            gn.out_ele(out_node,result)\n",
        "        printx.out(result)\n",
        "        #return gn.out_ele(gn.out_node_list[0],result) # resultを代入、出力ノードは1つだけ\n",
        "        return result\n",
        "    else:\n",
        "        printx.out(\"equal input nodes len error\")\n",
        "        return -1\n",
        "\n",
        "def control_gate(gn):\n",
        "    # 入力のどちらかが[TRUE]である場合はもう片方のリンクの値を通し、それ以外は[NULL]を出力（[FALSE]でなくてもよい）。\n",
        "    if (gn.in_deg==2): # 入力は2つ、出力はすべての関数で固定しない\n",
        "        if (type(gn.in_ele_list[0])!=list and type(gn.in_ele_list[1])!=list):\n",
        "            ele=[[gn.in_ele_list[i]] for i in range(2)] # 個々にリスト化\n",
        "        elif (type(gn.in_ele_list[0])==list and type(gn.in_ele_list[1])==list and len(gn.in_ele_list[0])==len(gn.in_ele_list[1])): # 入力がどちらもリストであり、要素数も同じとき\n",
        "            ele=gn.in_ele_list\n",
        "        else:\n",
        "            printx.out(\"control_gate nodes list error\")\n",
        "            return -2\n",
        "        out_list=[]\n",
        "        for i in range(len(ele[0])): # 繰り返し処理に対応\n",
        "            if (ele[0][i]==\"[TRUE]\"):\n",
        "                out=ele[1][i]\n",
        "            elif (ele[1][i]==\"[TRUE]\"):\n",
        "                out=ele[0][i]\n",
        "            else:\n",
        "                out=\"[NULL]\"\n",
        "            out_list.append(out)\n",
        "        if (len(out_list)==1):\n",
        "            result=out_list[0]\n",
        "        else:\n",
        "            result=out_list\n",
        "        printx.out(result)\n",
        "        for out_node in gn.out_node_list: # 出力ノードは複数でも可\n",
        "            gn.out_ele(out_node,result)\n",
        "        return result\n",
        "    else:\n",
        "        printx.out(\"control_gate nodes len error\")\n",
        "        return -1\n",
        "def control_not_gate(gn):\n",
        "    # 入力のどちらかが[FALSE]である場合はもう片方のリンクの値を通し、それ以外は[NULL]を出力（[TRUE]でなくてもよい）。\n",
        "    if (gn.in_deg==2): # 入力は2つ、出力はすべての関数で固定しない\n",
        "        if (type(gn.in_ele_list[0])!=list and type(gn.in_ele_list[1])!=list):\n",
        "            ele=[[gn.in_ele_list[i]] for i in range(2)] # 個々にリスト化\n",
        "        elif (type(gn.in_ele_list[0])==list and type(gn.in_ele_list[1])==list and len(gn.in_ele_list[0])==len(gn.in_ele_list[1])): # 入力がどちらもリストであり、要素数も同じとき\n",
        "            ele=gn.in_ele_list\n",
        "        else:\n",
        "            printx.out(\"control_not_gate nodes list error\")\n",
        "            return -2\n",
        "        out_list=[]\n",
        "        for i in range(len(ele[0])): # 繰り返し処理に対応\n",
        "            if (ele[0][i]==\"[FALSE]\"):\n",
        "                out=ele[1][i]\n",
        "            elif (ele[1][i]==\"[FALSE]\"):\n",
        "                out=ele[0][i]\n",
        "            else:\n",
        "                out=\"[NULL]\"\n",
        "            out_list.append(out)\n",
        "        if (len(out_list)==1):\n",
        "            result=out_list[0]\n",
        "        else:\n",
        "            result=out_list\n",
        "        printx.out(result)\n",
        "        for out_node in gn.out_node_list: # 出力ノードは複数でも可\n",
        "            gn.out_ele(out_node,result)\n",
        "        return result\n",
        "    else:\n",
        "        printx.out(\"control_not_gate nodes len error\")\n",
        "        return -1\n",
        "\n",
        "def pos(gn): # 繰り返し処理により入力ノードの要素がリストになっていても関係ない\n",
        "    if (gn.in_deg==1):\n",
        "        pre_gn=DiGraphNode(gn.G,gn.in_node_list[0])\n",
        "        if (pre_gn.in_deg==0):\n",
        "            printx.out(\"pos input node input is start node\")\n",
        "            #result=-2\n",
        "            result=0 # 入力の入力がない場合は0と出力することにする\n",
        "        elif (pre_gn.in_deg==1):\n",
        "            result=pre_gn.G.nodes[pre_gn.in_node_list[0]].get('pos')\n",
        "            if result==None:\n",
        "                printx.out(\"node pos does not exist\")\n",
        "                #result=\"\"\n",
        "                printx.out(\"node pos does not exist. result=0\")\n",
        "                result=0 # pos要素がない場合は0と出力することにする\n",
        "        else:\n",
        "            printx.out(\"pos input node input is plural\")\n",
        "            result=-2\n",
        "        for out_node in gn.out_node_list: # 出力ノードは複数でも可\n",
        "            gn.out_ele(out_node,result)\n",
        "        return result\n",
        "    else:\n",
        "        printx.out(\"pos input node len error\")\n",
        "        return -1\n",
        "def out_func(gn): # 出力は繰り返し処理なし\n",
        "    if (gn.in_deg==1 and gn.out_deg==0):\n",
        "        result=gn.in_ele_list[0]\n",
        "        #self.output=result\n",
        "        return result\n",
        "    else:\n",
        "        printx.out(\"out_func nodes len error\")\n",
        "        return -1\n",
        "#def node_func(gn): # 繰り返し処理により入力ノードの要素がリストになっている場合、リストのまま出力する\n",
        "def object_func(gn): # 繰り返し処理により入力ノードの要素がリストになっている場合、リストのまま出力する\n",
        "    if (gn.in_deg==1):\n",
        "        \"\"\"\n",
        "        if (gn.out_deg==0): # object_funcにエンドポイント機能を持たせる\n",
        "            #result=\"(end point) \"+str(gn.in_ele_list[0])\n",
        "            result=str(gn.in_ele_list[0])\n",
        "        else:\n",
        "        \"\"\"\n",
        "        result=gn.in_ele_list[0]\n",
        "        for out_node in gn.out_node_list: # 出力ノードは複数でも可\n",
        "            gn.out_ele(out_node,result)\n",
        "        return result\n",
        "    else:\n",
        "        printx.out(\"object_func input nodes len error\")\n",
        "        return -1\n",
        "\n",
        "\n",
        "class DiGraphNode(): # 有向グラフの1つのノードにフォーカス\n",
        "    def __init__(self,G,node):\n",
        "        self.G=G\n",
        "        self.node=node\n",
        "        if (node in G.nodes)==False:\n",
        "            printx.out('Error: ',node,' does not exist in the graph')\n",
        "            self.ele=''\n",
        "            self.in_deg=0\n",
        "            self.out_deg=0\n",
        "            self.in_node_list=[]\n",
        "            self.out_node_list=[]\n",
        "            self.in_ele_list=[] # in edge element list\n",
        "            self.out_ele_list=[] # out edge element list\n",
        "        else:\n",
        "            self.ele=G.nodes[node]['ele']\n",
        "            self.in_deg=G.in_degree(node)\n",
        "            self.out_deg=G.out_degree(node)\n",
        "            self.in_node_list=list(G.pred[node])\n",
        "            self.out_node_list=list(G[node])\n",
        "            self.in_ele_list=[G.edges[n,node]['ele'] for n in self.in_node_list] # in edge element list\n",
        "            self.out_ele_list=[G.edges[node,n]['ele'] for n in self.out_node_list] # out edge element list\n",
        "        \n",
        "    def in_ele(self,in_node,element=None): # in edge element\n",
        "        if(element!=None):\n",
        "            self.G.edges[in_node,self.node]['ele']=element\n",
        "        return self.G.edges[in_node,self.node]['ele']\n",
        "    def out_ele(self,out_node,element=None): # out edge element\n",
        "        if(element!=None):\n",
        "            self.G.edges[self.node,out_node]['ele']=element\n",
        "        return self.G.edges[self.node,out_node]['ele']\n",
        "    def run_check(self):\n",
        "        if not callable(self.ele): # ノード要素が関数でない場合(変数(オブジェクト:文字列)のとき)\n",
        "            printx.out(\"This is probably object string node.\")\n",
        "            return -3\n",
        "        else:\n",
        "            result=self.ele(self)\n",
        "            \"\"\"\n",
        "            if result==-1:\n",
        "                #print(\"input error\")\n",
        "            elif result==-2:\n",
        "                #print(\"output error\")\n",
        "            else:\n",
        "                #print(result)\n",
        "            \"\"\"\n",
        "            return result\n",
        "\n",
        "\n",
        "class GraphStructuredProgram():\n",
        "    #def __init__(self,input,node_struct,edge_struct):\n",
        "    def __init__(self,input,node_body,edge_struct):\n",
        "        #self.input=\"0 1 0\"\n",
        "        self.input=input\n",
        "        self.output=\"\"\n",
        "        self.network=nx.DiGraph()\n",
        "\n",
        "        node_struct=[('in',input)]\n",
        "        node_struct.extend(node_body)\n",
        "        #node_struct.append(('out',out_func))\n",
        "        self.network.add_nodes_from([(tup[0],{'ele':tup[1]}) for tup in node_struct]) # node_structをnetworkxに対応した形にして渡す\n",
        "        self.network.add_edges_from(edge_struct)\n",
        "        self.network.add_edges_from(list(map(lambda tup: tup+({'ele': ''},) ,self.network.edges))) # エッジ要素を''で初期化する\n",
        "        for node in self.network.nodes:\n",
        "            gn=DiGraphNode(self.network,node)\n",
        "            if not callable(gn.ele): # ノード要素が関数でない場合(変数(オブジェクト:文字列)のとき)\n",
        "                [gn.out_ele(out_node,gn.ele) for out_node in gn.out_node_list] # 出力エッジ要素をノード要素とする\n",
        "\n",
        "    def network_show(self):\n",
        "        print(\"nodes: \",self.network.nodes.data())\n",
        "        print(\"edges: \",self.network.edges.data())\n",
        "        nx.draw_networkx(self.network)\n",
        "        plt.show()        \n",
        "\n",
        "    def run_tick(self,node_list):\n",
        "        next_node_list=[]\n",
        "        for node in node_list:\n",
        "            gn=DiGraphNode(self.network,node) # graph node\n",
        "            if not callable(gn.ele): # ノード要素が関数でない場合(変数(オブジェクト:文字列)のとき)\n",
        "                printx.out(\"Error: This is probably object string node.\")\n",
        "                return []\n",
        "            elif (gn.out_deg!=0 and gn.out_ele_list[0]!=\"\"): # 出力エッジの最初の要素の中身で既に実行されているかどうかを判断する\n",
        "                result=\"already calculated: skip\"\n",
        "            elif (\"\" in gn.in_ele_list): # 入力エッジの要素に\"\"があるかどうかで、まだ入力が実行されていないノードがあるかどうかを判断する\n",
        "                result=\"inputs are not calculated yet: skip\"\n",
        "            else:\n",
        "                result=gn.ele(gn)\n",
        "                if gn.out_deg==0:\n",
        "                    printx.out(\"This is end node\")\n",
        "                    #result=gn.ele(gn)\n",
        "                    self.output=result\n",
        "                if type(result)==int and result<0: return result # マイナスの数値の場合エラーのためネクストノードを追加しない\n",
        "                next_node_list.extend(gn.out_node_list)\n",
        "\n",
        "            printx.out(\"node:\",node,\", result:\",result)\n",
        "\n",
        "        printx.out(\"next_node_list:\",next_node_list)\n",
        "        return next_node_list\n",
        "\n",
        "    def run(self):\n",
        "        #self.network_show()\n",
        "        if not 'in' in list(self.network.nodes):\n",
        "            printx.out(\"'in' node doesn't exist\")\n",
        "            return ''\n",
        "        printx.out(\"node: in =\",self.network.nodes['in']['ele'])\n",
        "        next_node_list=list(self.network[\"in\"])\n",
        "        printx.out(\"next_node_list:\",next_node_list)\n",
        "        while next_node_list!=[]:\n",
        "            next_node_list=self.run_tick(next_node_list)\n",
        "            if type(next_node_list)==int: return next_node_list\n",
        "        return self.output"
      ],
      "execution_count": null,
      "outputs": []
    },
    {
      "cell_type": "markdown",
      "metadata": {
        "id": "8XOL2NFVJjE4"
      },
      "source": [
        "## 自動定義関数"
      ]
    },
    {
      "cell_type": "code",
      "metadata": {
        "id": "RpGkawYU5CGL"
      },
      "source": [
        "def adfs(gn,node_body,edge_struct): # 自動定義関数\n",
        "    #if (gn.in_deg==1 and gn.out_deg==1): # 入力も出力もノードは1つ\n",
        "    printx.out(\"adfs node_body: \",node_body)\n",
        "    printx.out(\"adfs edge_struct: \",edge_struct)\n",
        "    if (gn.in_deg==1): # 入力は1つ\n",
        "        if (type(gn.in_ele_list[0])!=list): # 繰り返し処理に対応\n",
        "            in_list=[gn.in_ele_list[0]]\n",
        "        else:\n",
        "            in_list=gn.in_ele_list[0]\n",
        "\n",
        "        out_list=[]\n",
        "        #printx.out(\"adfs input:\",in_list)\n",
        "        for input in in_list: # 繰り返し処理に対応\n",
        "            printx.out(\"adfs input:\",input)\n",
        "            #node_struct=[('in',input)]\n",
        "            #node_struct.extend(node_body)\n",
        "            #node_struct.append(('out',out_func))\n",
        "            #gsp=GraphStructuredProgram(input,node_struct,edge_struct)\n",
        "            gsp=GraphStructuredProgram(input,node_body,edge_struct)\n",
        "            out=gsp.run()\n",
        "            out_list.append(out)\n",
        "        if (len(out_list)==1):\n",
        "            result=out_list[0]\n",
        "        else:\n",
        "            result=out_list\n",
        "        #return gn.out_ele(gn.out_node_list[0],result) # resultを代入、出力ノードは1つだけ\n",
        "\n",
        "        printx.out(result)\n",
        "        for out_node in gn.out_node_list: # 出力ノードは複数でも可\n",
        "            gn.out_ele(out_node,result)\n",
        "        return result\n",
        "    else: return -1"
      ],
      "execution_count": null,
      "outputs": []
    },
    {
      "cell_type": "markdown",
      "metadata": {
        "id": "XLTOLwzsSm8n"
      },
      "source": [
        "## ネットワーク構築オブジェクト"
      ]
    },
    {
      "cell_type": "code",
      "metadata": {
        "id": "6xKcVHrQSqxc"
      },
      "source": [
        "class GNPStruct(): # ネットワーク構築オブジェクト\n",
        "    def __init__(self,num_nodes):\n",
        "        self.num_nodes=num_nodes\n",
        "        self.repeat_num=0 # 繰り返し回数\n",
        "        self.clear1=0\n",
        "        #self.node_body=[]\n",
        "        #self.edge_struct=[]\n",
        "        self.adfs_list=[div,sum,equal,control_gate,control_not_gate,pos,object_func] # まずは初期関数リストでadfsリストを定義 出力関数は入れない\n",
        "\n",
        "    def add_adfs(self,*add_tupple): # *add_tuppleは可変長引数\n",
        "        for node in add_tupple:\n",
        "            if not (node in self.adfs_list): # すでにadfsに登録されているものは追加しない\n",
        "                self.adfs_list.append(node) # （入出力）オブジェクト(文字列)をadfsリストに登録\n",
        "\n",
        "    def random_struct(self): # node_num: ノードを何個とるか inを含めない\n",
        "        #node_num=3 # ノードを何個とるか inを含めない\n",
        "        #node_list=[input]\n",
        "        node_list=[] # inを含めない\n",
        "        #node_list.extend([random.choice(adfs_list) for n in range(node_num)]) # ランダムに選んで加える\n",
        "        node_list.extend(random.choices(self.adfs_list,k=self.num_nodes)) # ランダムに選んで加える\n",
        "        node_struct=[('in','dummy')] # あとでinputは抜かす\n",
        "        node_struct.extend(list(enumerate(node_list))) # inも含めたランダムに作られたノード構造\n",
        "        node_name_list=[i for i,_ in node_struct] # node_nameだけのリスト\n",
        "        #self.node_name_list=node_name_list\n",
        "        if not (True in map(callable,[i for _,i in node_struct])): # node_structに呼び出し可能なノード(関数)が1つもない場合\n",
        "            print(\"random_struct: すべてオブジェクトノードのnode_structであったため、スキップします。\")\n",
        "            node_body=[]\n",
        "            edge_struct=[]\n",
        "            return # すべてオブジェクトノードであった場合、inをedge_structに入れることができなくなってしまう。\n",
        "\n",
        "        #connect_list=[]\n",
        "        edge_struct=[]\n",
        "        n=0\n",
        "        while not 'in' in [i for i,_ in edge_struct]: # inを含むedge_structができるまでランダムに作り続ける\n",
        "            n+=1\n",
        "            if(n>1000):\n",
        "                print(\"random_struct: \",n,\"回edgeの構築を繰り返しましたが、inを含むedge_structができませんでした。node_struct: \",node_struct)\n",
        "                node_body=[]\n",
        "                edge_struct=[]\n",
        "                return\n",
        "            edge_struct=[]\n",
        "            #for i,node in enumerate(node_list):\n",
        "            for node_name,node_content in node_struct:\n",
        "                if callable(node_content):\n",
        "                    node_sample=list(filter(lambda x: x!=node_name,node_name_list)) # 当ノードを除いたサンプルを用意する\n",
        "                    #node_sample.remove(node_name) # 当ノードを除いたサンプルを用意する\n",
        "\n",
        "                    #print(node_content)\n",
        "                    #print(node_sample)\n",
        "                    #print(node_name_list)\n",
        "                    ncn=node_content.__name__\n",
        "                    if ncn==\"equal\" or ncn==\"control_gate\" or ncn==\"control_not_gate\":\n",
        "                        #connect_list.extend([i,i]) # 2つ取る\n",
        "                        edge_struct.extend([(in_node,node_name) for in_node in random.sample(node_sample,2)]) # 入力ノードを重複なしでランダムに2つ選ぶ\n",
        "                    elif ncn==\"sum\":\n",
        "                        repeat=random.randrange(1,self.num_nodes) # sumの入力の本数は1～node_num（取れる最大のノード数）のうちでランダムに決める\n",
        "                        edge_struct.extend([(in_node,node_name) for in_node in random.sample(node_sample,repeat)]) # 入力ノードを重複なしでランダムにrepeat分選ぶ\n",
        "                        #connect_list.extend([i for _ in range(repeat)]) # repeat分取る\n",
        "                    else:\n",
        "                        edge_struct.append((random.choice(node_sample),node_name)) # 入力ノードをランダムに1つ選ぶ\n",
        "                        #connect_list.append(i) # 1つ取る\n",
        "                        #print('else')\n",
        "            \"\"\"\n",
        "            if not 'in' in [i for i,_ in edge_struct] :\n",
        "                print(node_struct)\n",
        "                print(edge_struct)\n",
        "                print('no in')\n",
        "            \"\"\"\n",
        "        \"\"\"\n",
        "        edge_struct=[]\n",
        "        for connect_num in connect_list:\n",
        "            node_num_range=list(range(node_num+1)) # inも含める\n",
        "            node_num_range.pop(connect_num) # 当connectは含めない\n",
        "            edge_struct.append((random.choice(node_num_range),connect_num))\n",
        "        \"\"\"\n",
        "        node_body=node_struct[1:] # inputを抜かす\n",
        "        return node_body,edge_struct # node_body,edge_structを渡す\n",
        "\n",
        "    def Search2RequirementsWithAnalysis(self,input1,out_expect1,input2,out_expect2,timelimit=0,interval=0): # 2条件での解析を伴う探索\n",
        "        self.input1=input1\n",
        "        self.out_expect1=out_expect1\n",
        "        self.input2=input2\n",
        "        self.out_expect2=out_expect2\n",
        "        self.start_time=time.time()\n",
        "        self.half_time=time.time()\n",
        "        self.timelimit=timelimit\n",
        "        self.interval=interval\n",
        "        self.result1=\"\"\n",
        "        self.result2=\"\"\n",
        "        #self.adfs_list.extend([self.input1,self.out_expect1,self.input2,self.out_expect2]) # （入出力）オブジェクト(文字列)をadfsリストに登録\n",
        "        #add_list=[self.input1,self.out_expect1,self.input2,self.out_expect2]\n",
        "        \"\"\"\n",
        "        for node in add_list:\n",
        "            if not (node in self.adfs_list): # すでにadfsに登録されているものは追加しない\n",
        "                self.adfs_list.append(node) # （入出力）オブジェクト(文字列)をadfsリストに登録\n",
        "        \"\"\"\n",
        "        self.add_adfs(self.input1,self.out_expect1,self.input2,self.out_expect2)\n",
        "        n=0 # インターバル内の繰り返し回数\n",
        "        while self.result1!=self.out_expect1 or self.result2!=self.out_expect2:\n",
        "            self.repeat_num+=1\n",
        "            n+=1\n",
        "            if n>1000:\n",
        "                n=0\n",
        "                self.now_time=time.time()\n",
        "                elapsed_time=self.now_time-self.start_time\n",
        "                if self.timelimit>0 and elapsed_time>=self.timelimit:\n",
        "                    #print(elapsed_time,\"秒経過しましたが、条件を満たすネットワークを見つけることができませんでした。\")\n",
        "                    slacknotice.send(elapsed_time,\"秒経過しましたが、条件を満たすネットワークを見つけることができませんでした。\")\n",
        "                    return -1\n",
        "\n",
        "                if self.interval>0 and self.now_time-self.half_time>=self.interval:\n",
        "                    #print(elapsed_time,\"秒経過 \",\"生成されたグラフの数: \",self.repeat_num,\",第一条件をクリアしたグラフの数: \",self.clear1)\n",
        "                    slacknotice.send(elapsed_time,\"秒経過 \",\"生成されたグラフの数: \",self.repeat_num,\",第一条件をクリアしたグラフの数: \",self.clear1)\n",
        "                    self.half_time=self.now_time\n",
        "                    self.clear1=0\n",
        "                    self.repeat_num=0\n",
        "            node_body,edge_struct=self.random_struct()\n",
        "            #print(node_body)\n",
        "            #print(edge_struct)\n",
        "            self.gsp1=GraphStructuredProgram(self.input1,node_body,edge_struct)\n",
        "            self.result1=self.gsp1.run()\n",
        "            if self.result1!=self.out_expect1:\n",
        "                continue\n",
        "            #print(\"result1 is ok\")\n",
        "            self.clear1+=1\n",
        "            self.gsp2=GraphStructuredProgram(self.input2,node_body,edge_struct)\n",
        "            self.result2=self.gsp2.run()\n",
        "        self.add_adfs(lambda gn : adfs(gn,node_body,edge_struct)) # 条件を満たすネットワークをadfsリストに登録\n",
        "        self.gsp1.network_show()\n",
        "        #self.gsp2.network_show()\n",
        "\n",
        "    def Search1Requirement(self,input,out_expect): # 1条件での探索\n",
        "        self.result=\"\"\n",
        "        self.add_adfs(input)\n",
        "        while self.result!=out_expect:\n",
        "            node_body,edge_struct=self.random_struct()\n",
        "            self.gsp=GraphStructuredProgram(input,node_body,edge_struct)\n",
        "            self.result=self.gsp.run()\n",
        "        self.add_adfs(lambda gn : adfs(gn,node_body,edge_struct)) # 条件を満たすネットワークをadfsリストに登録\n",
        "        self.gsp.network_show()\n",
        "\n",
        "    def PhasedGenerate(self,input1,out_expect1,input2,out_expect2,timelimit=0,interval=0):\n",
        "        #add_list=[input1,out_expect1,input2,out_expect2]\n",
        "        self.add_adfs(input1,out_expect1,input2,out_expect2)\n",
        "        self.Search1Requirement(input1,out_expect1)\n",
        "        self.Search1Requirement(input2,out_expect2)\n",
        "        self.Search2RequirementsWithAnalysis(input1,out_expect1,input2,out_expect2,timelimit=timelimit,interval=interval)"
      ],
      "execution_count": null,
      "outputs": []
    },
    {
      "cell_type": "markdown",
      "metadata": {
        "id": "iscGvdqnTLzi"
      },
      "source": [
        "# 結果の解析"
      ]
    },
    {
      "cell_type": "code",
      "metadata": {
        "colab": {
          "base_uri": "https://localhost:8080/"
        },
        "id": "XOKsoJDyTIXJ",
        "outputId": "5b5a3b8e-342b-4960-e283-0e80961f2385"
      },
      "source": [
        "# 時間無制限で実行、slackでお知らせ（colabを閉じていても大丈夫）\n",
        "num_nodes=15\n",
        "gnps=GNPStruct(num_nodes)\n",
        "try:\n",
        "    gnps.Search2RequirementsWithAnalysis(\"0\",\"1\",\"1\",\"0\",interval=1800) # input1,out_expect1,input2,out_expect2,timelimit\n",
        "except:\n",
        "    traceback.print_exc()\n",
        "    slacknotice.send(\"2条件満たすネットワークの探索においてエラーが発生しました。エラー内容: \"+traceback.format_exc())\n",
        "else:\n",
        "    slacknotice.send(\"終了しました。node_body: \"+str(gnps.node_body)+\" ,edge_struct: \"+str(gnps.edge_struct))"
      ],
      "execution_count": null,
      "outputs": [
        {
          "output_type": "stream",
          "text": [
            "slack message: 2条件満たすネットワークの探索においてエラーが発生しました。エラー内容: Traceback (most recent call last):\n",
            "  File \"<ipython-input-7-45b21b181004>\", line 5, in <module>\n",
            "    gnps.Search2RequirementsWithAnalysis(\"0\",\"1\",\"1\",\"0\",interval=1800) # input1,out_expect1,input2,out_expect2,timelimit\n",
            "  File \"<ipython-input-6-a47409d6ec4f>\", line 117, in Search2RequirementsWithAnalysis\n",
            "    self.random_struct()\n",
            "  File \"<ipython-input-6-a47409d6ec4f>\", line 54, in random_struct\n",
            "    self.edge_struct.extend([(in_node,node_name) for in_node in random.sample(node_sample,2)]) # 入力ノードを重複なしでランダムに2つ選ぶ\n",
            "  File \"/usr/lib/python3.7/random.py\", line 314, in sample\n",
            "    if isinstance(population, _Set):\n",
            "  File \"/usr/lib/python3.7/abc.py\", line 139, in __instancecheck__\n",
            "    return _abc_instancecheck(cls, instance)\n",
            "KeyboardInterrupt\n",
            "\n"
          ],
          "name": "stdout"
        },
        {
          "output_type": "stream",
          "text": [
            "Traceback (most recent call last):\n",
            "  File \"<ipython-input-7-45b21b181004>\", line 5, in <module>\n",
            "    gnps.Search2RequirementsWithAnalysis(\"0\",\"1\",\"1\",\"0\",interval=1800) # input1,out_expect1,input2,out_expect2,timelimit\n",
            "  File \"<ipython-input-6-a47409d6ec4f>\", line 117, in Search2RequirementsWithAnalysis\n",
            "    self.random_struct()\n",
            "  File \"<ipython-input-6-a47409d6ec4f>\", line 54, in random_struct\n",
            "    self.edge_struct.extend([(in_node,node_name) for in_node in random.sample(node_sample,2)]) # 入力ノードを重複なしでランダムに2つ選ぶ\n",
            "  File \"/usr/lib/python3.7/random.py\", line 314, in sample\n",
            "    if isinstance(population, _Set):\n",
            "  File \"/usr/lib/python3.7/abc.py\", line 139, in __instancecheck__\n",
            "    return _abc_instancecheck(cls, instance)\n",
            "KeyboardInterrupt\n"
          ],
          "name": "stderr"
        }
      ]
    },
    {
      "cell_type": "code",
      "metadata": {
        "colab": {
          "base_uri": "https://localhost:8080/",
          "height": 836
        },
        "id": "FDcq_k4JjT2X",
        "outputId": "b3f377ee-65e3-479c-af2b-68da4309fe37"
      },
      "source": [
        "num_nodes=15\n",
        "gnps=GNPStruct(num_nodes)\n",
        "gnps.PhasedGenerate(\"0\",\"1\",\"1\",\"0\",interval=1800)"
      ],
      "execution_count": null,
      "outputs": [
        {
          "output_type": "stream",
          "text": [
            "[('in', {'ele': '0'}), (0, {'ele': <function sum at 0x7f376ad45200>, 'pos': 0}), (1, {'ele': '1'}), (2, {'ele': '1'}), (3, {'ele': '0'}), (4, {'ele': <function object_func at 0x7f37622a3680>}), (5, {'ele': <function div at 0x7f376ad45560>}), (6, {'ele': <function equal at 0x7f376ad45b90>}), (7, {'ele': <function control_not_gate at 0x7f376ad45e60>}), (8, {'ele': <function sum at 0x7f376ad45200>}), (9, {'ele': <function equal at 0x7f376ad45b90>, 'pos': 1}), (10, {'ele': <function sum at 0x7f376ad45200>, 'pos': 2}), (11, {'ele': '1'}), (12, {'ele': <function div at 0x7f376ad45560>}), (13, {'ele': <function object_func at 0x7f37622a3680>}), (14, {'ele': <function control_not_gate at 0x7f376ad45e60>})]\n",
            "[('in', 5, {'ele': '0'}), ('in', 6, {'ele': '0'}), (0, 8, {'ele': ''}), (0, 14, {'ele': ''}), (1, 0, {'ele': '1'}), (1, 6, {'ele': '1'}), (1, 7, {'ele': '1'}), (1, 8, {'ele': '1'}), (1, 14, {'ele': '1'}), (2, 8, {'ele': '1'}), (3, 0, {'ele': '0'}), (4, 0, {'ele': ''}), (5, 0, {'ele': '0'}), (5, 9, {'ele': ''}), (5, 10, {'ele': ''}), (6, 7, {'ele': '[FALSE]'}), (6, 9, {'ele': '[FALSE]'}), (7, 0, {'ele': '1'}), (7, 8, {'ele': '1'}), (7, 13, {'ele': '1'}), (8, 0, {'ele': ''}), (8, 4, {'ele': ''}), (9, 0, {'ele': ''}), (10, 0, {'ele': ''}), (10, 12, {'ele': ''}), (11, 0, {'ele': '1'}), (12, 0, {'ele': ''})]\n"
          ],
          "name": "stdout"
        },
        {
          "output_type": "display_data",
          "data": {
            "image/png": "[encoded data removed]",
            "text/plain": [
              "<Figure size 432x288 with 1 Axes>"
            ]
          },
          "metadata": {
            "tags": []
          }
        },
        {
          "output_type": "stream",
          "text": [
            "[('in', {'ele': '1'}), (0, {'ele': <function equal at 0x7f376ad45b90>}), (1, {'ele': <function pos at 0x7f37622a3290>}), (2, {'ele': <function sum at 0x7f376ad45200>}), (3, {'ele': <function pos at 0x7f37622a3290>}), (4, {'ele': <function control_gate at 0x7f376ad45cb0>}), (5, {'ele': '1'}), (6, {'ele': '0'}), (7, {'ele': '0'}), (8, {'ele': <function control_not_gate at 0x7f376ad45e60>}), (9, {'ele': '0'}), (10, {'ele': <function GNPStruct.Search1Requirement.<locals>.<lambda> at 0x7f376228b4d0>}), (11, {'ele': '0'}), (12, {'ele': <function equal at 0x7f376ad45b90>}), (13, {'ele': '1'}), (14, {'ele': <function equal at 0x7f376ad45b90>})]\n",
            "[('in', 3, {'ele': '1'}), ('in', 4, {'ele': '1'}), (0, 10, {'ele': '[FALSE]'}), (3, 2, {'ele': 0}), (3, 14, {'ele': 0}), (4, 2, {'ele': '[NULL]'}), (4, 14, {'ele': '[NULL]'}), (6, 12, {'ele': '0'}), (8, 2, {'ele': '[NULL]'}), (9, 0, {'ele': '0'}), (9, 1, {'ele': '0'}), (9, 12, {'ele': '0'}), (10, 8, {'ele': '1'}), (13, 4, {'ele': '1'}), (13, 8, {'ele': '1'}), (14, 0, {'ele': '[FALSE]'})]\n"
          ],
          "name": "stdout"
        },
        {
          "output_type": "display_data",
          "data": {
            "image/png": "[encoded data removed]",
            "text/plain": [
              "<Figure size 432x288 with 1 Axes>"
            ]
          },
          "metadata": {
            "tags": []
          }
        },
        {
          "output_type": "stream",
          "text": [
            "[('in', {'ele': '0'}), (0, {'ele': <function equal at 0x7f376ad45b90>}), (1, {'ele': <function GNPStruct.Search1Requirement.<locals>.<lambda> at 0x7f376268b200>}), (2, {'ele': <function equal at 0x7f376ad45b90>, 'pos': 0}), (3, {'ele': <function pos at 0x7f37622a3290>}), (4, {'ele': <function object_func at 0x7f37622a3680>}), (5, {'ele': <function control_gate at 0x7f376ad45cb0>}), (6, {'ele': <function GNPStruct.Search1Requirement.<locals>.<lambda> at 0x7f376268b200>}), (7, {'ele': '1'}), (8, {'ele': <function control_gate at 0x7f376ad45cb0>}), (9, {'ele': <function equal at 0x7f376ad45b90>}), (10, {'ele': '0'}), (11, {'ele': <function div at 0x7f376ad45560>}), (12, {'ele': '0'}), (13, {'ele': <function div at 0x7f376ad45560>}), (14, {'ele': <function div at 0x7f376ad45560>, 'pos': 1})]\n",
            "[('in', 0, {'ele': '0'}), (0, 1, {'ele': '[TRUE]'}), (0, 6, {'ele': '[TRUE]'}), (1, 4, {'ele': '0 1'}), (1, 11, {'ele': '0 1'}), (1, 13, {'ele': '0 1'}), (2, 9, {'ele': ''}), (3, 8, {'ele': ''}), (7, 3, {'ele': '1'}), (7, 5, {'ele': '1'}), (7, 8, {'ele': '1'}), (9, 2, {'ele': ''}), (10, 9, {'ele': '0'}), (11, 2, {'ele': '0'}), (11, 14, {'ele': '1'}), (12, 0, {'ele': '0'}), (12, 5, {'ele': '0'})]\n"
          ],
          "name": "stdout"
        },
        {
          "output_type": "display_data",
          "data": {
            "image/png": "[encoded data removed]",
            "text/plain": [
              "<Figure size 432x288 with 1 Axes>"
            ]
          },
          "metadata": {
            "tags": []
          }
        }
      ]
    },
    {
      "cell_type": "code",
      "metadata": {
        "id": "OsTWqEFOijTm",
        "colab": {
          "base_uri": "https://localhost:8080/",
          "height": 242
        },
        "outputId": "79e3cbe5-44c8-486a-b1fe-1bbe844833e9"
      },
      "source": [
        "add_list=[self.input1,self.out_expect1,self.input2,self.out_expect2]\n",
        "add_adfs(add_list)\n",
        "Search1Requirement(self.input1,self.out_expect1)\n",
        "Search1Requirement(self.input2,self.out_expect2)\n",
        "Search2RequirementsWithAnalysis(input1,out_expect1,input2,out_expect2,timelimit=timelimit,interval=interval)"
      ],
      "execution_count": null,
      "outputs": [
        {
          "output_type": "error",
          "ename": "NameError",
          "evalue": "ignored",
          "traceback": [
            "\u001b[0;31m---------------------------------------------------------------------------\u001b[0m",
            "\u001b[0;31mNameError\u001b[0m                                 Traceback (most recent call last)",
            "\u001b[0;32m<ipython-input-9-b1b0bb01cf41>\u001b[0m in \u001b[0;36m<module>\u001b[0;34m()\u001b[0m\n\u001b[0;32m----> 1\u001b[0;31m \u001b[0madd_list\u001b[0m\u001b[0;34m=\u001b[0m\u001b[0;34m[\u001b[0m\u001b[0mself\u001b[0m\u001b[0;34m.\u001b[0m\u001b[0minput1\u001b[0m\u001b[0;34m,\u001b[0m\u001b[0mself\u001b[0m\u001b[0;34m.\u001b[0m\u001b[0mout_expect1\u001b[0m\u001b[0;34m,\u001b[0m\u001b[0mself\u001b[0m\u001b[0;34m.\u001b[0m\u001b[0minput2\u001b[0m\u001b[0;34m,\u001b[0m\u001b[0mself\u001b[0m\u001b[0;34m.\u001b[0m\u001b[0mout_expect2\u001b[0m\u001b[0;34m]\u001b[0m\u001b[0;34m\u001b[0m\u001b[0;34m\u001b[0m\u001b[0m\n\u001b[0m\u001b[1;32m      2\u001b[0m \u001b[0madd_adfs\u001b[0m\u001b[0;34m(\u001b[0m\u001b[0madd_list\u001b[0m\u001b[0;34m)\u001b[0m\u001b[0;34m\u001b[0m\u001b[0;34m\u001b[0m\u001b[0m\n\u001b[1;32m      3\u001b[0m \u001b[0mSearch1Requirement\u001b[0m\u001b[0;34m(\u001b[0m\u001b[0mself\u001b[0m\u001b[0;34m.\u001b[0m\u001b[0minput1\u001b[0m\u001b[0;34m,\u001b[0m\u001b[0mself\u001b[0m\u001b[0;34m.\u001b[0m\u001b[0mout_expect1\u001b[0m\u001b[0;34m)\u001b[0m\u001b[0;34m\u001b[0m\u001b[0;34m\u001b[0m\u001b[0m\n\u001b[1;32m      4\u001b[0m \u001b[0mSearch1Requirement\u001b[0m\u001b[0;34m(\u001b[0m\u001b[0mself\u001b[0m\u001b[0;34m.\u001b[0m\u001b[0minput2\u001b[0m\u001b[0;34m,\u001b[0m\u001b[0mself\u001b[0m\u001b[0;34m.\u001b[0m\u001b[0mout_expect2\u001b[0m\u001b[0;34m)\u001b[0m\u001b[0;34m\u001b[0m\u001b[0;34m\u001b[0m\u001b[0m\n\u001b[1;32m      5\u001b[0m \u001b[0mSearch2RequirementsWithAnalysis\u001b[0m\u001b[0;34m(\u001b[0m\u001b[0minput1\u001b[0m\u001b[0;34m,\u001b[0m\u001b[0mout_expect1\u001b[0m\u001b[0;34m,\u001b[0m\u001b[0minput2\u001b[0m\u001b[0;34m,\u001b[0m\u001b[0mout_expect2\u001b[0m\u001b[0;34m,\u001b[0m\u001b[0mtimelimit\u001b[0m\u001b[0;34m=\u001b[0m\u001b[0mtimelimit\u001b[0m\u001b[0;34m,\u001b[0m\u001b[0minterval\u001b[0m\u001b[0;34m=\u001b[0m\u001b[0minterval\u001b[0m\u001b[0;34m)\u001b[0m\u001b[0;34m\u001b[0m\u001b[0;34m\u001b[0m\u001b[0m\n",
            "\u001b[0;31mNameError\u001b[0m: name 'self' is not defined"
          ]
        }
      ]
    },
    {
      "cell_type": "code",
      "metadata": {
        "id": "m0KR5Q1mUQLn"
      },
      "source": [
        "[(0,sum), (1, {'ele': '1'}), (2, {'ele': '1'}), (3, {'ele': '0'}), (4, {'ele': <function object_func at 0x7f37622a3680>}), (5, {'ele': <function div at 0x7f376ad45560>}), (6, {'ele': <function equal at 0x7f376ad45b90>}), (7, {'ele': <function control_not_gate at 0x7f376ad45e60>}), (8, {'ele': <function sum at 0x7f376ad45200>}), (9, {'ele': <function equal at 0x7f376ad45b90>, 'pos': 1}), (10, {'ele': <function sum at 0x7f376ad45200>, 'pos': 2}), (11, {'ele': '1'}), (12, {'ele': <function div at 0x7f376ad45560>}), (13, {'ele': <function object_func at 0x7f37622a3680>}), (14, {'ele': <function control_not_gate at 0x7f376ad45e60>})]\n",
        "[('in', 5, {'ele': '0'}), ('in', 6, {'ele': '0'}), (0, 8, {'ele': ''}), (0, 14, {'ele': ''}), (1, 0, {'ele': '1'}), (1, 6, {'ele': '1'}), (1, 7, {'ele': '1'}), (1, 8, {'ele': '1'}), (1, 14, {'ele': '1'}), (2, 8, {'ele': '1'}), (3, 0, {'ele': '0'}), (4, 0, {'ele': ''}), (5, 0, {'ele': '0'}), (5, 9, {'ele': ''}), (5, 10, {'ele': ''}), (6, 7, {'ele': '[FALSE]'}), (6, 9, {'ele': '[FALSE]'}), (7, 0, {'ele': '1'}), (7, 8, {'ele': '1'}), (7, 13, {'ele': '1'}), (8, 0, {'ele': ''}), (8, 4, {'ele': ''}), (9, 0, {'ele': ''}), (10, 0, {'ele': ''}), (10, 12, {'ele': ''}), (11, 0, {'ele': '1'}), (12, 0, {'ele': ''})]"
      ],
      "execution_count": null,
      "outputs": []
    },
    {
      "cell_type": "markdown",
      "metadata": {
        "id": "p29zCf60C3MI"
      },
      "source": [
        "# テスト"
      ]
    },
    {
      "cell_type": "code",
      "metadata": {
        "id": "sbyboX2eT2fP"
      },
      "source": [
        "num_nodes=10\n",
        "gnps=GNPStruct(num_nodes)\n",
        "gnps.Search2RequirementsWithAnalysis(\"0\",\"1\",\"1\",\"0\",timelimit=300,interval=60) # input1,out_expect1,input2,out_expect2"
      ],
      "execution_count": null,
      "outputs": []
    },
    {
      "cell_type": "code",
      "metadata": {
        "id": "rQlKAjRH6YCF",
        "colab": {
          "base_uri": "https://localhost:8080/"
        },
        "outputId": "472a12a2-b6f2-46c8-a9f1-867e50554090"
      },
      "source": [
        "gnps.node_body"
      ],
      "execution_count": null,
      "outputs": [
        {
          "output_type": "execute_result",
          "data": {
            "text/plain": [
              "[(0, <function __main__.GNPStruct.Search1Requirement.<locals>.<lambda>>),\n",
              " (1, <function __main__.pos>),\n",
              " (2, <function __main__.equal>),\n",
              " (3, '0'),\n",
              " (4, <function __main__.object_func>),\n",
              " (5, <function __main__.control_gate>),\n",
              " (6, <function __main__.div>),\n",
              " (7, <function __main__.GNPStruct.Search1Requirement.<locals>.<lambda>>),\n",
              " (8, '1'),\n",
              " (9, <function __main__.sum>),\n",
              " (10, <function __main__.object_func>),\n",
              " (11, <function __main__.GNPStruct.Search1Requirement.<locals>.<lambda>>),\n",
              " (12, <function __main__.div>),\n",
              " (13, <function __main__.div>),\n",
              " (14, '1')]"
            ]
          },
          "metadata": {
            "tags": []
          },
          "execution_count": 46
        }
      ]
    },
    {
      "cell_type": "code",
      "metadata": {
        "id": "XduDqdOt5lM9"
      },
      "source": [
        "printx.on()"
      ],
      "execution_count": null,
      "outputs": []
    },
    {
      "cell_type": "code",
      "metadata": {
        "id": "5sCZCuIRfsLa"
      },
      "source": [
        "gsptest=GraphStructuredProgram(\"0\",gnps.node_body,gnps.edge_struct)\n",
        "gsptest.run()"
      ],
      "execution_count": null,
      "outputs": []
    },
    {
      "cell_type": "code",
      "metadata": {
        "id": "xwidV8jyyXPK"
      },
      "source": [
        "node_body1=[(0,sum), (1,equal), (2, control_gate), (3,sum), (4, '1'), \n",
        "            (5,sum), (6,control_not_gate), (7, '0'), (8, '0'), (9,control_not_gate), \n",
        "            (10,object_func), (11, '1'), (12, sum), (13, pos), (14, control_not_gate)]\n",
        "edge_struct1=[(13, 0), (10, 0), (8, 0), (4, 0), (4, 1), \n",
        "              ('in', 1), (10, 2), (7, 2), (8, 3), (9, 3), \n",
        "              (0, 3), (2, 3), (10, 3), (8, 5), (7, 5), \n",
        "              (11, 5), ('in', 5), (11, 6), (2, 6), (10, 9), \n",
        "              (11, 9), (1, 10), (9, 12), (2, 12), (0, 12), \n",
        "              (7, 13), (11, 14), (2, 14)]\n",
        "gsptest=GraphStructuredProgram(\"0\",node_body1,edge_struct1)\n",
        "gsptest.run()"
      ],
      "execution_count": null,
      "outputs": []
    },
    {
      "cell_type": "code",
      "metadata": {
        "id": "539t4ule5tSv"
      },
      "source": [
        "printx.off()"
      ],
      "execution_count": null,
      "outputs": []
    },
    {
      "cell_type": "code",
      "metadata": {
        "id": "3faELWEdgBLv"
      },
      "source": [
        "gsptest=GraphStructuredProgram(\"0\",node_body1,edge_struct1)\n",
        "gsptest.run()"
      ],
      "execution_count": null,
      "outputs": []
    },
    {
      "cell_type": "code",
      "metadata": {
        "id": "iC3Mwor8Avgp"
      },
      "source": [
        "node_body2=[(0, '1'), (1, object_func), (2, equal), (3, '0'), (4, control_not_gate),\n",
        "            (5, control_not_gate), (6, control_gate), (7, '0'), (8, '1'), (9, equal), \n",
        "            (10, '1'), (11,sum), (12, sum), (13, '1'), (14, pos)]\n",
        "edge_struct2=[(5, 1), (4, 2), (9, 2), (9, 4), (13, 4),\n",
        "             (3, 5), ('in', 5), (9, 6), (7, 6), ('in', 9), \n",
        "             (13, 9), (1, 11), (14, 11), (4, 11), (4, 12), \n",
        "             (5, 12), (6, 12), (11, 14)]"
      ],
      "execution_count": null,
      "outputs": []
    },
    {
      "cell_type": "code",
      "metadata": {
        "id": "PhCfx-d1BgX4"
      },
      "source": [
        "gsptest=GraphStructuredProgram(\"1\",node_body2,edge_struct2)\n",
        "gsptest.run()"
      ],
      "execution_count": null,
      "outputs": []
    },
    {
      "cell_type": "code",
      "metadata": {
        "id": "EKjre-DrpDbe"
      },
      "source": [
        "[0,\"2\",\"\",\"3\",\"\",5].count(\"\")"
      ],
      "execution_count": null,
      "outputs": []
    },
    {
      "cell_type": "code",
      "metadata": {
        "id": "aAy6JOI8pR6G"
      },
      "source": [
        "\"\" in [0,\"2\",\"\",\"3\",\"\",5]"
      ],
      "execution_count": null,
      "outputs": []
    },
    {
      "cell_type": "code",
      "metadata": {
        "id": "FibO2ZwmpOK3"
      },
      "source": [
        "[0,\"2\",\"3\",5].count(\"\")"
      ],
      "execution_count": null,
      "outputs": []
    },
    {
      "cell_type": "code",
      "metadata": {
        "id": "hHpvudTMpW3l"
      },
      "source": [
        "\"\" in [0,\"2\",\"3\",5]"
      ],
      "execution_count": null,
      "outputs": []
    },
    {
      "cell_type": "code",
      "metadata": {
        "id": "foOqZUXD8bhV"
      },
      "source": [
        "gnps.node_body.append((10,\"0\"))"
      ],
      "execution_count": null,
      "outputs": []
    },
    {
      "cell_type": "code",
      "metadata": {
        "id": "FkptjY5m6y4n"
      },
      "source": [
        "list(map(type,[i for _,i in gnps.node_body]))"
      ],
      "execution_count": null,
      "outputs": []
    },
    {
      "cell_type": "code",
      "metadata": {
        "id": "fjBSchrA8IZN"
      },
      "source": [
        "list(map(callable,[i for _,i in gnps.node_body]))"
      ],
      "execution_count": null,
      "outputs": []
    },
    {
      "cell_type": "code",
      "metadata": {
        "id": "W0Xe_gwj9TzG"
      },
      "source": [
        "list(map(callable,[i for _,i in [('in', 'dummy'), (0, '0'), (1, '1'), (2, '0'), (3, '1'), (4, '1'), (5, '1'), (6, '1'), (7, '0'), (8, '0'), (9, '0'), (10, '1'), (11, '0'), (12, '0'), (13, '1'), (14, '0')]]))"
      ],
      "execution_count": null,
      "outputs": []
    },
    {
      "cell_type": "code",
      "metadata": {
        "id": "LTo_AHhT8MVd"
      },
      "source": [
        "False in map(callable,[i for _,i in gnps.node_body])"
      ],
      "execution_count": null,
      "outputs": []
    },
    {
      "cell_type": "code",
      "metadata": {
        "id": "vCsYBJbv9XbV"
      },
      "source": [
        "False in map(callable,[i for _,i in [('in', 'dummy'), (0, '0'), (1, '1'), (2, '0'), (3, '1'), (4, '1'), (5, '1'), (6, '1'), (7, '0'), (8, '0'), (9, '0'), (10, '1'), (11, '0'), (12, '0'), (13, '1'), (14, '0')]])"
      ],
      "execution_count": null,
      "outputs": []
    },
    {
      "cell_type": "code",
      "metadata": {
        "id": "XtmfovGf9fw9"
      },
      "source": [
        "True in map(callable,[i for _,i in gnps.node_body])"
      ],
      "execution_count": null,
      "outputs": []
    },
    {
      "cell_type": "code",
      "metadata": {
        "id": "0OEIelub8VpF"
      },
      "source": [
        "True in map(callable,[i for _,i in [('in', 'dummy'), (0, '0'), (1, '1'), (2, '0'), (3, '1'), (4, '1'), (5, '1'), (6, '1'), (7, '0'), (8, '0'), (9, '0'), (10, '1'), (11, '0'), (12, '0'), (13, '1'), (14, '0')]])"
      ],
      "execution_count": null,
      "outputs": []
    },
    {
      "cell_type": "code",
      "metadata": {
        "id": "tkDYt1374b2l"
      },
      "source": [
        "gsptest=GraphStructuredProgram(\"0\",[],[])"
      ],
      "execution_count": null,
      "outputs": []
    },
    {
      "cell_type": "code",
      "metadata": {
        "id": "S9X5D6BU6Gb-"
      },
      "source": [
        "gsptest.run()"
      ],
      "execution_count": null,
      "outputs": []
    },
    {
      "cell_type": "code",
      "metadata": {
        "id": "od6X8-LM2qEW"
      },
      "source": [
        "gnps.node_name_list"
      ],
      "execution_count": null,
      "outputs": []
    },
    {
      "cell_type": "code",
      "metadata": {
        "id": "XA2gBzcC0Afl"
      },
      "source": [
        "gnps.adfs_list"
      ],
      "execution_count": null,
      "outputs": []
    },
    {
      "cell_type": "code",
      "metadata": {
        "id": "Sr1dH5dZyGIV"
      },
      "source": [
        "add_list=[gnps.input1,gnps.out_expect1,gnps.input2,gnps.out_expect2]\n",
        "add_list"
      ],
      "execution_count": null,
      "outputs": []
    },
    {
      "cell_type": "code",
      "metadata": {
        "id": "HJ5Ax76myV3F"
      },
      "source": [
        "add_list[0] in gnps.adfs_list"
      ],
      "execution_count": null,
      "outputs": []
    },
    {
      "cell_type": "code",
      "metadata": {
        "id": "vrDAZwI0zd7d"
      },
      "source": [
        "add_list.append('2')\n",
        "add_list"
      ],
      "execution_count": null,
      "outputs": []
    },
    {
      "cell_type": "code",
      "metadata": {
        "id": "Qt1W0sH2yxaP"
      },
      "source": [
        "for node in add_list:\n",
        "    if not (node in gnps.adfs_list): # すでにadfsに登録されているものは追加しない\n",
        "        gnps.adfs_list.append(node)"
      ],
      "execution_count": null,
      "outputs": []
    },
    {
      "cell_type": "code",
      "metadata": {
        "id": "MQe0JSVjznhu"
      },
      "source": [
        "gnps.adfs_list"
      ],
      "execution_count": null,
      "outputs": []
    },
    {
      "cell_type": "code",
      "metadata": {
        "id": "2ZiGzVcAxxME",
        "colab": {
          "base_uri": "https://localhost:8080/"
        },
        "outputId": "0f064925-5f9c-49f9-daca-9f9b0553f9cc"
      },
      "source": [
        "gnps.node_body,gnps.edge_struct"
      ],
      "execution_count": null,
      "outputs": [
        {
          "output_type": "execute_result",
          "data": {
            "text/plain": [
              "([(0, <function __main__.GNPStruct.Search1Requirement.<locals>.<lambda>>),\n",
              "  (1, <function __main__.pos>),\n",
              "  (2, <function __main__.equal>),\n",
              "  (3, '0'),\n",
              "  (4, <function __main__.object_func>),\n",
              "  (5, <function __main__.control_gate>),\n",
              "  (6, <function __main__.div>),\n",
              "  (7, <function __main__.GNPStruct.Search1Requirement.<locals>.<lambda>>),\n",
              "  (8, '1'),\n",
              "  (9, <function __main__.sum>),\n",
              "  (10, <function __main__.object_func>),\n",
              "  (11, <function __main__.GNPStruct.Search1Requirement.<locals>.<lambda>>),\n",
              "  (12, <function __main__.div>),\n",
              "  (13, <function __main__.div>),\n",
              "  (14, '1')],\n",
              " [('in', 0),\n",
              "  (7, 1),\n",
              "  (6, 2),\n",
              "  (9, 2),\n",
              "  (13, 4),\n",
              "  (9, 5),\n",
              "  (8, 5),\n",
              "  (3, 6),\n",
              "  (4, 7),\n",
              "  (4, 9),\n",
              "  ('in', 9),\n",
              "  (7, 9),\n",
              "  (3, 9),\n",
              "  (10, 9),\n",
              "  (6, 9),\n",
              "  (14, 9),\n",
              "  (8, 9),\n",
              "  (13, 9),\n",
              "  (12, 9),\n",
              "  (0, 9),\n",
              "  (5, 9),\n",
              "  (11, 9),\n",
              "  (9, 10),\n",
              "  (4, 11),\n",
              "  (1, 12),\n",
              "  (3, 13)])"
            ]
          },
          "metadata": {
            "tags": []
          },
          "execution_count": 47
        }
      ]
    },
    {
      "cell_type": "code",
      "metadata": {
        "id": "bfS4OttxBTnm"
      },
      "source": [
        "gnps.clear1"
      ],
      "execution_count": null,
      "outputs": []
    },
    {
      "cell_type": "code",
      "metadata": {
        "id": "fC9gQFZDF8Hh"
      },
      "source": [
        "gnps.now_time-gnps.start_time"
      ],
      "execution_count": null,
      "outputs": []
    },
    {
      "cell_type": "code",
      "metadata": {
        "id": "YQX_12I5RD-j"
      },
      "source": [
        "gnps.edge_struct"
      ],
      "execution_count": null,
      "outputs": []
    },
    {
      "cell_type": "code",
      "metadata": {
        "id": "IU6ppT3OQfAY"
      },
      "source": [
        "[i for i,_ in gnps.edge_struct]"
      ],
      "execution_count": null,
      "outputs": []
    },
    {
      "cell_type": "code",
      "metadata": {
        "id": "K4f0_MJiSeLG"
      },
      "source": [
        "node_name_list=[i[0] for i in node_struct] # node_nameだけのリスト\n",
        "node_name_list"
      ],
      "execution_count": null,
      "outputs": []
    },
    {
      "cell_type": "code",
      "metadata": {
        "id": "xjSgGbl4IC0c"
      },
      "source": [
        "gnps.random_struct()\n",
        "gnps.node_body,gnps.edge_struct"
      ],
      "execution_count": null,
      "outputs": []
    },
    {
      "cell_type": "code",
      "metadata": {
        "id": "NVsTopMrBoC5"
      },
      "source": [
        "# 2条件プログラムの確認\n",
        "gnps.node_body=[(1,'0'),(2,'1'),(3,equal),(4,equal),(5,'1'),(6,'0'),(7,control_gate),(8,control_gate),(9,sum)]\n",
        "gnps.edge_struct=[('in',3),('in',4),(1,3),(2,4),(3,7),(4,8),(5,7),(6,8),(7,9),(8,9)]\n",
        "n=0\n",
        "while gnps.result1!=gnps.out_expect1 or result2!=gnps.out_expect2:\n",
        "    n+=1\n",
        "    #node_struct,edge_struct=random_struct(20) # 最初から与えておく\n",
        "    #print(node_struct)\n",
        "    #print(edge_struct)\n",
        "    gnps.gsp1=GraphStructuredProgram(gnps.input1,gnps.node_body,gnps.edge_struct)\n",
        "    gnps.result1=gnps.gsp1.run()\n",
        "    if gnps.result1!=gnps.out_expect1:\n",
        "        continue\n",
        "    #print(\"result1 is ok\")\n",
        "    gnps.gsp2=GraphStructuredProgram(gnps.input2,gnps.node_body,gnps.edge_struct)\n",
        "    result2=gnps.gsp2.run()\n",
        "\n",
        "gnps.gsp1.network_show()\n",
        "gnps.gsp2.network_show()\n",
        "gnps.node_body,gnps.edge_struct"
      ],
      "execution_count": null,
      "outputs": []
    },
    {
      "cell_type": "code",
      "metadata": {
        "id": "nUSS8EKvGKTJ"
      },
      "source": [
        "slacknotice.send(\"テスト\")"
      ],
      "execution_count": null,
      "outputs": []
    },
    {
      "cell_type": "code",
      "metadata": {
        "id": "is4CDBm1a35l"
      },
      "source": [
        "printx(\"a\")"
      ],
      "execution_count": null,
      "outputs": []
    },
    {
      "cell_type": "code",
      "metadata": {
        "id": "jbMYH5xrazem"
      },
      "source": [
        "class printx(): # ONのときだけ表示\n",
        "    message=\"\"\n",
        "    out_on=False\n",
        "    @classmethod\n",
        "    def on(cls):\n",
        "        cls.out_on=True\n",
        "    @classmethod\n",
        "    def off(cls):\n",
        "        cls.out_on=False\n",
        "    @classmethod\n",
        "    def out(cls,*args):\n",
        "        if cls.out_on:\n",
        "            print(*args)"
      ],
      "execution_count": null,
      "outputs": []
    },
    {
      "cell_type": "code",
      "metadata": {
        "id": "gu2eHhBSrLmG"
      },
      "source": [
        "printx.add(\"a\")"
      ],
      "execution_count": null,
      "outputs": []
    },
    {
      "cell_type": "code",
      "metadata": {
        "id": "f7LYIHzGrcVF"
      },
      "source": [
        "printx.add(\"b\",\"c\")"
      ],
      "execution_count": null,
      "outputs": []
    },
    {
      "cell_type": "code",
      "metadata": {
        "id": "PwNgeBB4rfDk"
      },
      "source": [
        "printx.out()"
      ],
      "execution_count": null,
      "outputs": []
    },
    {
      "cell_type": "code",
      "metadata": {
        "id": "faQuuOD9wZWa"
      },
      "source": [
        "printx.out_on=\"abc\""
      ],
      "execution_count": null,
      "outputs": []
    },
    {
      "cell_type": "code",
      "metadata": {
        "id": "vaD9pxhPwf27"
      },
      "source": [
        "printx.out_on"
      ],
      "execution_count": null,
      "outputs": []
    },
    {
      "cell_type": "code",
      "metadata": {
        "id": "XN_3LZ6jvoKM"
      },
      "source": [
        "printx.on()"
      ],
      "execution_count": null,
      "outputs": []
    },
    {
      "cell_type": "code",
      "metadata": {
        "id": "uixHbYeQvwDO"
      },
      "source": [
        "printx.out(\"abc\")"
      ],
      "execution_count": null,
      "outputs": []
    },
    {
      "cell_type": "code",
      "metadata": {
        "id": "3VUpQhf3xo-T"
      },
      "source": [
        "printx.off()"
      ],
      "execution_count": null,
      "outputs": []
    },
    {
      "cell_type": "markdown",
      "metadata": {
        "id": "WYDG9bvbyACE"
      },
      "source": [
        "## adfsテスト"
      ]
    },
    {
      "cell_type": "code",
      "metadata": {
        "colab": {
          "base_uri": "https://localhost:8080/"
        },
        "id": "htsgVumq5Q1k",
        "outputId": "96ba7b3b-3d35-48a9-c685-2808d0f29f16"
      },
      "source": [
        "gnps_adfs=lambda gn : adfs(gn,gnps.node_body,gnps.edge_struct)\n",
        "gnps_adfs"
      ],
      "execution_count": null,
      "outputs": [
        {
          "output_type": "execute_result",
          "data": {
            "text/plain": [
              "<function __main__.<lambda>>"
            ]
          },
          "metadata": {
            "tags": []
          },
          "execution_count": 55
        }
      ]
    },
    {
      "cell_type": "code",
      "metadata": {
        "colab": {
          "base_uri": "https://localhost:8080/",
          "height": 171
        },
        "id": "mOLuMn387G6s",
        "outputId": "bdcc353e-3ee6-4be2-9b19-d9d1d7995f13"
      },
      "source": [
        "gnps.node_body,gnps.edge_struct"
      ],
      "execution_count": null,
      "outputs": [
        {
          "output_type": "error",
          "ename": "AttributeError",
          "evalue": "ignored",
          "traceback": [
            "\u001b[0;31m---------------------------------------------------------------------------\u001b[0m",
            "\u001b[0;31mAttributeError\u001b[0m                            Traceback (most recent call last)",
            "\u001b[0;32m<ipython-input-94-7279637d2f64>\u001b[0m in \u001b[0;36m<module>\u001b[0;34m()\u001b[0m\n\u001b[0;32m----> 1\u001b[0;31m \u001b[0mgnps\u001b[0m\u001b[0;34m.\u001b[0m\u001b[0mnode_body\u001b[0m\u001b[0;34m,\u001b[0m\u001b[0mgnps\u001b[0m\u001b[0;34m.\u001b[0m\u001b[0medge_struct\u001b[0m\u001b[0;34m\u001b[0m\u001b[0;34m\u001b[0m\u001b[0m\n\u001b[0m",
            "\u001b[0;31mAttributeError\u001b[0m: 'GNPStruct' object has no attribute 'node_body'"
          ]
        }
      ]
    },
    {
      "cell_type": "code",
      "metadata": {
        "colab": {
          "base_uri": "https://localhost:8080/",
          "height": 1000
        },
        "id": "SnXn0sQr5iQI",
        "outputId": "6040b50b-2b8a-4af3-abde-a097b81b4c36"
      },
      "source": [
        "node_body=[(1,gnps_adfs)]\n",
        "edge_struct=[('in',1)]\n",
        "gsp=GraphStructuredProgram(\"0\",node_body,edge_struct)\n",
        "gsp.network_show()\n",
        "gsp.run()"
      ],
      "execution_count": null,
      "outputs": [
        {
          "output_type": "display_data",
          "data": {
            "image/png": "[encoded data removed]",
            "text/plain": [
              "<Figure size 432x288 with 1 Axes>"
            ]
          },
          "metadata": {
            "tags": []
          }
        },
        {
          "output_type": "stream",
          "text": [
            "node: in = 0\n",
            "next_node_list: [1]\n",
            "adfs input: 0\n",
            "node: in = 0\n",
            "next_node_list: [0, 9]\n",
            "adfs input: 0\n",
            "node: in = 0\n",
            "next_node_list: [0, 9]\n",
            "adfs input: 0\n",
            "node: in = 0\n",
            "next_node_list: [0, 9]\n",
            "adfs input: 0\n",
            "node: in = 0\n",
            "next_node_list: [0, 9]\n",
            "adfs input: 0\n",
            "node: in = 0\n",
            "next_node_list: [0, 9]\n",
            "adfs input: 0\n",
            "node: in = 0\n",
            "next_node_list: [0, 9]\n",
            "adfs input: 0\n",
            "node: in = 0\n",
            "next_node_list: [0, 9]\n",
            "adfs input: 0\n",
            "node: in = 0\n",
            "next_node_list: [0, 9]\n",
            "adfs input: 0\n",
            "node: in = 0\n",
            "next_node_list: [0, 9]\n",
            "adfs input: 0\n",
            "node: in = 0\n",
            "next_node_list: [0, 9]\n",
            "adfs input: 0\n",
            "node: in = 0\n",
            "next_node_list: [0, 9]\n",
            "adfs input: 0\n",
            "node: in = 0\n",
            "next_node_list: [0, 9]\n",
            "adfs input: 0\n",
            "node: in = 0\n",
            "next_node_list: [0, 9]\n",
            "adfs input: 0\n",
            "node: in = 0\n",
            "next_node_list: [0, 9]\n",
            "adfs input: 0\n",
            "node: in = 0\n",
            "next_node_list: [0, 9]\n",
            "adfs input: 0\n",
            "node: in = 0\n",
            "next_node_list: [0, 9]\n",
            "adfs input: 0\n",
            "node: in = 0\n",
            "next_node_list: [0, 9]\n",
            "adfs input: 0\n",
            "node: in = 0\n",
            "next_node_list: [0, 9]\n",
            "adfs input: 0\n",
            "node: in = 0\n",
            "next_node_list: [0, 9]\n",
            "adfs input: 0\n",
            "node: in = 0\n",
            "next_node_list: [0, 9]\n",
            "adfs input: 0\n",
            "node: in = 0\n",
            "next_node_list: [0, 9]\n",
            "adfs input: 0\n",
            "node: in = 0\n",
            "next_node_list: [0, 9]\n",
            "adfs input: 0\n",
            "node: in = 0\n",
            "next_node_list: [0, 9]\n",
            "adfs input: 0\n",
            "node: in = 0\n",
            "next_node_list: [0, 9]\n",
            "adfs input: 0\n",
            "node: in = 0\n",
            "next_node_list: [0, 9]\n",
            "adfs input: 0\n",
            "node: in = 0\n",
            "next_node_list: [0, 9]\n",
            "adfs input: 0\n",
            "node: in = 0\n",
            "next_node_list: [0, 9]\n",
            "adfs input: 0\n",
            "node: in = 0\n",
            "next_node_list: [0, 9]\n",
            "adfs input: 0\n",
            "node: in = 0\n",
            "next_node_list: [0, 9]\n",
            "adfs input: 0\n",
            "node: in = 0\n",
            "next_node_list: [0, 9]\n",
            "adfs input: 0\n",
            "node: in = 0\n",
            "next_node_list: [0, 9]\n",
            "adfs input: 0\n",
            "node: in = 0\n",
            "next_node_list: [0, 9]\n",
            "adfs input: 0\n",
            "node: in = 0\n",
            "next_node_list: [0, 9]\n",
            "adfs input: 0\n",
            "node: in = 0\n",
            "next_node_list: [0, 9]\n",
            "adfs input: 0\n",
            "node: in = 0\n",
            "next_node_list: [0, 9]\n",
            "adfs input: 0\n",
            "node: in = 0\n",
            "next_node_list: [0, 9]\n",
            "adfs input: 0\n",
            "node: in = 0\n",
            "next_node_list: [0, 9]\n",
            "adfs input: 0\n",
            "node: in = 0\n",
            "next_node_list: [0, 9]\n",
            "adfs input: 0\n",
            "node: in = 0\n",
            "next_node_list: [0, 9]\n",
            "adfs input: 0\n",
            "node: in = 0\n",
            "next_node_list: [0, 9]\n",
            "adfs input: 0\n",
            "node: in = 0\n",
            "next_node_list: [0, 9]\n",
            "adfs input: 0\n",
            "node: in = 0\n",
            "next_node_list: [0, 9]\n",
            "adfs input: 0\n",
            "node: in = 0\n",
            "next_node_list: [0, 9]\n",
            "adfs input: 0\n",
            "node: in = 0\n",
            "next_node_list: [0, 9]\n",
            "adfs input: 0\n",
            "node: in = 0\n",
            "next_node_list: [0, 9]\n",
            "adfs input: 0\n",
            "node: in = 0\n",
            "next_node_list: [0, 9]\n",
            "adfs input: 0\n",
            "node: in = 0\n",
            "next_node_list: [0, 9]\n",
            "adfs input: 0\n",
            "node: in = 0\n",
            "next_node_list: [0, 9]\n",
            "adfs input: 0\n",
            "node: in = 0\n",
            "next_node_list: [0, 9]\n",
            "adfs input: 0\n",
            "node: in = 0\n",
            "next_node_list: [0, 9]\n",
            "adfs input: 0\n",
            "node: in = 0\n",
            "next_node_list: [0, 9]\n",
            "adfs input: 0\n",
            "node: in = 0\n",
            "next_node_list: [0, 9]\n",
            "adfs input: 0\n",
            "node: in = 0\n",
            "next_node_list: [0, 9]\n",
            "adfs input: 0\n",
            "node: in = 0\n",
            "next_node_list: [0, 9]\n",
            "adfs input: 0\n",
            "node: in = 0\n",
            "next_node_list: [0, 9]\n",
            "adfs input: 0\n",
            "node: in = 0\n",
            "next_node_list: [0, 9]\n",
            "adfs input: 0\n",
            "node: in = 0\n",
            "next_node_list: [0, 9]\n",
            "adfs input: 0\n",
            "node: in = 0\n",
            "next_node_list: [0, 9]\n",
            "adfs input: 0\n",
            "node: in = 0\n",
            "next_node_list: [0, 9]\n",
            "adfs input: 0\n",
            "node: in = 0\n",
            "next_node_list: [0, 9]\n",
            "adfs input: 0\n",
            "node: in = 0\n",
            "next_node_list: [0, 9]\n",
            "adfs input: 0\n",
            "node: in = 0\n",
            "next_node_list: [0, 9]\n",
            "adfs input: 0\n",
            "node: in = 0\n",
            "next_node_list: [0, 9]\n",
            "adfs input: 0\n",
            "node: in = 0\n",
            "next_node_list: [0, 9]\n",
            "adfs input: 0\n",
            "node: in = 0\n",
            "next_node_list: [0, 9]\n",
            "adfs input: 0\n",
            "node: in = 0\n",
            "next_node_list: [0, 9]\n",
            "adfs input: 0\n",
            "node: in = 0\n",
            "next_node_list: [0, 9]\n",
            "adfs input: 0\n",
            "node: in = 0\n",
            "next_node_list: [0, 9]\n",
            "adfs input: 0\n",
            "node: in = 0\n",
            "next_node_list: [0, 9]\n",
            "adfs input: 0\n",
            "node: in = 0\n",
            "next_node_list: [0, 9]\n",
            "adfs input: 0\n",
            "node: in = 0\n",
            "next_node_list: [0, 9]\n",
            "adfs input: 0\n",
            "node: in = 0\n",
            "next_node_list: [0, 9]\n",
            "adfs input: 0\n",
            "node: in = 0\n",
            "next_node_list: [0, 9]\n",
            "adfs input: 0\n",
            "node: in = 0\n",
            "next_node_list: [0, 9]\n",
            "adfs input: 0\n",
            "node: in = 0\n",
            "next_node_list: [0, 9]\n",
            "adfs input: 0\n",
            "node: in = 0\n",
            "next_node_list: [0, 9]\n",
            "adfs input: 0\n",
            "node: in = 0\n",
            "next_node_list: [0, 9]\n",
            "adfs input: 0\n",
            "node: in = 0\n",
            "next_node_list: [0, 9]\n",
            "adfs input: 0\n",
            "node: in = 0\n",
            "next_node_list: [0, 9]\n",
            "adfs input: 0\n",
            "node: in = 0\n",
            "next_node_list: [0, 9]\n",
            "adfs input: 0\n",
            "node: in = 0\n",
            "next_node_list: [0, 9]\n",
            "adfs input: 0\n",
            "node: in = 0\n",
            "next_node_list: [0, 9]\n",
            "adfs input: 0\n",
            "node: in = 0\n",
            "next_node_list: [0, 9]\n",
            "adfs input: 0\n",
            "node: in = 0\n",
            "next_node_list: [0, 9]\n",
            "adfs input: 0\n",
            "node: in = 0\n",
            "next_node_list: [0, 9]\n",
            "adfs input: 0\n",
            "node: in = 0\n",
            "next_node_list: [0, 9]\n",
            "adfs input: 0\n",
            "node: in = 0\n",
            "next_node_list: [0, 9]\n",
            "adfs input: 0\n",
            "node: in = 0\n",
            "next_node_list: [0, 9]\n",
            "adfs input: 0\n",
            "node: in = 0\n",
            "next_node_list: [0, 9]\n",
            "adfs input: 0\n",
            "node: in = 0\n",
            "next_node_list: [0, 9]\n",
            "adfs input: 0\n",
            "node: in = 0\n",
            "next_node_list: [0, 9]\n",
            "adfs input: 0\n",
            "node: in = 0\n",
            "next_node_list: [0, 9]\n",
            "adfs input: 0\n",
            "node: in = 0\n",
            "next_node_list: [0, 9]\n",
            "adfs input: 0\n",
            "node: in = 0\n",
            "next_node_list: [0, 9]\n",
            "adfs input: 0\n",
            "node: in = 0\n",
            "next_node_list: [0, 9]\n",
            "adfs input: 0\n",
            "node: in = 0\n",
            "next_node_list: [0, 9]\n",
            "adfs input: 0\n",
            "node: in = 0\n",
            "next_node_list: [0, 9]\n",
            "adfs input: 0\n",
            "node: in = 0\n",
            "next_node_list: [0, 9]\n",
            "adfs input: 0\n",
            "node: in = 0\n",
            "next_node_list: [0, 9]\n",
            "adfs input: 0\n",
            "node: in = 0\n",
            "next_node_list: [0, 9]\n",
            "adfs input: 0\n",
            "node: in = 0\n",
            "next_node_list: [0, 9]\n",
            "adfs input: 0\n",
            "node: in = 0\n",
            "next_node_list: [0, 9]\n",
            "adfs input: 0\n",
            "node: in = 0\n",
            "next_node_list: [0, 9]\n",
            "adfs input: 0\n",
            "node: in = 0\n",
            "next_node_list: [0, 9]\n",
            "adfs input: 0\n",
            "node: in = 0\n",
            "next_node_list: [0, 9]\n",
            "adfs input: 0\n",
            "node: in = 0\n",
            "next_node_list: [0, 9]\n",
            "adfs input: 0\n",
            "node: in = 0\n",
            "next_node_list: [0, 9]\n",
            "adfs input: 0\n",
            "node: in = 0\n",
            "next_node_list: [0, 9]\n",
            "adfs input: 0\n",
            "node: in = 0\n",
            "next_node_list: [0, 9]\n",
            "adfs input: 0\n",
            "node: in = 0\n",
            "next_node_list: [0, 9]\n",
            "adfs input: 0\n",
            "node: in = 0\n",
            "next_node_list: [0, 9]\n",
            "adfs input: 0\n",
            "node: in = 0\n",
            "next_node_list: [0, 9]\n",
            "adfs input: 0\n",
            "node: in = 0\n",
            "next_node_list: [0, 9]\n",
            "adfs input: 0\n",
            "node: in = 0\n",
            "next_node_list: [0, 9]\n",
            "adfs input: 0\n",
            "node: in = 0\n",
            "next_node_list: [0, 9]\n",
            "adfs input: 0\n",
            "node: in = 0\n",
            "next_node_list: [0, 9]\n",
            "adfs input: 0\n",
            "node: in = 0\n",
            "next_node_list: [0, 9]\n",
            "adfs input: 0\n",
            "node: in = 0\n",
            "next_node_list: [0, 9]\n",
            "adfs input: 0\n",
            "node: in = 0\n",
            "next_node_list: [0, 9]\n",
            "adfs input: 0\n",
            "node: in = 0\n",
            "next_node_list: [0, 9]\n",
            "adfs input: 0\n",
            "node: in = 0\n",
            "next_node_list: [0, 9]\n",
            "adfs input: 0\n",
            "node: in = 0\n",
            "next_node_list: [0, 9]\n",
            "adfs input: 0\n",
            "node: in = 0\n",
            "next_node_list: [0, 9]\n",
            "adfs input: 0\n",
            "node: in = 0\n",
            "next_node_list: [0, 9]\n",
            "adfs input: 0\n",
            "node: in = 0\n",
            "next_node_list: [0, 9]\n",
            "adfs input: 0\n",
            "node: in = 0\n",
            "next_node_list: [0, 9]\n",
            "adfs input: 0\n",
            "node: in = 0\n",
            "next_node_list: [0, 9]\n",
            "adfs input: 0\n",
            "node: in = 0\n",
            "next_node_list: [0, 9]\n",
            "adfs input: 0\n",
            "node: in = 0\n",
            "next_node_list: [0, 9]\n",
            "adfs input: 0\n",
            "node: in = 0\n",
            "next_node_list: [0, 9]\n",
            "adfs input: 0\n",
            "node: in = 0\n",
            "next_node_list: [0, 9]\n",
            "adfs input: 0\n",
            "node: in = 0\n",
            "next_node_list: [0, 9]\n",
            "adfs input: 0\n",
            "node: in = 0\n",
            "next_node_list: [0, 9]\n",
            "adfs input: 0\n",
            "node: in = 0\n",
            "next_node_list: [0, 9]\n",
            "adfs input: 0\n",
            "node: in = 0\n",
            "next_node_list: [0, 9]\n",
            "adfs input: 0\n",
            "node: in = 0\n",
            "next_node_list: [0, 9]\n",
            "adfs input: 0\n",
            "node: in = 0\n",
            "next_node_list: [0, 9]\n",
            "adfs input: 0\n",
            "node: in = 0\n",
            "next_node_list: [0, 9]\n",
            "adfs input: 0\n",
            "node: in = 0\n",
            "next_node_list: [0, 9]\n",
            "adfs input: 0\n",
            "node: in = 0\n",
            "next_node_list: [0, 9]\n",
            "adfs input: 0\n",
            "node: in = 0\n",
            "next_node_list: [0, 9]\n",
            "adfs input: 0\n",
            "node: in = 0\n",
            "next_node_list: [0, 9]\n",
            "adfs input: 0\n",
            "node: in = 0\n",
            "next_node_list: [0, 9]\n",
            "adfs input: 0\n",
            "node: in = 0\n",
            "next_node_list: [0, 9]\n",
            "adfs input: 0\n",
            "node: in = 0\n",
            "next_node_list: [0, 9]\n",
            "adfs input: 0\n",
            "node: in = 0\n",
            "next_node_list: [0, 9]\n",
            "adfs input: 0\n",
            "node: in = 0\n",
            "next_node_list: [0, 9]\n",
            "adfs input: 0\n",
            "node: in = 0\n",
            "next_node_list: [0, 9]\n",
            "adfs input: 0\n",
            "node: in = 0\n",
            "next_node_list: [0, 9]\n",
            "adfs input: 0\n",
            "node: in = 0\n",
            "next_node_list: [0, 9]\n",
            "adfs input: 0\n",
            "node: in = 0\n",
            "next_node_list: [0, 9]\n",
            "adfs input: 0\n",
            "node: in = 0\n",
            "next_node_list: [0, 9]\n",
            "adfs input: 0\n",
            "node: in = 0\n",
            "next_node_list: [0, 9]\n",
            "adfs input: 0\n",
            "node: in = 0\n",
            "next_node_list: [0, 9]\n",
            "adfs input: 0\n",
            "node: in = 0\n",
            "next_node_list: [0, 9]\n",
            "adfs input: 0\n",
            "node: in = 0\n",
            "next_node_list: [0, 9]\n",
            "adfs input: 0\n",
            "node: in = 0\n",
            "next_node_list: [0, 9]\n",
            "adfs input: 0\n",
            "node: in = 0\n",
            "next_node_list: [0, 9]\n",
            "adfs input: 0\n",
            "node: in = 0\n",
            "next_node_list: [0, 9]\n",
            "adfs input: 0\n",
            "node: in = 0\n",
            "next_node_list: [0, 9]\n",
            "adfs input: 0\n",
            "node: in = 0\n",
            "next_node_list: [0, 9]\n",
            "adfs input: 0\n",
            "node: in = 0\n",
            "next_node_list: [0, 9]\n",
            "adfs input: 0\n",
            "node: in = 0\n",
            "next_node_list: [0, 9]\n",
            "adfs input: 0\n",
            "node: in = 0\n",
            "next_node_list: [0, 9]\n",
            "adfs input: 0\n",
            "node: in = 0\n",
            "next_node_list: [0, 9]\n",
            "adfs input: 0\n",
            "node: in = 0\n",
            "next_node_list: [0, 9]\n",
            "adfs input: 0\n",
            "node: in = 0\n",
            "next_node_list: [0, 9]\n",
            "adfs input: 0\n",
            "node: in = 0\n",
            "next_node_list: [0, 9]\n",
            "adfs input: 0\n",
            "node: in = 0\n",
            "next_node_list: [0, 9]\n",
            "adfs input: 0\n",
            "node: in = 0\n",
            "next_node_list: [0, 9]\n",
            "adfs input: 0\n",
            "node: in = 0\n",
            "next_node_list: [0, 9]\n",
            "adfs input: 0\n",
            "node: in = 0\n",
            "next_node_list: [0, 9]\n",
            "adfs input: 0\n",
            "node: in = 0\n",
            "next_node_list: [0, 9]\n",
            "adfs input: 0\n",
            "node: in = 0\n",
            "next_node_list: [0, 9]\n",
            "adfs input: 0\n",
            "node: in = 0\n",
            "next_node_list: [0, 9]\n",
            "adfs input: 0\n",
            "node: in = 0\n",
            "next_node_list: [0, 9]\n",
            "adfs input: 0\n",
            "node: in = 0\n",
            "next_node_list: [0, 9]\n",
            "adfs input: 0\n",
            "node: in = 0\n",
            "next_node_list: [0, 9]\n",
            "adfs input: 0\n",
            "node: in = 0\n",
            "next_node_list: [0, 9]\n",
            "adfs input: 0\n",
            "node: in = 0\n",
            "next_node_list: [0, 9]\n",
            "adfs input: 0\n",
            "node: in = 0\n",
            "next_node_list: [0, 9]\n",
            "adfs input: 0\n",
            "node: in = 0\n",
            "next_node_list: [0, 9]\n",
            "adfs input: 0\n",
            "node: in = 0\n",
            "next_node_list: [0, 9]\n",
            "adfs input: 0\n",
            "node: in = 0\n",
            "next_node_list: [0, 9]\n",
            "adfs input: 0\n",
            "node: in = 0\n",
            "next_node_list: [0, 9]\n",
            "adfs input: 0\n",
            "node: in = 0\n",
            "next_node_list: [0, 9]\n",
            "adfs input: 0\n",
            "node: in = 0\n",
            "next_node_list: [0, 9]\n",
            "adfs input: 0\n",
            "node: in = 0\n",
            "next_node_list: [0, 9]\n",
            "adfs input: 0\n",
            "node: in = 0\n",
            "next_node_list: [0, 9]\n",
            "adfs input: 0\n",
            "node: in = 0\n",
            "next_node_list: [0, 9]\n",
            "adfs input: 0\n",
            "node: in = 0\n",
            "next_node_list: [0, 9]\n",
            "adfs input: 0\n",
            "node: in = 0\n",
            "next_node_list: [0, 9]\n",
            "adfs input: 0\n",
            "node: in = 0\n",
            "next_node_list: [0, 9]\n",
            "adfs input: 0\n",
            "node: in = 0\n",
            "next_node_list: [0, 9]\n",
            "adfs input: 0\n",
            "node: in = 0\n",
            "next_node_list: [0, 9]\n",
            "adfs input: 0\n",
            "node: in = 0\n",
            "next_node_list: [0, 9]\n",
            "adfs input: 0\n",
            "node: in = 0\n",
            "next_node_list: [0, 9]\n",
            "adfs input: 0\n",
            "node: in = 0\n",
            "next_node_list: [0, 9]\n",
            "adfs input: 0\n",
            "node: in = 0\n",
            "next_node_list: [0, 9]\n",
            "adfs input: 0\n",
            "node: in = 0\n",
            "next_node_list: [0, 9]\n",
            "adfs input: 0\n",
            "node: in = 0\n",
            "next_node_list: [0, 9]\n",
            "adfs input: 0\n",
            "node: in = 0\n",
            "next_node_list: [0, 9]\n",
            "adfs input: 0\n",
            "node: in = 0\n",
            "next_node_list: [0, 9]\n",
            "adfs input: 0\n",
            "node: in = 0\n",
            "next_node_list: [0, 9]\n",
            "adfs input: 0\n",
            "node: in = 0\n",
            "next_node_list: [0, 9]\n",
            "adfs input: 0\n",
            "node: in = 0\n",
            "next_node_list: [0, 9]\n",
            "adfs input: 0\n",
            "node: in = 0\n",
            "next_node_list: [0, 9]\n",
            "adfs input: 0\n",
            "node: in = 0\n",
            "next_node_list: [0, 9]\n",
            "adfs input: 0\n",
            "node: in = 0\n",
            "next_node_list: [0, 9]\n",
            "adfs input: 0\n",
            "node: in = 0\n",
            "next_node_list: [0, 9]\n",
            "adfs input: 0\n",
            "node: in = 0\n",
            "next_node_list: [0, 9]\n",
            "adfs input: 0\n",
            "node: in = 0\n",
            "next_node_list: [0, 9]\n",
            "adfs input: 0\n",
            "node: in = 0\n",
            "next_node_list: [0, 9]\n",
            "adfs input: 0\n",
            "node: in = 0\n",
            "next_node_list: [0, 9]\n",
            "adfs input: 0\n",
            "node: in = 0\n",
            "next_node_list: [0, 9]\n",
            "adfs input: 0\n",
            "node: in = 0\n",
            "next_node_list: [0, 9]\n",
            "adfs input: 0\n",
            "node: in = 0\n",
            "next_node_list: [0, 9]\n",
            "adfs input: 0\n",
            "node: in = 0\n",
            "next_node_list: [0, 9]\n",
            "adfs input: 0\n",
            "node: in = 0\n",
            "next_node_list: [0, 9]\n",
            "adfs input: 0\n",
            "node: in = 0\n",
            "next_node_list: [0, 9]\n",
            "adfs input: 0\n",
            "node: in = 0\n",
            "next_node_list: [0, 9]\n",
            "adfs input: 0\n",
            "node: in = 0\n",
            "next_node_list: [0, 9]\n",
            "adfs input: 0\n",
            "node: in = 0\n",
            "next_node_list: [0, 9]\n",
            "adfs input: 0\n",
            "node: in = 0\n",
            "next_node_list: [0, 9]\n",
            "adfs input: 0\n",
            "node: in = 0\n",
            "next_node_list: [0, 9]\n",
            "adfs input: 0\n",
            "node: in = 0\n",
            "next_node_list: [0, 9]\n",
            "adfs input: 0\n",
            "node: in = 0\n",
            "next_node_list: [0, 9]\n",
            "adfs input: 0\n",
            "node: in = 0\n",
            "next_node_list: [0, 9]\n",
            "adfs input: 0\n",
            "node: in = 0\n",
            "next_node_list: [0, 9]\n",
            "adfs input: 0\n",
            "node: in = 0\n",
            "next_node_list: [0, 9]\n",
            "adfs input: 0\n",
            "node: in = 0\n",
            "next_node_list: [0, 9]\n",
            "adfs input: 0\n",
            "node: in = 0\n",
            "next_node_list: [0, 9]\n",
            "adfs input: 0\n",
            "node: in = 0\n",
            "next_node_list: [0, 9]\n",
            "adfs input: 0\n",
            "node: in = 0\n",
            "next_node_list: [0, 9]\n",
            "adfs input: 0\n",
            "node: in = 0\n",
            "next_node_list: [0, 9]\n",
            "adfs input: 0\n",
            "node: in = 0\n",
            "next_node_list: [0, 9]\n",
            "adfs input: 0\n",
            "node: in = 0\n",
            "next_node_list: [0, 9]\n",
            "adfs input: 0\n",
            "node: in = 0\n",
            "next_node_list: [0, 9]\n",
            "adfs input: 0\n",
            "node: in = 0\n",
            "next_node_list: [0, 9]\n",
            "adfs input: 0\n"
          ],
          "name": "stdout"
        },
        {
          "output_type": "error",
          "ename": "RecursionError",
          "evalue": "ignored",
          "traceback": [
            "\u001b[0;31m---------------------------------------------------------------------------\u001b[0m",
            "\u001b[0;31mRecursionError\u001b[0m                            Traceback (most recent call last)",
            "\u001b[0;32m<ipython-input-54-f3702de47acb>\u001b[0m in \u001b[0;36m<module>\u001b[0;34m()\u001b[0m\n\u001b[1;32m      3\u001b[0m \u001b[0mgsp\u001b[0m\u001b[0;34m=\u001b[0m\u001b[0mGraphStructuredProgram\u001b[0m\u001b[0;34m(\u001b[0m\u001b[0;34m\"0\"\u001b[0m\u001b[0;34m,\u001b[0m\u001b[0mnode_body\u001b[0m\u001b[0;34m,\u001b[0m\u001b[0medge_struct\u001b[0m\u001b[0;34m)\u001b[0m\u001b[0;34m\u001b[0m\u001b[0;34m\u001b[0m\u001b[0m\n\u001b[1;32m      4\u001b[0m \u001b[0mgsp\u001b[0m\u001b[0;34m.\u001b[0m\u001b[0mnetwork_show\u001b[0m\u001b[0;34m(\u001b[0m\u001b[0;34m)\u001b[0m\u001b[0;34m\u001b[0m\u001b[0;34m\u001b[0m\u001b[0m\n\u001b[0;32m----> 5\u001b[0;31m \u001b[0mgsp\u001b[0m\u001b[0;34m.\u001b[0m\u001b[0mrun\u001b[0m\u001b[0;34m(\u001b[0m\u001b[0;34m)\u001b[0m\u001b[0;34m\u001b[0m\u001b[0;34m\u001b[0m\u001b[0m\n\u001b[0m",
            "\u001b[0;32m<ipython-input-21-c7337e57b2cc>\u001b[0m in \u001b[0;36mrun\u001b[0;34m(self)\u001b[0m\n\u001b[1;32m    295\u001b[0m         \u001b[0mprintx\u001b[0m\u001b[0;34m.\u001b[0m\u001b[0mout\u001b[0m\u001b[0;34m(\u001b[0m\u001b[0;34m\"next_node_list:\"\u001b[0m\u001b[0;34m,\u001b[0m\u001b[0mnext_node_list\u001b[0m\u001b[0;34m)\u001b[0m\u001b[0;34m\u001b[0m\u001b[0;34m\u001b[0m\u001b[0m\n\u001b[1;32m    296\u001b[0m         \u001b[0;32mwhile\u001b[0m \u001b[0mnext_node_list\u001b[0m\u001b[0;34m!=\u001b[0m\u001b[0;34m[\u001b[0m\u001b[0;34m]\u001b[0m\u001b[0;34m:\u001b[0m\u001b[0;34m\u001b[0m\u001b[0;34m\u001b[0m\u001b[0m\n\u001b[0;32m--> 297\u001b[0;31m             \u001b[0mnext_node_list\u001b[0m\u001b[0;34m=\u001b[0m\u001b[0mself\u001b[0m\u001b[0;34m.\u001b[0m\u001b[0mrun_tick\u001b[0m\u001b[0;34m(\u001b[0m\u001b[0mnext_node_list\u001b[0m\u001b[0;34m)\u001b[0m\u001b[0;34m\u001b[0m\u001b[0;34m\u001b[0m\u001b[0m\n\u001b[0m\u001b[1;32m    298\u001b[0m             \u001b[0;32mif\u001b[0m \u001b[0mtype\u001b[0m\u001b[0;34m(\u001b[0m\u001b[0mnext_node_list\u001b[0m\u001b[0;34m)\u001b[0m\u001b[0;34m==\u001b[0m\u001b[0mint\u001b[0m\u001b[0;34m:\u001b[0m \u001b[0;32mreturn\u001b[0m \u001b[0mnext_node_list\u001b[0m\u001b[0;34m\u001b[0m\u001b[0;34m\u001b[0m\u001b[0m\n\u001b[1;32m    299\u001b[0m         \u001b[0;32mreturn\u001b[0m \u001b[0mself\u001b[0m\u001b[0;34m.\u001b[0m\u001b[0moutput\u001b[0m\u001b[0;34m\u001b[0m\u001b[0;34m\u001b[0m\u001b[0m\n",
            "\u001b[0;32m<ipython-input-21-c7337e57b2cc>\u001b[0m in \u001b[0;36mrun_tick\u001b[0;34m(self, node_list)\u001b[0m\n\u001b[1;32m    273\u001b[0m                 \u001b[0mresult\u001b[0m\u001b[0;34m=\u001b[0m\u001b[0;34m\"inputs are not calculated yet: skip\"\u001b[0m\u001b[0;34m\u001b[0m\u001b[0;34m\u001b[0m\u001b[0m\n\u001b[1;32m    274\u001b[0m             \u001b[0;32melse\u001b[0m\u001b[0;34m:\u001b[0m\u001b[0;34m\u001b[0m\u001b[0;34m\u001b[0m\u001b[0m\n\u001b[0;32m--> 275\u001b[0;31m                 \u001b[0mresult\u001b[0m\u001b[0;34m=\u001b[0m\u001b[0mgn\u001b[0m\u001b[0;34m.\u001b[0m\u001b[0mele\u001b[0m\u001b[0;34m(\u001b[0m\u001b[0mgn\u001b[0m\u001b[0;34m)\u001b[0m\u001b[0;34m\u001b[0m\u001b[0;34m\u001b[0m\u001b[0m\n\u001b[0m\u001b[1;32m    276\u001b[0m                 \u001b[0;32mif\u001b[0m \u001b[0mgn\u001b[0m\u001b[0;34m.\u001b[0m\u001b[0mout_deg\u001b[0m\u001b[0;34m==\u001b[0m\u001b[0;36m0\u001b[0m\u001b[0;34m:\u001b[0m\u001b[0;34m\u001b[0m\u001b[0;34m\u001b[0m\u001b[0m\n\u001b[1;32m    277\u001b[0m                     \u001b[0mprintx\u001b[0m\u001b[0;34m.\u001b[0m\u001b[0mout\u001b[0m\u001b[0;34m(\u001b[0m\u001b[0;34m\"This is end node\"\u001b[0m\u001b[0;34m)\u001b[0m\u001b[0;34m\u001b[0m\u001b[0;34m\u001b[0m\u001b[0m\n",
            "\u001b[0;32m<ipython-input-53-8315f9336f1c>\u001b[0m in \u001b[0;36m<lambda>\u001b[0;34m(gn_adfs)\u001b[0m\n\u001b[0;32m----> 1\u001b[0;31m \u001b[0mgnps_adfs\u001b[0m\u001b[0;34m=\u001b[0m\u001b[0;32mlambda\u001b[0m \u001b[0mgn_adfs\u001b[0m \u001b[0;34m:\u001b[0m \u001b[0madfs\u001b[0m\u001b[0;34m(\u001b[0m\u001b[0mgn_adfs\u001b[0m\u001b[0;34m,\u001b[0m\u001b[0mgnps\u001b[0m\u001b[0;34m.\u001b[0m\u001b[0mnode_body\u001b[0m\u001b[0;34m,\u001b[0m\u001b[0mgnps\u001b[0m\u001b[0;34m.\u001b[0m\u001b[0medge_struct\u001b[0m\u001b[0;34m)\u001b[0m\u001b[0;34m\u001b[0m\u001b[0;34m\u001b[0m\u001b[0m\n\u001b[0m\u001b[1;32m      2\u001b[0m \u001b[0mgnps_adfs\u001b[0m\u001b[0;34m\u001b[0m\u001b[0;34m\u001b[0m\u001b[0m\n",
            "\u001b[0;32m<ipython-input-17-51ccc16aff8e>\u001b[0m in \u001b[0;36madfs\u001b[0;34m(gn, node_body, edge_struct)\u001b[0m\n\u001b[1;32m     16\u001b[0m             \u001b[0;31m#gsp=GraphStructuredProgram(input,node_struct,edge_struct)\u001b[0m\u001b[0;34m\u001b[0m\u001b[0;34m\u001b[0m\u001b[0;34m\u001b[0m\u001b[0m\n\u001b[1;32m     17\u001b[0m             \u001b[0mgsp\u001b[0m\u001b[0;34m=\u001b[0m\u001b[0mGraphStructuredProgram\u001b[0m\u001b[0;34m(\u001b[0m\u001b[0minput\u001b[0m\u001b[0;34m,\u001b[0m\u001b[0mnode_body\u001b[0m\u001b[0;34m,\u001b[0m\u001b[0medge_struct\u001b[0m\u001b[0;34m)\u001b[0m\u001b[0;34m\u001b[0m\u001b[0;34m\u001b[0m\u001b[0m\n\u001b[0;32m---> 18\u001b[0;31m             \u001b[0mout\u001b[0m\u001b[0;34m=\u001b[0m\u001b[0mgsp\u001b[0m\u001b[0;34m.\u001b[0m\u001b[0mrun\u001b[0m\u001b[0;34m(\u001b[0m\u001b[0;34m)\u001b[0m\u001b[0;34m\u001b[0m\u001b[0;34m\u001b[0m\u001b[0m\n\u001b[0m\u001b[1;32m     19\u001b[0m             \u001b[0mout_list\u001b[0m\u001b[0;34m.\u001b[0m\u001b[0mappend\u001b[0m\u001b[0;34m(\u001b[0m\u001b[0mout\u001b[0m\u001b[0;34m)\u001b[0m\u001b[0;34m\u001b[0m\u001b[0;34m\u001b[0m\u001b[0m\n\u001b[1;32m     20\u001b[0m         \u001b[0;32mif\u001b[0m \u001b[0;34m(\u001b[0m\u001b[0mlen\u001b[0m\u001b[0;34m(\u001b[0m\u001b[0mout_list\u001b[0m\u001b[0;34m)\u001b[0m\u001b[0;34m==\u001b[0m\u001b[0;36m1\u001b[0m\u001b[0;34m)\u001b[0m\u001b[0;34m:\u001b[0m\u001b[0;34m\u001b[0m\u001b[0;34m\u001b[0m\u001b[0m\n",
            "\u001b[0;32m<ipython-input-21-c7337e57b2cc>\u001b[0m in \u001b[0;36mrun\u001b[0;34m(self)\u001b[0m\n\u001b[1;32m    295\u001b[0m         \u001b[0mprintx\u001b[0m\u001b[0;34m.\u001b[0m\u001b[0mout\u001b[0m\u001b[0;34m(\u001b[0m\u001b[0;34m\"next_node_list:\"\u001b[0m\u001b[0;34m,\u001b[0m\u001b[0mnext_node_list\u001b[0m\u001b[0;34m)\u001b[0m\u001b[0;34m\u001b[0m\u001b[0;34m\u001b[0m\u001b[0m\n\u001b[1;32m    296\u001b[0m         \u001b[0;32mwhile\u001b[0m \u001b[0mnext_node_list\u001b[0m\u001b[0;34m!=\u001b[0m\u001b[0;34m[\u001b[0m\u001b[0;34m]\u001b[0m\u001b[0;34m:\u001b[0m\u001b[0;34m\u001b[0m\u001b[0;34m\u001b[0m\u001b[0m\n\u001b[0;32m--> 297\u001b[0;31m             \u001b[0mnext_node_list\u001b[0m\u001b[0;34m=\u001b[0m\u001b[0mself\u001b[0m\u001b[0;34m.\u001b[0m\u001b[0mrun_tick\u001b[0m\u001b[0;34m(\u001b[0m\u001b[0mnext_node_list\u001b[0m\u001b[0;34m)\u001b[0m\u001b[0;34m\u001b[0m\u001b[0;34m\u001b[0m\u001b[0m\n\u001b[0m\u001b[1;32m    298\u001b[0m             \u001b[0;32mif\u001b[0m \u001b[0mtype\u001b[0m\u001b[0;34m(\u001b[0m\u001b[0mnext_node_list\u001b[0m\u001b[0;34m)\u001b[0m\u001b[0;34m==\u001b[0m\u001b[0mint\u001b[0m\u001b[0;34m:\u001b[0m \u001b[0;32mreturn\u001b[0m \u001b[0mnext_node_list\u001b[0m\u001b[0;34m\u001b[0m\u001b[0;34m\u001b[0m\u001b[0m\n\u001b[1;32m    299\u001b[0m         \u001b[0;32mreturn\u001b[0m \u001b[0mself\u001b[0m\u001b[0;34m.\u001b[0m\u001b[0moutput\u001b[0m\u001b[0;34m\u001b[0m\u001b[0;34m\u001b[0m\u001b[0m\n",
            "\u001b[0;32m<ipython-input-21-c7337e57b2cc>\u001b[0m in \u001b[0;36mrun_tick\u001b[0;34m(self, node_list)\u001b[0m\n\u001b[1;32m    273\u001b[0m                 \u001b[0mresult\u001b[0m\u001b[0;34m=\u001b[0m\u001b[0;34m\"inputs are not calculated yet: skip\"\u001b[0m\u001b[0;34m\u001b[0m\u001b[0;34m\u001b[0m\u001b[0m\n\u001b[1;32m    274\u001b[0m             \u001b[0;32melse\u001b[0m\u001b[0;34m:\u001b[0m\u001b[0;34m\u001b[0m\u001b[0;34m\u001b[0m\u001b[0m\n\u001b[0;32m--> 275\u001b[0;31m                 \u001b[0mresult\u001b[0m\u001b[0;34m=\u001b[0m\u001b[0mgn\u001b[0m\u001b[0;34m.\u001b[0m\u001b[0mele\u001b[0m\u001b[0;34m(\u001b[0m\u001b[0mgn\u001b[0m\u001b[0;34m)\u001b[0m\u001b[0;34m\u001b[0m\u001b[0;34m\u001b[0m\u001b[0m\n\u001b[0m\u001b[1;32m    276\u001b[0m                 \u001b[0;32mif\u001b[0m \u001b[0mgn\u001b[0m\u001b[0;34m.\u001b[0m\u001b[0mout_deg\u001b[0m\u001b[0;34m==\u001b[0m\u001b[0;36m0\u001b[0m\u001b[0;34m:\u001b[0m\u001b[0;34m\u001b[0m\u001b[0;34m\u001b[0m\u001b[0m\n\u001b[1;32m    277\u001b[0m                     \u001b[0mprintx\u001b[0m\u001b[0;34m.\u001b[0m\u001b[0mout\u001b[0m\u001b[0;34m(\u001b[0m\u001b[0;34m\"This is end node\"\u001b[0m\u001b[0;34m)\u001b[0m\u001b[0;34m\u001b[0m\u001b[0;34m\u001b[0m\u001b[0m\n",
            "\u001b[0;32m<ipython-input-42-695704bc8988>\u001b[0m in \u001b[0;36m<lambda>\u001b[0;34m(gn)\u001b[0m\n\u001b[1;32m    136\u001b[0m             \u001b[0mself\u001b[0m\u001b[0;34m.\u001b[0m\u001b[0mgsp\u001b[0m\u001b[0;34m=\u001b[0m\u001b[0mGraphStructuredProgram\u001b[0m\u001b[0;34m(\u001b[0m\u001b[0minput\u001b[0m\u001b[0;34m,\u001b[0m\u001b[0mself\u001b[0m\u001b[0;34m.\u001b[0m\u001b[0mnode_body\u001b[0m\u001b[0;34m,\u001b[0m\u001b[0mself\u001b[0m\u001b[0;34m.\u001b[0m\u001b[0medge_struct\u001b[0m\u001b[0;34m)\u001b[0m\u001b[0;34m\u001b[0m\u001b[0;34m\u001b[0m\u001b[0m\n\u001b[1;32m    137\u001b[0m             \u001b[0mself\u001b[0m\u001b[0;34m.\u001b[0m\u001b[0mresult\u001b[0m\u001b[0;34m=\u001b[0m\u001b[0mself\u001b[0m\u001b[0;34m.\u001b[0m\u001b[0mgsp\u001b[0m\u001b[0;34m.\u001b[0m\u001b[0mrun\u001b[0m\u001b[0;34m(\u001b[0m\u001b[0;34m)\u001b[0m\u001b[0;34m\u001b[0m\u001b[0;34m\u001b[0m\u001b[0m\n\u001b[0;32m--> 138\u001b[0;31m         \u001b[0mself\u001b[0m\u001b[0;34m.\u001b[0m\u001b[0madd_adfs\u001b[0m\u001b[0;34m(\u001b[0m\u001b[0;34m(\u001b[0m\u001b[0;32mlambda\u001b[0m \u001b[0mgn\u001b[0m \u001b[0;34m:\u001b[0m \u001b[0madfs\u001b[0m\u001b[0;34m(\u001b[0m\u001b[0mgn\u001b[0m\u001b[0;34m,\u001b[0m\u001b[0mself\u001b[0m\u001b[0;34m.\u001b[0m\u001b[0mnode_body\u001b[0m\u001b[0;34m,\u001b[0m\u001b[0mself\u001b[0m\u001b[0;34m.\u001b[0m\u001b[0medge_struct\u001b[0m\u001b[0;34m)\u001b[0m\u001b[0;34m)\u001b[0m\u001b[0;34m)\u001b[0m \u001b[0;31m# 条件を満たすネットワークをadfsリストに登録\u001b[0m\u001b[0;34m\u001b[0m\u001b[0;34m\u001b[0m\u001b[0m\n\u001b[0m\u001b[1;32m    139\u001b[0m         \u001b[0mself\u001b[0m\u001b[0;34m.\u001b[0m\u001b[0mgsp\u001b[0m\u001b[0;34m.\u001b[0m\u001b[0mnetwork_show\u001b[0m\u001b[0;34m(\u001b[0m\u001b[0;34m)\u001b[0m\u001b[0;34m\u001b[0m\u001b[0;34m\u001b[0m\u001b[0m\n\u001b[1;32m    140\u001b[0m \u001b[0;34m\u001b[0m\u001b[0m\n",
            "... last 4 frames repeated, from the frame below ...\n",
            "\u001b[0;32m<ipython-input-17-51ccc16aff8e>\u001b[0m in \u001b[0;36madfs\u001b[0;34m(gn, node_body, edge_struct)\u001b[0m\n\u001b[1;32m     16\u001b[0m             \u001b[0;31m#gsp=GraphStructuredProgram(input,node_struct,edge_struct)\u001b[0m\u001b[0;34m\u001b[0m\u001b[0;34m\u001b[0m\u001b[0;34m\u001b[0m\u001b[0m\n\u001b[1;32m     17\u001b[0m             \u001b[0mgsp\u001b[0m\u001b[0;34m=\u001b[0m\u001b[0mGraphStructuredProgram\u001b[0m\u001b[0;34m(\u001b[0m\u001b[0minput\u001b[0m\u001b[0;34m,\u001b[0m\u001b[0mnode_body\u001b[0m\u001b[0;34m,\u001b[0m\u001b[0medge_struct\u001b[0m\u001b[0;34m)\u001b[0m\u001b[0;34m\u001b[0m\u001b[0;34m\u001b[0m\u001b[0m\n\u001b[0;32m---> 18\u001b[0;31m             \u001b[0mout\u001b[0m\u001b[0;34m=\u001b[0m\u001b[0mgsp\u001b[0m\u001b[0;34m.\u001b[0m\u001b[0mrun\u001b[0m\u001b[0;34m(\u001b[0m\u001b[0;34m)\u001b[0m\u001b[0;34m\u001b[0m\u001b[0;34m\u001b[0m\u001b[0m\n\u001b[0m\u001b[1;32m     19\u001b[0m             \u001b[0mout_list\u001b[0m\u001b[0;34m.\u001b[0m\u001b[0mappend\u001b[0m\u001b[0;34m(\u001b[0m\u001b[0mout\u001b[0m\u001b[0;34m)\u001b[0m\u001b[0;34m\u001b[0m\u001b[0;34m\u001b[0m\u001b[0m\n\u001b[1;32m     20\u001b[0m         \u001b[0;32mif\u001b[0m \u001b[0;34m(\u001b[0m\u001b[0mlen\u001b[0m\u001b[0;34m(\u001b[0m\u001b[0mout_list\u001b[0m\u001b[0;34m)\u001b[0m\u001b[0;34m==\u001b[0m\u001b[0;36m1\u001b[0m\u001b[0;34m)\u001b[0m\u001b[0;34m:\u001b[0m\u001b[0;34m\u001b[0m\u001b[0;34m\u001b[0m\u001b[0m\n",
            "\u001b[0;31mRecursionError\u001b[0m: maximum recursion depth exceeded while calling a Python object"
          ]
        }
      ]
    },
    {
      "cell_type": "code",
      "metadata": {
        "colab": {
          "base_uri": "https://localhost:8080/"
        },
        "id": "viWh6if1x86i",
        "outputId": "6ac83d8d-ed0f-4628-8e71-240845a5044a"
      },
      "source": [
        "gnps.adfs_list"
      ],
      "execution_count": null,
      "outputs": [
        {
          "output_type": "execute_result",
          "data": {
            "text/plain": [
              "[<function __main__.div>,\n",
              " <function __main__.sum>,\n",
              " <function __main__.equal>,\n",
              " <function __main__.control_gate>,\n",
              " <function __main__.control_not_gate>,\n",
              " <function __main__.pos>,\n",
              " <function __main__.object_func>,\n",
              " '0',\n",
              " '1',\n",
              " <function __main__.GNPStruct.Search1Requirement.<locals>.<lambda>>,\n",
              " <function __main__.GNPStruct.Search1Requirement.<locals>.<lambda>>,\n",
              " <function __main__.GNPStruct.Search2RequirementsWithAnalysis.<locals>.<lambda>>]"
            ]
          },
          "metadata": {
            "tags": []
          },
          "execution_count": 85
        }
      ]
    },
    {
      "cell_type": "code",
      "metadata": {
        "id": "mVK-_7xoyba4"
      },
      "source": [
        "node_body_not=[(1,'0'),(2,'1'),(3,equal),(4,equal),(5,'1'),(6,'0'),(7,control_gate),(8,control_gate),(9,sum)]\n",
        "edge_struct_not=[('in',3),('in',4),(1,3),(2,4),(3,7),(4,8),(5,7),(6,8),(7,9),(8,9)]\n",
        "gnps.add_adfs(lambda gn : adfs(gn,node_body_not,edge_struct_not))"
      ],
      "execution_count": null,
      "outputs": []
    },
    {
      "cell_type": "code",
      "metadata": {
        "colab": {
          "base_uri": "https://localhost:8080/"
        },
        "id": "S_z3ZpXWzNkG",
        "outputId": "101febc0-8d99-4dfc-ff5f-9b6aa2b1d1ed"
      },
      "source": [
        "gnps.adfs_list[11]"
      ],
      "execution_count": null,
      "outputs": [
        {
          "output_type": "execute_result",
          "data": {
            "text/plain": [
              "<function __main__.GNPStruct.Search2RequirementsWithAnalysis.<locals>.<lambda>>"
            ]
          },
          "metadata": {
            "tags": []
          },
          "execution_count": 86
        }
      ]
    },
    {
      "cell_type": "code",
      "metadata": {
        "id": "fawk8OeP2sLW"
      },
      "source": [
        "printx.on()"
      ],
      "execution_count": null,
      "outputs": []
    },
    {
      "cell_type": "code",
      "metadata": {
        "colab": {
          "base_uri": "https://localhost:8080/",
          "height": 1000
        },
        "id": "MBvM--_yyDfJ",
        "outputId": "5726eeed-a646-4146-81c0-518b0d97841e"
      },
      "source": [
        "#node_body=[(1,gnps.adfs_list[10]),('out',out_func)]\n",
        "#edge_struct=[('in',1),(1,'out')]\n",
        "node_body=[(1,gnps.adfs_list[11])]\n",
        "edge_struct=[('in',1)]\n",
        "gsp=GraphStructuredProgram(\"0\",node_body,edge_struct)\n",
        "gsp.network_show()\n",
        "gsp.run()"
      ],
      "execution_count": null,
      "outputs": [
        {
          "output_type": "stream",
          "text": [
            "nodes:  [('in', {'ele': '0'}), (1, {'ele': <function GNPStruct.Search2RequirementsWithAnalysis.<locals>.<lambda> at 0x7f37626ec560>})]\n",
            "edges:  [('in', 1, {'ele': '0'})]\n"
          ],
          "name": "stdout"
        },
        {
          "output_type": "display_data",
          "data": {
            "image/png": "[encoded data removed]",
            "text/plain": [
              "<Figure size 432x288 with 1 Axes>"
            ]
          },
          "metadata": {
            "tags": []
          }
        },
        {
          "output_type": "stream",
          "text": [
            "node: in = 0\n",
            "next_node_list: [1]\n",
            "adfs node_body: [(0, <function equal at 0x7f376ad45b90>), (1, <function GNPStruct.Search1Requirement.<locals>.<lambda> at 0x7f376268b200>), (2, <function equal at 0x7f376ad45b90>), (3, <function pos at 0x7f37622a3290>), (4, <function object_func at 0x7f37622a3680>), (5, <function control_gate at 0x7f376ad45cb0>), (6, <function GNPStruct.Search1Requirement.<locals>.<lambda> at 0x7f376268b200>), (7, '1'), (8, <function control_gate at 0x7f376ad45cb0>), (9, <function equal at 0x7f376ad45b90>), (10, '0'), (11, <function div at 0x7f376ad45560>), (12, '0'), (13, <function div at 0x7f376ad45560>), (14, <function div at 0x7f376ad45560>)]\n",
            "adfs edge_struct: [(12, 0), ('in', 0), (0, 1), (9, 2), (11, 2), (7, 3), (1, 4), (7, 5), (12, 5), (0, 6), (3, 8), (7, 8), (10, 9), (2, 9), (1, 11), (1, 13), (11, 14)]\n",
            "adfs input: 0\n",
            "node: in = 0\n",
            "next_node_list: [0]\n",
            "[TRUE]\n",
            "node: 0 , result: [TRUE]\n",
            "next_node_list: [1, 6]\n",
            "adfs node_body: [(0, <function equal at 0x7f376ad45b90>), (1, <function pos at 0x7f37622a3290>), (2, <function sum at 0x7f376ad45200>), (3, <function pos at 0x7f37622a3290>), (4, <function control_gate at 0x7f376ad45cb0>), (5, '1'), (6, '0'), (7, '0'), (8, <function control_not_gate at 0x7f376ad45e60>), (9, '0'), (10, <function GNPStruct.Search1Requirement.<locals>.<lambda> at 0x7f376228b4d0>), (11, '0'), (12, <function equal at 0x7f376ad45b90>), (13, '1'), (14, <function equal at 0x7f376ad45b90>)]\n",
            "adfs edge_struct: [(14, 0), (9, 0), (9, 1), (8, 2), (3, 2), (4, 2), ('in', 3), ('in', 4), (13, 4), (10, 8), (13, 8), (0, 10), (9, 12), (6, 12), (3, 14), (4, 14)]\n",
            "adfs input: [TRUE]\n",
            "node: in = [TRUE]\n",
            "next_node_list: [3, 4]\n",
            "pos input node input is start node\n",
            "node: 3 , result: 0\n",
            "1\n",
            "node: 4 , result: 1\n",
            "next_node_list: [2, 14, 2, 14]\n",
            "node: 2 , result: inputs are not calculated yet: skip\n",
            "[FALSE]\n",
            "node: 14 , result: [FALSE]\n",
            "node: 2 , result: inputs are not calculated yet: skip\n",
            "node: 14 , result: already calculated: skip\n",
            "next_node_list: [0]\n",
            "[FALSE]\n",
            "node: 0 , result: [FALSE]\n",
            "next_node_list: [10]\n",
            "adfs node_body: [(0, <function sum at 0x7f376ad45200>), (1, '1'), (2, '1'), (3, '0'), (4, <function object_func at 0x7f37622a3680>), (5, <function div at 0x7f376ad45560>), (6, <function equal at 0x7f376ad45b90>), (7, <function control_not_gate at 0x7f376ad45e60>), (8, <function sum at 0x7f376ad45200>), (9, <function equal at 0x7f376ad45b90>), (10, <function sum at 0x7f376ad45200>), (11, '1'), (12, <function div at 0x7f376ad45560>), (13, <function object_func at 0x7f37622a3680>), (14, <function control_not_gate at 0x7f376ad45e60>)]\n",
            "adfs edge_struct: [(7, 0), (9, 0), (3, 0), (8, 0), (1, 0), (11, 0), (12, 0), (4, 0), (10, 0), (5, 0), (8, 4), ('in', 5), (1, 6), ('in', 6), (1, 7), (6, 7), (7, 8), (0, 8), (1, 8), (2, 8), (5, 9), (6, 9), (5, 10), (10, 12), (7, 13), (1, 14), (0, 14)]\n",
            "adfs input: [FALSE]\n",
            "node: in = [FALSE]\n",
            "next_node_list: [5, 6]\n",
            "node: 5 , result: ['[FALSE]']\n",
            "[FALSE]\n",
            "node: 6 , result: [FALSE]\n",
            "next_node_list: [0, 9, 10, 7, 9]\n",
            "node: 0 , result: inputs are not calculated yet: skip\n",
            "node: 9 , result: inputs are not calculated yet: skip\n",
            "node: 10 , result: inputs are not calculated yet: skip\n",
            "1\n",
            "node: 7 , result: 1\n",
            "node: 9 , result: inputs are not calculated yet: skip\n",
            "next_node_list: [0, 8, 13]\n",
            "node: 0 , result: inputs are not calculated yet: skip\n",
            "node: 8 , result: inputs are not calculated yet: skip\n",
            "This is end node\n",
            "node: 13 , result: 1\n",
            "next_node_list: []\n",
            "1\n",
            "node: 10 , result: 1\n",
            "next_node_list: [8]\n",
            "[NULL]\n",
            "node: 8 , result: [NULL]\n",
            "next_node_list: [2]\n",
            "0 1\n",
            "This is end node\n",
            "node: 2 , result: 0 1\n",
            "next_node_list: []\n",
            "0 1\n",
            "node: 1 , result: 0 1\n",
            "adfs node_body: [(0, <function equal at 0x7f376ad45b90>), (1, <function pos at 0x7f37622a3290>), (2, <function sum at 0x7f376ad45200>), (3, <function pos at 0x7f37622a3290>), (4, <function control_gate at 0x7f376ad45cb0>), (5, '1'), (6, '0'), (7, '0'), (8, <function control_not_gate at 0x7f376ad45e60>), (9, '0'), (10, <function GNPStruct.Search1Requirement.<locals>.<lambda> at 0x7f376228b4d0>), (11, '0'), (12, <function equal at 0x7f376ad45b90>), (13, '1'), (14, <function equal at 0x7f376ad45b90>)]\n",
            "adfs edge_struct: [(14, 0), (9, 0), (9, 1), (8, 2), (3, 2), (4, 2), ('in', 3), ('in', 4), (13, 4), (10, 8), (13, 8), (0, 10), (9, 12), (6, 12), (3, 14), (4, 14)]\n",
            "adfs input: [TRUE]\n",
            "node: in = [TRUE]\n",
            "next_node_list: [3, 4]\n",
            "pos input node input is start node\n",
            "node: 3 , result: 0\n",
            "1\n",
            "node: 4 , result: 1\n",
            "next_node_list: [2, 14, 2, 14]\n",
            "node: 2 , result: inputs are not calculated yet: skip\n",
            "[FALSE]\n",
            "node: 14 , result: [FALSE]\n",
            "node: 2 , result: inputs are not calculated yet: skip\n",
            "node: 14 , result: already calculated: skip\n",
            "next_node_list: [0]\n",
            "[FALSE]\n",
            "node: 0 , result: [FALSE]\n",
            "next_node_list: [10]\n",
            "adfs node_body: [(0, <function sum at 0x7f376ad45200>), (1, '1'), (2, '1'), (3, '0'), (4, <function object_func at 0x7f37622a3680>), (5, <function div at 0x7f376ad45560>), (6, <function equal at 0x7f376ad45b90>), (7, <function control_not_gate at 0x7f376ad45e60>), (8, <function sum at 0x7f376ad45200>), (9, <function equal at 0x7f376ad45b90>), (10, <function sum at 0x7f376ad45200>), (11, '1'), (12, <function div at 0x7f376ad45560>), (13, <function object_func at 0x7f37622a3680>), (14, <function control_not_gate at 0x7f376ad45e60>)]\n",
            "adfs edge_struct: [(7, 0), (9, 0), (3, 0), (8, 0), (1, 0), (11, 0), (12, 0), (4, 0), (10, 0), (5, 0), (8, 4), ('in', 5), (1, 6), ('in', 6), (1, 7), (6, 7), (7, 8), (0, 8), (1, 8), (2, 8), (5, 9), (6, 9), (5, 10), (10, 12), (7, 13), (1, 14), (0, 14)]\n",
            "adfs input: [FALSE]\n",
            "node: in = [FALSE]\n",
            "next_node_list: [5, 6]\n",
            "node: 5 , result: ['[FALSE]']\n",
            "[FALSE]\n",
            "node: 6 , result: [FALSE]\n",
            "next_node_list: [0, 9, 10, 7, 9]\n",
            "node: 0 , result: inputs are not calculated yet: skip\n",
            "node: 9 , result: inputs are not calculated yet: skip\n",
            "node: 10 , result: inputs are not calculated yet: skip\n",
            "1\n",
            "node: 7 , result: 1\n",
            "node: 9 , result: inputs are not calculated yet: skip\n",
            "next_node_list: [0, 8, 13]\n",
            "node: 0 , result: inputs are not calculated yet: skip\n",
            "node: 8 , result: inputs are not calculated yet: skip\n",
            "This is end node\n",
            "node: 13 , result: 1\n",
            "next_node_list: []\n",
            "1\n",
            "node: 10 , result: 1\n",
            "next_node_list: [8]\n",
            "[NULL]\n",
            "node: 8 , result: [NULL]\n",
            "next_node_list: [2]\n",
            "0 1\n",
            "This is end node\n",
            "node: 2 , result: 0 1\n",
            "next_node_list: []\n",
            "0 1\n",
            "This is end node\n",
            "node: 6 , result: 0 1\n",
            "next_node_list: [4, 11, 13]\n",
            "This is end node\n",
            "node: 4 , result: 0 1\n",
            "node: 11 , result: ['0', '1']\n",
            "This is end node\n",
            "node: 13 , result: 0 1\n",
            "next_node_list: [2, 14]\n",
            "node: 2 , result: inputs are not calculated yet: skip\n",
            "This is end node\n",
            "node: 14 , result: 1\n",
            "next_node_list: []\n",
            "1\n",
            "This is end node\n",
            "node: 1 , result: 1\n",
            "next_node_list: []\n"
          ],
          "name": "stdout"
        },
        {
          "output_type": "execute_result",
          "data": {
            "application/vnd.google.colaboratory.intrinsic+json": {
              "type": "string"
            },
            "text/plain": [
              "'1'"
            ]
          },
          "metadata": {
            "tags": []
          },
          "execution_count": 93
        }
      ]
    },
    {
      "cell_type": "code",
      "metadata": {
        "id": "Pn6NRyYP1-ZN"
      },
      "source": [
        "printx.off()"
      ],
      "execution_count": null,
      "outputs": []
    },
    {
      "cell_type": "markdown",
      "metadata": {
        "id": "kKqjkEpSxnLh"
      },
      "source": [
        "# 出力されたネットワーク（ノードとエッジ）の情報から、node_body,edge_structに変換"
      ]
    },
    {
      "cell_type": "code",
      "metadata": {
        "id": "hJhXOzPKxkaZ"
      },
      "source": [
        "netinfo_str=\"[('in', {'ele': '0'}), (0, {'ele': <function sum at 0x7f376ad45200>, 'pos': 0}), (1, {'ele': '1'}), (2, {'ele': '1'}), (3, {'ele': '0'}), (4, {'ele': <function object_func at 0x7f37622a3680>}), (5, {'ele': <function div at 0x7f376ad45560>}), (6, {'ele': <function equal at 0x7f376ad45b90>}), (7, {'ele': <function control_not_gate at 0x7f376ad45e60>}), (8, {'ele': <function sum at 0x7f376ad45200>}), (9, {'ele': <function equal at 0x7f376ad45b90>, 'pos': 1}), (10, {'ele': <function sum at 0x7f376ad45200>, 'pos': 2}), (11, {'ele': '1'}), (12, {'ele': <function div at 0x7f376ad45560>}), (13, {'ele': <function object_func at 0x7f37622a3680>}), (14, {'ele': <function control_not_gate at 0x7f376ad45e60>})]\""
      ],
      "execution_count": 14,
      "outputs": []
    },
    {
      "cell_type": "code",
      "metadata": {
        "colab": {
          "base_uri": "https://localhost:8080/",
          "height": 86
        },
        "id": "ndblXsXi4fip",
        "outputId": "2c947428-ed1e-4d28-b02a-0ed0fb19e355"
      },
      "source": [
        "netinfo_rep=netinfo_str.replace(\"<\",\"'<\").replace(\">\",\">'\")\n",
        "netinfo_rep"
      ],
      "execution_count": 61,
      "outputs": [
        {
          "output_type": "execute_result",
          "data": {
            "application/vnd.google.colaboratory.intrinsic+json": {
              "type": "string"
            },
            "text/plain": [
              "\"[('in', {'ele': '0'}), (0, {'ele': '<function sum at 0x7f376ad45200>', 'pos': 0}), (1, {'ele': '1'}), (2, {'ele': '1'}), (3, {'ele': '0'}), (4, {'ele': '<function object_func at 0x7f37622a3680>'}), (5, {'ele': '<function div at 0x7f376ad45560>'}), (6, {'ele': '<function equal at 0x7f376ad45b90>'}), (7, {'ele': '<function control_not_gate at 0x7f376ad45e60>'}), (8, {'ele': '<function sum at 0x7f376ad45200>'}), (9, {'ele': '<function equal at 0x7f376ad45b90>', 'pos': 1}), (10, {'ele': '<function sum at 0x7f376ad45200>', 'pos': 2}), (11, {'ele': '1'}), (12, {'ele': '<function div at 0x7f376ad45560>'}), (13, {'ele': '<function object_func at 0x7f37622a3680>'}), (14, {'ele': '<function control_not_gate at 0x7f376ad45e60>'})]\""
            ]
          },
          "metadata": {
            "tags": []
          },
          "execution_count": 61
        }
      ]
    },
    {
      "cell_type": "code",
      "metadata": {
        "colab": {
          "base_uri": "https://localhost:8080/"
        },
        "id": "P5OptmlY3I7R",
        "outputId": "d5147024-b19f-4662-fc4a-d98ecb6b1fa6"
      },
      "source": [
        "node_info=eval(netinfo_rep)\n",
        "node_info"
      ],
      "execution_count": 62,
      "outputs": [
        {
          "output_type": "execute_result",
          "data": {
            "text/plain": [
              "[('in', {'ele': '0'}),\n",
              " (0, {'ele': '<function sum at 0x7f376ad45200>', 'pos': 0}),\n",
              " (1, {'ele': '1'}),\n",
              " (2, {'ele': '1'}),\n",
              " (3, {'ele': '0'}),\n",
              " (4, {'ele': '<function object_func at 0x7f37622a3680>'}),\n",
              " (5, {'ele': '<function div at 0x7f376ad45560>'}),\n",
              " (6, {'ele': '<function equal at 0x7f376ad45b90>'}),\n",
              " (7, {'ele': '<function control_not_gate at 0x7f376ad45e60>'}),\n",
              " (8, {'ele': '<function sum at 0x7f376ad45200>'}),\n",
              " (9, {'ele': '<function equal at 0x7f376ad45b90>', 'pos': 1}),\n",
              " (10, {'ele': '<function sum at 0x7f376ad45200>', 'pos': 2}),\n",
              " (11, {'ele': '1'}),\n",
              " (12, {'ele': '<function div at 0x7f376ad45560>'}),\n",
              " (13, {'ele': '<function object_func at 0x7f37622a3680>'}),\n",
              " (14, {'ele': '<function control_not_gate at 0x7f376ad45e60>'})]"
            ]
          },
          "metadata": {
            "tags": []
          },
          "execution_count": 62
        }
      ]
    },
    {
      "cell_type": "code",
      "metadata": {
        "colab": {
          "base_uri": "https://localhost:8080/"
        },
        "id": "yDUCJ1f08WbC",
        "outputId": "4bcde910-3ce7-420a-ffcf-6da68bfd8586"
      },
      "source": [
        "[(node[0],node[1]['ele']) for node in node_info]"
      ],
      "execution_count": 43,
      "outputs": [
        {
          "output_type": "execute_result",
          "data": {
            "text/plain": [
              "[('in', '0'),\n",
              " (0, '<function sum at 0x7f376ad45200>'),\n",
              " (1, '1'),\n",
              " (2, '1'),\n",
              " (3, '0'),\n",
              " (4, '<function object_func at 0x7f37622a3680>'),\n",
              " (5, '<function div at 0x7f376ad45560>'),\n",
              " (6, '<function equal at 0x7f376ad45b90>'),\n",
              " (7, '<function control_not_gate at 0x7f376ad45e60>'),\n",
              " (8, '<function sum at 0x7f376ad45200>'),\n",
              " (9, '<function equal at 0x7f376ad45b90>'),\n",
              " (10, '<function sum at 0x7f376ad45200>'),\n",
              " (11, '1'),\n",
              " (12, '<function div at 0x7f376ad45560>'),\n",
              " (13, '<function object_func at 0x7f37622a3680>'),\n",
              " (14, '<function control_not_gate at 0x7f376ad45e60>')]"
            ]
          },
          "metadata": {
            "tags": []
          },
          "execution_count": 43
        }
      ]
    },
    {
      "cell_type": "code",
      "metadata": {
        "colab": {
          "base_uri": "https://localhost:8080/"
        },
        "id": "SJ4MZzxH5Tp4",
        "outputId": "597893b8-203a-4143-f472-bee4aa0ed6a5"
      },
      "source": [
        "type(netinfo[0])"
      ],
      "execution_count": 19,
      "outputs": [
        {
          "output_type": "execute_result",
          "data": {
            "text/plain": [
              "tuple"
            ]
          },
          "metadata": {
            "tags": []
          },
          "execution_count": 19
        }
      ]
    },
    {
      "cell_type": "code",
      "metadata": {
        "colab": {
          "base_uri": "https://localhost:8080/",
          "height": 35
        },
        "id": "w3TqxN4nyDmz",
        "outputId": "1592303e-99c0-4929-ab44-31b0d92be592"
      },
      "source": [
        "netinfo[0][1]['ele']"
      ],
      "execution_count": 24,
      "outputs": [
        {
          "output_type": "execute_result",
          "data": {
            "application/vnd.google.colaboratory.intrinsic+json": {
              "type": "string"
            },
            "text/plain": [
              "'0'"
            ]
          },
          "metadata": {
            "tags": []
          },
          "execution_count": 24
        }
      ]
    },
    {
      "cell_type": "code",
      "metadata": {
        "colab": {
          "base_uri": "https://localhost:8080/"
        },
        "id": "9Sd1hecc7qyp",
        "outputId": "57355d75-25a6-4160-c580-81eaa0924648"
      },
      "source": [
        "netinfo[0][1]['ele'].split()"
      ],
      "execution_count": 33,
      "outputs": [
        {
          "output_type": "execute_result",
          "data": {
            "text/plain": [
              "['0']"
            ]
          },
          "metadata": {
            "tags": []
          },
          "execution_count": 33
        }
      ]
    },
    {
      "cell_type": "code",
      "metadata": {
        "colab": {
          "base_uri": "https://localhost:8080/",
          "height": 35
        },
        "id": "ntj8t4k_5rh2",
        "outputId": "be5f8ed8-f007-423c-aa95-13f5ce59afdf"
      },
      "source": [
        "netinfo[1][1]['ele']"
      ],
      "execution_count": 25,
      "outputs": [
        {
          "output_type": "execute_result",
          "data": {
            "application/vnd.google.colaboratory.intrinsic+json": {
              "type": "string"
            },
            "text/plain": [
              "'<function sum at 0x7f376ad45200>'"
            ]
          },
          "metadata": {
            "tags": []
          },
          "execution_count": 25
        }
      ]
    },
    {
      "cell_type": "code",
      "metadata": {
        "colab": {
          "base_uri": "https://localhost:8080/"
        },
        "id": "eLG07XkM7Yx5",
        "outputId": "a4c69ad6-38ff-439d-d4cf-dd7598ccf4bd"
      },
      "source": [
        "type(netinfo[1][1]['ele'])==str"
      ],
      "execution_count": 32,
      "outputs": [
        {
          "output_type": "execute_result",
          "data": {
            "text/plain": [
              "True"
            ]
          },
          "metadata": {
            "tags": []
          },
          "execution_count": 32
        }
      ]
    },
    {
      "cell_type": "code",
      "metadata": {
        "colab": {
          "base_uri": "https://localhost:8080/"
        },
        "id": "Z7pUcCdW6lcZ",
        "outputId": "197c34db-8307-458f-a995-214f3a496a08"
      },
      "source": [
        "type(netinfo[1][1]['pos'])"
      ],
      "execution_count": 30,
      "outputs": [
        {
          "output_type": "execute_result",
          "data": {
            "text/plain": [
              "int"
            ]
          },
          "metadata": {
            "tags": []
          },
          "execution_count": 30
        }
      ]
    },
    {
      "cell_type": "code",
      "metadata": {
        "colab": {
          "base_uri": "https://localhost:8080/"
        },
        "id": "MccUprm87_Ft",
        "outputId": "7374527d-68de-4c14-c91f-fe4e8e3c67a3"
      },
      "source": [
        "\"function\" in netinfo[1][1]['ele']"
      ],
      "execution_count": 37,
      "outputs": [
        {
          "output_type": "execute_result",
          "data": {
            "text/plain": [
              "True"
            ]
          },
          "metadata": {
            "tags": []
          },
          "execution_count": 37
        }
      ]
    },
    {
      "cell_type": "code",
      "metadata": {
        "colab": {
          "base_uri": "https://localhost:8080/"
        },
        "id": "Igkm6L9t9qiw",
        "outputId": "57517356-e61d-42dc-e93b-dc0ddf5fb976"
      },
      "source": [
        "(type(netinfo[1][1]['ele'])==str and \"function\" in netinfo[1][1]['ele'])"
      ],
      "execution_count": 44,
      "outputs": [
        {
          "output_type": "execute_result",
          "data": {
            "text/plain": [
              "True"
            ]
          },
          "metadata": {
            "tags": []
          },
          "execution_count": 44
        }
      ]
    },
    {
      "cell_type": "code",
      "metadata": {
        "colab": {
          "base_uri": "https://localhost:8080/",
          "height": 168
        },
        "id": "cmFRV2nP-CK7",
        "outputId": "795ced26-a740-4d77-dc8f-2d9aa544e079"
      },
      "source": [
        "\"function\" in netinfo[1][1]['pos']"
      ],
      "execution_count": 46,
      "outputs": [
        {
          "output_type": "error",
          "ename": "TypeError",
          "evalue": "ignored",
          "traceback": [
            "\u001b[0;31m---------------------------------------------------------------------------\u001b[0m",
            "\u001b[0;31mTypeError\u001b[0m                                 Traceback (most recent call last)",
            "\u001b[0;32m<ipython-input-46-5027d83b7bc0>\u001b[0m in \u001b[0;36m<module>\u001b[0;34m()\u001b[0m\n\u001b[0;32m----> 1\u001b[0;31m \u001b[0;34m\"function\"\u001b[0m \u001b[0;32min\u001b[0m \u001b[0mnetinfo\u001b[0m\u001b[0;34m[\u001b[0m\u001b[0;36m1\u001b[0m\u001b[0;34m]\u001b[0m\u001b[0;34m[\u001b[0m\u001b[0;36m1\u001b[0m\u001b[0;34m]\u001b[0m\u001b[0;34m[\u001b[0m\u001b[0;34m'pos'\u001b[0m\u001b[0;34m]\u001b[0m\u001b[0;34m\u001b[0m\u001b[0;34m\u001b[0m\u001b[0m\n\u001b[0m",
            "\u001b[0;31mTypeError\u001b[0m: argument of type 'int' is not iterable"
          ]
        }
      ]
    },
    {
      "cell_type": "code",
      "metadata": {
        "colab": {
          "base_uri": "https://localhost:8080/"
        },
        "id": "dGcqAvbQ97E7",
        "outputId": "e2e8e355-15f7-4d68-e319-7be0b3edcdf7"
      },
      "source": [
        "(type(netinfo[1][1]['pos'])==str and \"function\" in netinfo[1][1]['pos'])"
      ],
      "execution_count": 45,
      "outputs": [
        {
          "output_type": "execute_result",
          "data": {
            "text/plain": [
              "False"
            ]
          },
          "metadata": {
            "tags": []
          },
          "execution_count": 45
        }
      ]
    },
    {
      "cell_type": "code",
      "metadata": {
        "colab": {
          "base_uri": "https://localhost:8080/",
          "height": 35
        },
        "id": "W0quOEb19-tx",
        "outputId": "84c4ab7d-2815-460b-8db3-484fec8aed4c"
      },
      "source": [
        "ele=netinfo[1][1]['ele']\n",
        "ele.split()[1] if (type(ele)==str and \"function\" in ele) else ele"
      ],
      "execution_count": 49,
      "outputs": [
        {
          "output_type": "execute_result",
          "data": {
            "application/vnd.google.colaboratory.intrinsic+json": {
              "type": "string"
            },
            "text/plain": [
              "'sum'"
            ]
          },
          "metadata": {
            "tags": []
          },
          "execution_count": 49
        }
      ]
    },
    {
      "cell_type": "code",
      "metadata": {
        "colab": {
          "base_uri": "https://localhost:8080/",
          "height": 35
        },
        "id": "JJVqDc95-ptU",
        "outputId": "9fc19b77-58c5-4ecc-e12b-be1f273caa16"
      },
      "source": [
        "ele=netinfo[0][1]['ele']\n",
        "ele.split()[1] if (type(ele)==str and \"function\" in ele) else ele"
      ],
      "execution_count": 50,
      "outputs": [
        {
          "output_type": "execute_result",
          "data": {
            "application/vnd.google.colaboratory.intrinsic+json": {
              "type": "string"
            },
            "text/plain": [
              "'0'"
            ]
          },
          "metadata": {
            "tags": []
          },
          "execution_count": 50
        }
      ]
    },
    {
      "cell_type": "code",
      "metadata": {
        "colab": {
          "base_uri": "https://localhost:8080/"
        },
        "id": "RItr2BPs_AyB",
        "outputId": "b79b1fe1-5e0a-4ebd-9578-07a9b081c1bf"
      },
      "source": [
        "[(node[0], node[1]['ele'].split()[1] if (type(node[1]['ele'])==str and \"function\" in node[1]['ele']) else node[1]['ele'] ) for node in node_info]"
      ],
      "execution_count": 51,
      "outputs": [
        {
          "output_type": "execute_result",
          "data": {
            "text/plain": [
              "[('in', '0'),\n",
              " (0, 'sum'),\n",
              " (1, '1'),\n",
              " (2, '1'),\n",
              " (3, '0'),\n",
              " (4, 'object_func'),\n",
              " (5, 'div'),\n",
              " (6, 'equal'),\n",
              " (7, 'control_not_gate'),\n",
              " (8, 'sum'),\n",
              " (9, 'equal'),\n",
              " (10, 'sum'),\n",
              " (11, '1'),\n",
              " (12, 'div'),\n",
              " (13, 'object_func'),\n",
              " (14, 'control_not_gate')]"
            ]
          },
          "metadata": {
            "tags": []
          },
          "execution_count": 51
        }
      ]
    },
    {
      "cell_type": "code",
      "metadata": {
        "colab": {
          "base_uri": "https://localhost:8080/",
          "height": 86
        },
        "id": "nmQOT_0zAAET",
        "outputId": "9cab6afe-3b76-4a1e-858c-861244e45abd"
      },
      "source": [
        "node_info_str2=\"[('in', {'ele': '1'}), (0, {'ele': <function equal at 0x7f376ad45b90>}), (1, {'ele': <function pos at 0x7f37622a3290>}), (2, {'ele': <function sum at 0x7f376ad45200>}), (3, {'ele': <function pos at 0x7f37622a3290>}), (4, {'ele': <function control_gate at 0x7f376ad45cb0>}), (5, {'ele': '1'}), (6, {'ele': '0'}), (7, {'ele': '0'}), (8, {'ele': <function control_not_gate at 0x7f376ad45e60>}), (9, {'ele': '0'}), (10, {'ele': <function GNPStruct.Search1Requirement.<locals>.<lambda> at 0x7f376228b4d0>}), (11, {'ele': '0'}), (12, {'ele': <function equal at 0x7f376ad45b90>}), (13, {'ele': '1'}), (14, {'ele': <function equal at 0x7f376ad45b90>})]\"\n",
        "node_info_str2"
      ],
      "execution_count": 67,
      "outputs": [
        {
          "output_type": "execute_result",
          "data": {
            "application/vnd.google.colaboratory.intrinsic+json": {
              "type": "string"
            },
            "text/plain": [
              "\"[('in', {'ele': '1'}), (0, {'ele': <function equal at 0x7f376ad45b90>}), (1, {'ele': <function pos at 0x7f37622a3290>}), (2, {'ele': <function sum at 0x7f376ad45200>}), (3, {'ele': <function pos at 0x7f37622a3290>}), (4, {'ele': <function control_gate at 0x7f376ad45cb0>}), (5, {'ele': '1'}), (6, {'ele': '0'}), (7, {'ele': '0'}), (8, {'ele': <function control_not_gate at 0x7f376ad45e60>}), (9, {'ele': '0'}), (10, {'ele': <function GNPStruct.Search1Requirement.<locals>.<lambda> at 0x7f376228b4d0>}), (11, {'ele': '0'}), (12, {'ele': <function equal at 0x7f376ad45b90>}), (13, {'ele': '1'}), (14, {'ele': <function equal at 0x7f376ad45b90>})]\""
            ]
          },
          "metadata": {
            "tags": []
          },
          "execution_count": 67
        }
      ]
    },
    {
      "cell_type": "code",
      "metadata": {
        "id": "DBQEZdykAS26"
      },
      "source": [
        "def trans_node_info(node_info_str):\n",
        "    node_info=node_info_str.replace(\" <\",\" '<\").replace(\">}\",\">'}\").replace(\">,\",\">',\")\n",
        "    return [\n",
        "    (node[0], \n",
        "    node[1]['ele'].split()[1] \n",
        "    if (type(node[1]['ele'])==str and \"function\" in node[1]['ele']) \n",
        "    else node[1]['ele'] ) \n",
        "    for node in node_info]"
      ],
      "execution_count": 87,
      "outputs": []
    },
    {
      "cell_type": "code",
      "metadata": {
        "id": "OSqnRGK3FW3z"
      },
      "source": [
        "def trans_node_info(node_info_str):\n",
        "    node_info=eval(node_info_str.replace(\" <\",\" '<\").replace(\">}\",\">'}\").replace(\">,\",\">',\"))\n",
        "    #return [(node[0], node[1]['ele'].split()[1] if (type(node[1]['ele'])==str and \"function\" in node[1]['ele']) else node[1]['ele'] ) for node in node_info]\n",
        "    return [(node[0],node[1]['ele']) for node in node_info]"
      ],
      "execution_count": 95,
      "outputs": []
    },
    {
      "cell_type": "code",
      "metadata": {
        "colab": {
          "base_uri": "https://localhost:8080/"
        },
        "id": "7NU8AGe-DmXx",
        "outputId": "1b63c72b-a5e9-4193-8758-e3f6656428ed"
      },
      "source": [
        "trans_node_info(\n",
        "    \"[('in', {'ele': '0'}), (0, {'ele': <function equal at 0x7f376ad45b90>}), (1, {'ele': <function GNPStruct.Search1Requirement.<locals>.<lambda> at 0x7f376268b200>}), (2, {'ele': <function equal at 0x7f376ad45b90>, 'pos': 0}), (3, {'ele': <function pos at 0x7f37622a3290>}), (4, {'ele': <function object_func at 0x7f37622a3680>}), (5, {'ele': <function control_gate at 0x7f376ad45cb0>}), (6, {'ele': <function GNPStruct.Search1Requirement.<locals>.<lambda> at 0x7f376268b200>}), (7, {'ele': '1'}), (8, {'ele': <function control_gate at 0x7f376ad45cb0>}), (9, {'ele': <function equal at 0x7f376ad45b90>}), (10, {'ele': '0'}), (11, {'ele': <function div at 0x7f376ad45560>}), (12, {'ele': '0'}), (13, {'ele': <function div at 0x7f376ad45560>}), (14, {'ele': <function div at 0x7f376ad45560>, 'pos': 1})]\"\n",
        ")"
      ],
      "execution_count": 96,
      "outputs": [
        {
          "output_type": "execute_result",
          "data": {
            "text/plain": [
              "[('in', '0'),\n",
              " (0, '<function equal at 0x7f376ad45b90>'),\n",
              " (1,\n",
              "  '<function GNPStruct.Search1Requirement.<locals>.<lambda> at 0x7f376268b200>'),\n",
              " (2, '<function equal at 0x7f376ad45b90>'),\n",
              " (3, '<function pos at 0x7f37622a3290>'),\n",
              " (4, '<function object_func at 0x7f37622a3680>'),\n",
              " (5, '<function control_gate at 0x7f376ad45cb0>'),\n",
              " (6,\n",
              "  '<function GNPStruct.Search1Requirement.<locals>.<lambda> at 0x7f376268b200>'),\n",
              " (7, '1'),\n",
              " (8, '<function control_gate at 0x7f376ad45cb0>'),\n",
              " (9, '<function equal at 0x7f376ad45b90>'),\n",
              " (10, '0'),\n",
              " (11, '<function div at 0x7f376ad45560>'),\n",
              " (12, '0'),\n",
              " (13, '<function div at 0x7f376ad45560>'),\n",
              " (14, '<function div at 0x7f376ad45560>')]"
            ]
          },
          "metadata": {
            "tags": []
          },
          "execution_count": 96
        }
      ]
    },
    {
      "cell_type": "code",
      "metadata": {
        "colab": {
          "base_uri": "https://localhost:8080/",
          "height": 86
        },
        "id": "fmFstJvqEGXg",
        "outputId": "cd48ee1e-6250-47d1-c159-31dcde3a2947"
      },
      "source": [
        "node_info_str3=\"[('in', {'ele': '0'}), (0, {'ele': <function equal at 0x7f376ad45b90>}), (1, {'ele': <function GNPStruct.Search1Requirement.<locals>.<lambda> at 0x7f376268b200>}), (2, {'ele': <function equal at 0x7f376ad45b90>, 'pos': 0}), (3, {'ele': <function pos at 0x7f37622a3290>}), (4, {'ele': <function object_func at 0x7f37622a3680>}), (5, {'ele': <function control_gate at 0x7f376ad45cb0>}), (6, {'ele': <function GNPStruct.Search1Requirement.<locals>.<lambda> at 0x7f376268b200>}), (7, {'ele': '1'}), (8, {'ele': <function control_gate at 0x7f376ad45cb0>}), (9, {'ele': <function equal at 0x7f376ad45b90>}), (10, {'ele': '0'}), (11, {'ele': <function div at 0x7f376ad45560>}), (12, {'ele': '0'}), (13, {'ele': <function div at 0x7f376ad45560>}), (14, {'ele': <function div at 0x7f376ad45560>, 'pos': 1})]\"\n",
        "node_info_str3"
      ],
      "execution_count": 79,
      "outputs": [
        {
          "output_type": "execute_result",
          "data": {
            "application/vnd.google.colaboratory.intrinsic+json": {
              "type": "string"
            },
            "text/plain": [
              "\"[('in', {'ele': '0'}), (0, {'ele': <function equal at 0x7f376ad45b90>}), (1, {'ele': <function GNPStruct.Search1Requirement.<locals>.<lambda> at 0x7f376268b200>}), (2, {'ele': <function equal at 0x7f376ad45b90>, 'pos': 0}), (3, {'ele': <function pos at 0x7f37622a3290>}), (4, {'ele': <function object_func at 0x7f37622a3680>}), (5, {'ele': <function control_gate at 0x7f376ad45cb0>}), (6, {'ele': <function GNPStruct.Search1Requirement.<locals>.<lambda> at 0x7f376268b200>}), (7, {'ele': '1'}), (8, {'ele': <function control_gate at 0x7f376ad45cb0>}), (9, {'ele': <function equal at 0x7f376ad45b90>}), (10, {'ele': '0'}), (11, {'ele': <function div at 0x7f376ad45560>}), (12, {'ele': '0'}), (13, {'ele': <function div at 0x7f376ad45560>}), (14, {'ele': <function div at 0x7f376ad45560>, 'pos': 1})]\""
            ]
          },
          "metadata": {
            "tags": []
          },
          "execution_count": 79
        }
      ]
    },
    {
      "cell_type": "code",
      "metadata": {
        "colab": {
          "base_uri": "https://localhost:8080/",
          "height": 103
        },
        "id": "u2MfHqU2E1Pq",
        "outputId": "4417c9f2-3bd8-416a-89f1-1862b06c08dc"
      },
      "source": [
        "node_info_str3.replace(\" <\",\" '<\").replace(\">}\",\">'}\").replace(\">,\",\">',\")"
      ],
      "execution_count": 85,
      "outputs": [
        {
          "output_type": "execute_result",
          "data": {
            "application/vnd.google.colaboratory.intrinsic+json": {
              "type": "string"
            },
            "text/plain": [
              "\"[('in', {'ele': '0'}), (0, {'ele': '<function equal at 0x7f376ad45b90>'}), (1, {'ele': '<function GNPStruct.Search1Requirement.<locals>.<lambda> at 0x7f376268b200>'}), (2, {'ele': '<function equal at 0x7f376ad45b90>', 'pos': 0}), (3, {'ele': '<function pos at 0x7f37622a3290>'}), (4, {'ele': '<function object_func at 0x7f37622a3680>'}), (5, {'ele': '<function control_gate at 0x7f376ad45cb0>'}), (6, {'ele': '<function GNPStruct.Search1Requirement.<locals>.<lambda> at 0x7f376268b200>'}), (7, {'ele': '1'}), (8, {'ele': '<function control_gate at 0x7f376ad45cb0>'}), (9, {'ele': '<function equal at 0x7f376ad45b90>'}), (10, {'ele': '0'}), (11, {'ele': '<function div at 0x7f376ad45560>'}), (12, {'ele': '0'}), (13, {'ele': '<function div at 0x7f376ad45560>'}), (14, {'ele': '<function div at 0x7f376ad45560>', 'pos': 1})]\""
            ]
          },
          "metadata": {
            "tags": []
          },
          "execution_count": 85
        }
      ]
    },
    {
      "cell_type": "code",
      "metadata": {
        "colab": {
          "base_uri": "https://localhost:8080/"
        },
        "id": "3jlSLR_OEW0a",
        "outputId": "0eaad083-77dd-45d7-fa8a-961b8f5d0f48"
      },
      "source": [
        "eval(node_info_str3.replace(\" <\",\" '<\").replace(\">}\",\">'}\").replace(\">,\",\">',\"))"
      ],
      "execution_count": 86,
      "outputs": [
        {
          "output_type": "execute_result",
          "data": {
            "text/plain": [
              "[('in', {'ele': '0'}),\n",
              " (0, {'ele': '<function equal at 0x7f376ad45b90>'}),\n",
              " (1,\n",
              "  {'ele': '<function GNPStruct.Search1Requirement.<locals>.<lambda> at 0x7f376268b200>'}),\n",
              " (2, {'ele': '<function equal at 0x7f376ad45b90>', 'pos': 0}),\n",
              " (3, {'ele': '<function pos at 0x7f37622a3290>'}),\n",
              " (4, {'ele': '<function object_func at 0x7f37622a3680>'}),\n",
              " (5, {'ele': '<function control_gate at 0x7f376ad45cb0>'}),\n",
              " (6,\n",
              "  {'ele': '<function GNPStruct.Search1Requirement.<locals>.<lambda> at 0x7f376268b200>'}),\n",
              " (7, {'ele': '1'}),\n",
              " (8, {'ele': '<function control_gate at 0x7f376ad45cb0>'}),\n",
              " (9, {'ele': '<function equal at 0x7f376ad45b90>'}),\n",
              " (10, {'ele': '0'}),\n",
              " (11, {'ele': '<function div at 0x7f376ad45560>'}),\n",
              " (12, {'ele': '0'}),\n",
              " (13, {'ele': '<function div at 0x7f376ad45560>'}),\n",
              " (14, {'ele': '<function div at 0x7f376ad45560>', 'pos': 1})]"
            ]
          },
          "metadata": {
            "tags": []
          },
          "execution_count": 86
        }
      ]
    },
    {
      "cell_type": "code",
      "metadata": {
        "colab": {
          "base_uri": "https://localhost:8080/"
        },
        "id": "2STDEj1eGvq5",
        "outputId": "ad5bfe3c-6e3d-452c-8c9f-61089d2864fb"
      },
      "source": [
        "[(node[0],node[1]['ele']) for node in eval(node_info_str3.replace(\" <\",\" '<\").replace(\">}\",\">'}\").replace(\">,\",\">',\"))]"
      ],
      "execution_count": 94,
      "outputs": [
        {
          "output_type": "execute_result",
          "data": {
            "text/plain": [
              "[('in', '0'),\n",
              " (0, '<function equal at 0x7f376ad45b90>'),\n",
              " (1,\n",
              "  '<function GNPStruct.Search1Requirement.<locals>.<lambda> at 0x7f376268b200>'),\n",
              " (2, '<function equal at 0x7f376ad45b90>'),\n",
              " (3, '<function pos at 0x7f37622a3290>'),\n",
              " (4, '<function object_func at 0x7f37622a3680>'),\n",
              " (5, '<function control_gate at 0x7f376ad45cb0>'),\n",
              " (6,\n",
              "  '<function GNPStruct.Search1Requirement.<locals>.<lambda> at 0x7f376268b200>'),\n",
              " (7, '1'),\n",
              " (8, '<function control_gate at 0x7f376ad45cb0>'),\n",
              " (9, '<function equal at 0x7f376ad45b90>'),\n",
              " (10, '0'),\n",
              " (11, '<function div at 0x7f376ad45560>'),\n",
              " (12, '0'),\n",
              " (13, '<function div at 0x7f376ad45560>'),\n",
              " (14, '<function div at 0x7f376ad45560>')]"
            ]
          },
          "metadata": {
            "tags": []
          },
          "execution_count": 94
        }
      ]
    },
    {
      "cell_type": "code",
      "metadata": {
        "colab": {
          "base_uri": "https://localhost:8080/"
        },
        "id": "pLH8jmAUD71h",
        "outputId": "8d8983e2-66e4-4070-e004-9b1422968173"
      },
      "source": [
        "trans_node_info(\n",
        "    \"[('in', {'ele': '1'}), (0, {'ele': <function equal at 0x7f376ad45b90>}), (1, {'ele': <function pos at 0x7f37622a3290>}), (2, {'ele': <function sum at 0x7f376ad45200>}), (3, {'ele': <function pos at 0x7f37622a3290>}), (4, {'ele': <function control_gate at 0x7f376ad45cb0>}), (5, {'ele': '1'}), (6, {'ele': '0'}), (7, {'ele': '0'}), (8, {'ele': <function control_not_gate at 0x7f376ad45e60>}), (9, {'ele': '0'}), (10, {'ele': <function GNPStruct.Search1Requirement.<locals>.<lambda> at 0x7f376228b4d0>}), (11, {'ele': '0'}), (12, {'ele': <function equal at 0x7f376ad45b90>}), (13, {'ele': '1'}), (14, {'ele': <function equal at 0x7f376ad45b90>})]\"\n",
        ")"
      ],
      "execution_count": 97,
      "outputs": [
        {
          "output_type": "execute_result",
          "data": {
            "text/plain": [
              "[('in', '1'),\n",
              " (0, '<function equal at 0x7f376ad45b90>'),\n",
              " (1, '<function pos at 0x7f37622a3290>'),\n",
              " (2, '<function sum at 0x7f376ad45200>'),\n",
              " (3, '<function pos at 0x7f37622a3290>'),\n",
              " (4, '<function control_gate at 0x7f376ad45cb0>'),\n",
              " (5, '1'),\n",
              " (6, '0'),\n",
              " (7, '0'),\n",
              " (8, '<function control_not_gate at 0x7f376ad45e60>'),\n",
              " (9, '0'),\n",
              " (10,\n",
              "  '<function GNPStruct.Search1Requirement.<locals>.<lambda> at 0x7f376228b4d0>'),\n",
              " (11, '0'),\n",
              " (12, '<function equal at 0x7f376ad45b90>'),\n",
              " (13, '1'),\n",
              " (14, '<function equal at 0x7f376ad45b90>')]"
            ]
          },
          "metadata": {
            "tags": []
          },
          "execution_count": 97
        }
      ]
    },
    {
      "cell_type": "code",
      "metadata": {
        "id": "GWyoq375Hxth"
      },
      "source": [
        "edge_info_str1=\"[('in', 0, {'ele': '0'}), (0, 1, {'ele': '[TRUE]'}), (0, 6, {'ele': '[TRUE]'}), (1, 4, {'ele': '0 1'}), (1, 11, {'ele': '0 1'}), (1, 13, {'ele': '0 1'}), (2, 9, {'ele': ''}), (3, 8, {'ele': ''}), (7, 3, {'ele': '1'}), (7, 5, {'ele': '1'}), (7, 8, {'ele': '1'}), (9, 2, {'ele': ''}), (10, 9, {'ele': '0'}), (11, 2, {'ele': '0'}), (11, 14, {'ele': '1'}), (12, 0, {'ele': '0'}), (12, 5, {'ele': '0'})]\""
      ],
      "execution_count": 98,
      "outputs": []
    },
    {
      "cell_type": "code",
      "metadata": {
        "colab": {
          "base_uri": "https://localhost:8080/"
        },
        "id": "Iim6qO7QH7Wg",
        "outputId": "16dbb375-b7d7-487c-857b-513b04e020be"
      },
      "source": [
        "eval(edge_info_str1)"
      ],
      "execution_count": 99,
      "outputs": [
        {
          "output_type": "execute_result",
          "data": {
            "text/plain": [
              "[('in', 0, {'ele': '0'}),\n",
              " (0, 1, {'ele': '[TRUE]'}),\n",
              " (0, 6, {'ele': '[TRUE]'}),\n",
              " (1, 4, {'ele': '0 1'}),\n",
              " (1, 11, {'ele': '0 1'}),\n",
              " (1, 13, {'ele': '0 1'}),\n",
              " (2, 9, {'ele': ''}),\n",
              " (3, 8, {'ele': ''}),\n",
              " (7, 3, {'ele': '1'}),\n",
              " (7, 5, {'ele': '1'}),\n",
              " (7, 8, {'ele': '1'}),\n",
              " (9, 2, {'ele': ''}),\n",
              " (10, 9, {'ele': '0'}),\n",
              " (11, 2, {'ele': '0'}),\n",
              " (11, 14, {'ele': '1'}),\n",
              " (12, 0, {'ele': '0'}),\n",
              " (12, 5, {'ele': '0'})]"
            ]
          },
          "metadata": {
            "tags": []
          },
          "execution_count": 99
        }
      ]
    },
    {
      "cell_type": "code",
      "metadata": {
        "id": "7HdorbzkHjZh"
      },
      "source": [
        "def trans_edge_info(edge_info_str):\n",
        "    edge_info=eval(edge_info_str)\n",
        "    return [(edge[0],edge[1]) for edge in edge_info]"
      ],
      "execution_count": 102,
      "outputs": []
    },
    {
      "cell_type": "code",
      "metadata": {
        "colab": {
          "base_uri": "https://localhost:8080/"
        },
        "id": "HflewJKjHOjy",
        "outputId": "8f43d8c4-6c4c-41a4-8a43-3195c74965d5"
      },
      "source": [
        "trans_edge_info(\n",
        "    \"[('in', 0, {'ele': '0'}), (0, 1, {'ele': '[TRUE]'}), (0, 6, {'ele': '[TRUE]'}), (1, 4, {'ele': '0 1'}), (1, 11, {'ele': '0 1'}), (1, 13, {'ele': '0 1'}), (2, 9, {'ele': ''}), (3, 8, {'ele': ''}), (7, 3, {'ele': '1'}), (7, 5, {'ele': '1'}), (7, 8, {'ele': '1'}), (9, 2, {'ele': ''}), (10, 9, {'ele': '0'}), (11, 2, {'ele': '0'}), (11, 14, {'ele': '1'}), (12, 0, {'ele': '0'}), (12, 5, {'ele': '0'})]\"\n",
        ")"
      ],
      "execution_count": 103,
      "outputs": [
        {
          "output_type": "execute_result",
          "data": {
            "text/plain": [
              "[('in', 0),\n",
              " (0, 1),\n",
              " (0, 6),\n",
              " (1, 4),\n",
              " (1, 11),\n",
              " (1, 13),\n",
              " (2, 9),\n",
              " (3, 8),\n",
              " (7, 3),\n",
              " (7, 5),\n",
              " (7, 8),\n",
              " (9, 2),\n",
              " (10, 9),\n",
              " (11, 2),\n",
              " (11, 14),\n",
              " (12, 0),\n",
              " (12, 5)]"
            ]
          },
          "metadata": {
            "tags": []
          },
          "execution_count": 103
        }
      ]
    },
    {
      "cell_type": "code",
      "metadata": {
        "id": "vMPOcCQmIsTR"
      },
      "source": [
        "class TransNetworkInfo():\n",
        "    def __init__(self,node_info_str,edge_info_str):\n",
        "        self.node_info_str=node_info_str\n",
        "        self.edge_info_str=edge_info_str\n",
        "    def trans_info(self):\n",
        "        #return self.trans_node_info(),self.trans_edge_info()\n",
        "        print(self.trans_node_info())\n",
        "        print(self.trans_edge_info())\n",
        "    def trans_node_info(self):\n",
        "        node_info=eval(self.node_info_str.replace(\" <\",\" '<\").replace(\">}\",\">'}\").replace(\">,\",\">',\"))\n",
        "        #return [(node[0], node[1]['ele'].split()[1] if (type(node[1]['ele'])==str and \"function\" in node[1]['ele']) else node[1]['ele'] ) for node in node_info]\n",
        "        return [(node[0],node[1]['ele']) for node in node_info]    \n",
        "    def trans_edge_info(self):\n",
        "        edge_info=eval(self.edge_info_str)\n",
        "        return [(edge[0],edge[1]) for edge in edge_info]"
      ],
      "execution_count": 125,
      "outputs": []
    },
    {
      "cell_type": "code",
      "metadata": {
        "id": "NRCd9qd9KXTh"
      },
      "source": [
        "tni1=TransNetworkInfo(\n",
        "    \"[('in', {'ele': '0'}), (0, {'ele': <function sum at 0x7f376ad45200>, 'pos': 0}), (1, {'ele': '1'}), (2, {'ele': '1'}), (3, {'ele': '0'}), (4, {'ele': <function object_func at 0x7f37622a3680>}), (5, {'ele': <function div at 0x7f376ad45560>}), (6, {'ele': <function equal at 0x7f376ad45b90>}), (7, {'ele': <function control_not_gate at 0x7f376ad45e60>}), (8, {'ele': <function sum at 0x7f376ad45200>}), (9, {'ele': <function equal at 0x7f376ad45b90>, 'pos': 1}), (10, {'ele': <function sum at 0x7f376ad45200>, 'pos': 2}), (11, {'ele': '1'}), (12, {'ele': <function div at 0x7f376ad45560>}), (13, {'ele': <function object_func at 0x7f37622a3680>}), (14, {'ele': <function control_not_gate at 0x7f376ad45e60>})]\",\n",
        "    \"[('in', 5, {'ele': '0'}), ('in', 6, {'ele': '0'}), (0, 8, {'ele': ''}), (0, 14, {'ele': ''}), (1, 0, {'ele': '1'}), (1, 6, {'ele': '1'}), (1, 7, {'ele': '1'}), (1, 8, {'ele': '1'}), (1, 14, {'ele': '1'}), (2, 8, {'ele': '1'}), (3, 0, {'ele': '0'}), (4, 0, {'ele': ''}), (5, 0, {'ele': '0'}), (5, 9, {'ele': ''}), (5, 10, {'ele': ''}), (6, 7, {'ele': '[FALSE]'}), (6, 9, {'ele': '[FALSE]'}), (7, 0, {'ele': '1'}), (7, 8, {'ele': '1'}), (7, 13, {'ele': '1'}), (8, 0, {'ele': ''}), (8, 4, {'ele': ''}), (9, 0, {'ele': ''}), (10, 0, {'ele': ''}), (10, 12, {'ele': ''}), (11, 0, {'ele': '1'}), (12, 0, {'ele': ''})]\"\n",
        ")"
      ],
      "execution_count": 126,
      "outputs": []
    },
    {
      "cell_type": "code",
      "metadata": {
        "colab": {
          "base_uri": "https://localhost:8080/"
        },
        "id": "C9OvohKgKzyQ",
        "outputId": "cef6a1f3-8159-499e-80dc-1be3cede26b1"
      },
      "source": [
        "tni1.trans_info()"
      ],
      "execution_count": 127,
      "outputs": [
        {
          "output_type": "stream",
          "text": [
            "[('in', '0'), (0, '<function sum at 0x7f376ad45200>'), (1, '1'), (2, '1'), (3, '0'), (4, '<function object_func at 0x7f37622a3680>'), (5, '<function div at 0x7f376ad45560>'), (6, '<function equal at 0x7f376ad45b90>'), (7, '<function control_not_gate at 0x7f376ad45e60>'), (8, '<function sum at 0x7f376ad45200>'), (9, '<function equal at 0x7f376ad45b90>'), (10, '<function sum at 0x7f376ad45200>'), (11, '1'), (12, '<function div at 0x7f376ad45560>'), (13, '<function object_func at 0x7f37622a3680>'), (14, '<function control_not_gate at 0x7f376ad45e60>')]\n",
            "[('in', 5), ('in', 6), (0, 8), (0, 14), (1, 0), (1, 6), (1, 7), (1, 8), (1, 14), (2, 8), (3, 0), (4, 0), (5, 0), (5, 9), (5, 10), (6, 7), (6, 9), (7, 0), (7, 8), (7, 13), (8, 0), (8, 4), (9, 0), (10, 0), (10, 12), (11, 0), (12, 0)]\n"
          ],
          "name": "stdout"
        }
      ]
    },
    {
      "cell_type": "code",
      "metadata": {
        "colab": {
          "base_uri": "https://localhost:8080/"
        },
        "id": "LAJ_uURkK4ex",
        "outputId": "537297d4-6db4-4a94-f639-bd7fe109a64f"
      },
      "source": [
        "tni=TransNetworkInfo(\n",
        "\"[('in', {'ele': '1'}), (0, {'ele': <function equal at 0x7f376ad45b90>}), (1, {'ele': <function pos at 0x7f37622a3290>}), (2, {'ele': <function sum at 0x7f376ad45200>}), (3, {'ele': <function pos at 0x7f37622a3290>}), (4, {'ele': <function control_gate at 0x7f376ad45cb0>}), (5, {'ele': '1'}), (6, {'ele': '0'}), (7, {'ele': '0'}), (8, {'ele': <function control_not_gate at 0x7f376ad45e60>}), (9, {'ele': '0'}), (10, {'ele': <function GNPStruct.Search1Requirement.<locals>.<lambda> at 0x7f376228b4d0>}), (11, {'ele': '0'}), (12, {'ele': <function equal at 0x7f376ad45b90>}), (13, {'ele': '1'}), (14, {'ele': <function equal at 0x7f376ad45b90>})]\",\n",
        "\"[('in', 3, {'ele': '1'}), ('in', 4, {'ele': '1'}), (0, 10, {'ele': '[FALSE]'}), (3, 2, {'ele': 0}), (3, 14, {'ele': 0}), (4, 2, {'ele': '[NULL]'}), (4, 14, {'ele': '[NULL]'}), (6, 12, {'ele': '0'}), (8, 2, {'ele': '[NULL]'}), (9, 0, {'ele': '0'}), (9, 1, {'ele': '0'}), (9, 12, {'ele': '0'}), (10, 8, {'ele': '1'}), (13, 4, {'ele': '1'}), (13, 8, {'ele': '1'}), (14, 0, {'ele': '[FALSE]'})]\"\n",
        ")\n",
        "tni.trans_info()"
      ],
      "execution_count": 128,
      "outputs": [
        {
          "output_type": "stream",
          "text": [
            "[('in', '1'), (0, '<function equal at 0x7f376ad45b90>'), (1, '<function pos at 0x7f37622a3290>'), (2, '<function sum at 0x7f376ad45200>'), (3, '<function pos at 0x7f37622a3290>'), (4, '<function control_gate at 0x7f376ad45cb0>'), (5, '1'), (6, '0'), (7, '0'), (8, '<function control_not_gate at 0x7f376ad45e60>'), (9, '0'), (10, '<function GNPStruct.Search1Requirement.<locals>.<lambda> at 0x7f376228b4d0>'), (11, '0'), (12, '<function equal at 0x7f376ad45b90>'), (13, '1'), (14, '<function equal at 0x7f376ad45b90>')]\n",
            "[('in', 3), ('in', 4), (0, 10), (3, 2), (3, 14), (4, 2), (4, 14), (6, 12), (8, 2), (9, 0), (9, 1), (9, 12), (10, 8), (13, 4), (13, 8), (14, 0)]\n"
          ],
          "name": "stdout"
        }
      ]
    },
    {
      "cell_type": "code",
      "metadata": {
        "colab": {
          "base_uri": "https://localhost:8080/"
        },
        "id": "qIdizwG3TYli",
        "outputId": "e831efce-bb1c-4b05-ff24-18a1f4416fb6"
      },
      "source": [
        "tni=TransNetworkInfo(\n",
        "\"[('in', {'ele': '0'}), (0, {'ele': <function equal at 0x7f376ad45b90>}), (1, {'ele': <function GNPStruct.Search1Requirement.<locals>.<lambda> at 0x7f376268b200>}), (2, {'ele': <function equal at 0x7f376ad45b90>, 'pos': 0}), (3, {'ele': <function pos at 0x7f37622a3290>}), (4, {'ele': <function object_func at 0x7f37622a3680>}), (5, {'ele': <function control_gate at 0x7f376ad45cb0>}), (6, {'ele': <function GNPStruct.Search1Requirement.<locals>.<lambda> at 0x7f376268b200>}), (7, {'ele': '1'}), (8, {'ele': <function control_gate at 0x7f376ad45cb0>}), (9, {'ele': <function equal at 0x7f376ad45b90>}), (10, {'ele': '0'}), (11, {'ele': <function div at 0x7f376ad45560>}), (12, {'ele': '0'}), (13, {'ele': <function div at 0x7f376ad45560>}), (14, {'ele': <function div at 0x7f376ad45560>, 'pos': 1})]\",\n",
        "\"[('in', 0, {'ele': '0'}), (0, 1, {'ele': '[TRUE]'}), (0, 6, {'ele': '[TRUE]'}), (1, 4, {'ele': '0 1'}), (1, 11, {'ele': '0 1'}), (1, 13, {'ele': '0 1'}), (2, 9, {'ele': ''}), (3, 8, {'ele': ''}), (7, 3, {'ele': '1'}), (7, 5, {'ele': '1'}), (7, 8, {'ele': '1'}), (9, 2, {'ele': ''}), (10, 9, {'ele': '0'}), (11, 2, {'ele': '0'}), (11, 14, {'ele': '1'}), (12, 0, {'ele': '0'}), (12, 5, {'ele': '0'})]\"\n",
        ")\n",
        "tni.trans_info()"
      ],
      "execution_count": 129,
      "outputs": [
        {
          "output_type": "stream",
          "text": [
            "[('in', '0'), (0, '<function equal at 0x7f376ad45b90>'), (1, '<function GNPStruct.Search1Requirement.<locals>.<lambda> at 0x7f376268b200>'), (2, '<function equal at 0x7f376ad45b90>'), (3, '<function pos at 0x7f37622a3290>'), (4, '<function object_func at 0x7f37622a3680>'), (5, '<function control_gate at 0x7f376ad45cb0>'), (6, '<function GNPStruct.Search1Requirement.<locals>.<lambda> at 0x7f376268b200>'), (7, '1'), (8, '<function control_gate at 0x7f376ad45cb0>'), (9, '<function equal at 0x7f376ad45b90>'), (10, '0'), (11, '<function div at 0x7f376ad45560>'), (12, '0'), (13, '<function div at 0x7f376ad45560>'), (14, '<function div at 0x7f376ad45560>')]\n",
            "[('in', 0), (0, 1), (0, 6), (1, 4), (1, 11), (1, 13), (2, 9), (3, 8), (7, 3), (7, 5), (7, 8), (9, 2), (10, 9), (11, 2), (11, 14), (12, 0), (12, 5)]\n"
          ],
          "name": "stdout"
        }
      ]
    }
  ]
}