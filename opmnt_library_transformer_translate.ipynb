{
  "nbformat": 4,
  "nbformat_minor": 0,
  "metadata": {
    "colab": {
      "name": "opmnt_library_transformer_translate.ipynb",
      "provenance": [],
      "collapsed_sections": [],
      "toc_visible": true,
      "include_colab_link": true
    },
    "kernelspec": {
      "name": "python3",
      "display_name": "Python 3"
    },
    "language_info": {
      "name": "python"
    },
    "accelerator": "GPU"
  },
  "cells": [
    {
      "cell_type": "markdown",
      "metadata": {
        "id": "view-in-github",
        "colab_type": "text"
      },
      "source": [
        "<a href=\"https://colab.research.google.com/github/Amplil/nlp-test/blob/master/opmnt_library_transformer_translate.ipynb\" target=\"_parent\"><img src=\"https://colab.research.google.com/assets/colab-badge.svg\" alt=\"Open In Colab\"/></a>"
      ]
    },
    {
      "cell_type": "code",
      "metadata": {
        "colab": {
          "base_uri": "https://localhost:8080/"
        },
        "id": "ldx06QzFUDmv",
        "outputId": "0ee37907-cacb-4016-ab61-e1c92e5cdfe2"
      },
      "source": [
        "from google.colab import drive\n",
        "drive.mount('/content/drive')"
      ],
      "execution_count": 1,
      "outputs": [
        {
          "output_type": "stream",
          "name": "stdout",
          "text": [
            "Mounted at /content/drive\n"
          ]
        }
      ]
    },
    {
      "cell_type": "markdown",
      "metadata": {
        "id": "EVB_lU8MLAov"
      },
      "source": [
        "# 初期化"
      ]
    },
    {
      "cell_type": "code",
      "metadata": {
        "id": "ClLRYsiVAvmO",
        "colab": {
          "base_uri": "https://localhost:8080/"
        },
        "outputId": "63e6ddc7-4866-409b-e7d8-bff53a2a8697"
      },
      "source": [
        "cd \"/content/drive/MyDrive/Colab Notebooks\""
      ],
      "execution_count": 2,
      "outputs": [
        {
          "output_type": "stream",
          "name": "stdout",
          "text": [
            "/content/drive/MyDrive/Colab Notebooks\n"
          ]
        }
      ]
    },
    {
      "cell_type": "code",
      "metadata": {
        "id": "djsObUCTBuU5",
        "colab": {
          "base_uri": "https://localhost:8080/"
        },
        "outputId": "1ecb2991-2c64-4e31-c808-d53c2e641fff"
      },
      "source": [
        "ls"
      ],
      "execution_count": 3,
      "outputs": [
        {
          "output_type": "stream",
          "name": "stdout",
          "text": [
            "\u001b[0m\u001b[01;36mdata\u001b[0m@                                      pred.txt\n",
            "new_colab2.ipynb                           \u001b[01;36mtoy-ende\u001b[0m@\n",
            "opmnt_library_test.ipynb                   \u001b[01;36mTransformer\u001b[0m@\n",
            "opmnt_library_transformer_translate.ipynb  transformer_kyoto_ja_en.ipynb\n",
            "\u001b[01;36mpackages\u001b[0m@                                  transformer_test.ipynb\n"
          ]
        }
      ]
    },
    {
      "cell_type": "code",
      "metadata": {
        "id": "xxJOKCR4BBvK"
      },
      "source": [
        "import sys\n",
        "sys.path.append(\"/content/drive/MyDrive/Colab Notebooks/packages\")\n",
        "import slacknotice # オリジナルモジュール"
      ],
      "execution_count": 4,
      "outputs": []
    },
    {
      "cell_type": "code",
      "metadata": {
        "id": "09dBHBy5BCMh",
        "colab": {
          "base_uri": "https://localhost:8080/"
        },
        "outputId": "58c40d63-4a0f-46f0-e809-84f2bd0b8bcd"
      },
      "source": [
        "pip install OpenNMT-py"
      ],
      "execution_count": 5,
      "outputs": [
        {
          "output_type": "stream",
          "name": "stdout",
          "text": [
            "Collecting OpenNMT-py\n",
            "  Downloading OpenNMT_py-2.2.0-py3-none-any.whl (216 kB)\n",
            "\u001b[?25l\r\u001b[K     |█▌                              | 10 kB 29.3 MB/s eta 0:00:01\r\u001b[K     |███                             | 20 kB 25.7 MB/s eta 0:00:01\r\u001b[K     |████▌                           | 30 kB 11.8 MB/s eta 0:00:01\r\u001b[K     |██████                          | 40 kB 8.7 MB/s eta 0:00:01\r\u001b[K     |███████▋                        | 51 kB 5.2 MB/s eta 0:00:01\r\u001b[K     |█████████                       | 61 kB 5.7 MB/s eta 0:00:01\r\u001b[K     |██████████▋                     | 71 kB 5.5 MB/s eta 0:00:01\r\u001b[K     |████████████                    | 81 kB 6.2 MB/s eta 0:00:01\r\u001b[K     |█████████████▋                  | 92 kB 4.7 MB/s eta 0:00:01\r\u001b[K     |███████████████▏                | 102 kB 5.1 MB/s eta 0:00:01\r\u001b[K     |████████████████▋               | 112 kB 5.1 MB/s eta 0:00:01\r\u001b[K     |██████████████████▏             | 122 kB 5.1 MB/s eta 0:00:01\r\u001b[K     |███████████████████▋            | 133 kB 5.1 MB/s eta 0:00:01\r\u001b[K     |█████████████████████▏          | 143 kB 5.1 MB/s eta 0:00:01\r\u001b[K     |██████████████████████▊         | 153 kB 5.1 MB/s eta 0:00:01\r\u001b[K     |████████████████████████▏       | 163 kB 5.1 MB/s eta 0:00:01\r\u001b[K     |█████████████████████████▊      | 174 kB 5.1 MB/s eta 0:00:01\r\u001b[K     |███████████████████████████▏    | 184 kB 5.1 MB/s eta 0:00:01\r\u001b[K     |████████████████████████████▊   | 194 kB 5.1 MB/s eta 0:00:01\r\u001b[K     |██████████████████████████████▎ | 204 kB 5.1 MB/s eta 0:00:01\r\u001b[K     |███████████████████████████████▊| 215 kB 5.1 MB/s eta 0:00:01\r\u001b[K     |████████████████████████████████| 216 kB 5.1 MB/s \n",
            "\u001b[?25hRequirement already satisfied: tensorboard>=2.3 in /usr/local/lib/python3.7/dist-packages (from OpenNMT-py) (2.6.0)\n",
            "Collecting torchtext==0.5.0\n",
            "  Downloading torchtext-0.5.0-py3-none-any.whl (73 kB)\n",
            "\u001b[K     |████████████████████████████████| 73 kB 1.6 MB/s \n",
            "\u001b[?25hCollecting configargparse\n",
            "  Downloading ConfigArgParse-1.5.3-py3-none-any.whl (20 kB)\n",
            "Collecting pyonmttok<2,>=1.23\n",
            "  Downloading pyonmttok-1.29.0-cp37-cp37m-manylinux_2_12_x86_64.manylinux2010_x86_64.whl (16.0 MB)\n",
            "\u001b[K     |████████████████████████████████| 16.0 MB 117 kB/s \n",
            "\u001b[?25hRequirement already satisfied: pyyaml in /usr/local/lib/python3.7/dist-packages (from OpenNMT-py) (3.13)\n",
            "Requirement already satisfied: flask in /usr/local/lib/python3.7/dist-packages (from OpenNMT-py) (1.1.4)\n",
            "Collecting waitress\n",
            "  Downloading waitress-2.0.0-py3-none-any.whl (56 kB)\n",
            "\u001b[K     |████████████████████████████████| 56 kB 4.2 MB/s \n",
            "\u001b[?25hRequirement already satisfied: torch>=1.6.0 in /usr/local/lib/python3.7/dist-packages (from OpenNMT-py) (1.9.0+cu111)\n",
            "Requirement already satisfied: tqdm in /usr/local/lib/python3.7/dist-packages (from torchtext==0.5.0->OpenNMT-py) (4.62.3)\n",
            "Requirement already satisfied: requests in /usr/local/lib/python3.7/dist-packages (from torchtext==0.5.0->OpenNMT-py) (2.23.0)\n",
            "Collecting sentencepiece\n",
            "  Downloading sentencepiece-0.1.96-cp37-cp37m-manylinux_2_17_x86_64.manylinux2014_x86_64.whl (1.2 MB)\n",
            "\u001b[K     |████████████████████████████████| 1.2 MB 28.0 MB/s \n",
            "\u001b[?25hRequirement already satisfied: six in /usr/local/lib/python3.7/dist-packages (from torchtext==0.5.0->OpenNMT-py) (1.15.0)\n",
            "Requirement already satisfied: numpy in /usr/local/lib/python3.7/dist-packages (from torchtext==0.5.0->OpenNMT-py) (1.19.5)\n",
            "Requirement already satisfied: markdown>=2.6.8 in /usr/local/lib/python3.7/dist-packages (from tensorboard>=2.3->OpenNMT-py) (3.3.4)\n",
            "Requirement already satisfied: setuptools>=41.0.0 in /usr/local/lib/python3.7/dist-packages (from tensorboard>=2.3->OpenNMT-py) (57.4.0)\n",
            "Requirement already satisfied: tensorboard-plugin-wit>=1.6.0 in /usr/local/lib/python3.7/dist-packages (from tensorboard>=2.3->OpenNMT-py) (1.8.0)\n",
            "Requirement already satisfied: wheel>=0.26 in /usr/local/lib/python3.7/dist-packages (from tensorboard>=2.3->OpenNMT-py) (0.37.0)\n",
            "Requirement already satisfied: google-auth<2,>=1.6.3 in /usr/local/lib/python3.7/dist-packages (from tensorboard>=2.3->OpenNMT-py) (1.35.0)\n",
            "Requirement already satisfied: absl-py>=0.4 in /usr/local/lib/python3.7/dist-packages (from tensorboard>=2.3->OpenNMT-py) (0.12.0)\n",
            "Requirement already satisfied: tensorboard-data-server<0.7.0,>=0.6.0 in /usr/local/lib/python3.7/dist-packages (from tensorboard>=2.3->OpenNMT-py) (0.6.1)\n",
            "Requirement already satisfied: protobuf>=3.6.0 in /usr/local/lib/python3.7/dist-packages (from tensorboard>=2.3->OpenNMT-py) (3.17.3)\n",
            "Requirement already satisfied: grpcio>=1.24.3 in /usr/local/lib/python3.7/dist-packages (from tensorboard>=2.3->OpenNMT-py) (1.41.0)\n",
            "Requirement already satisfied: werkzeug>=0.11.15 in /usr/local/lib/python3.7/dist-packages (from tensorboard>=2.3->OpenNMT-py) (1.0.1)\n",
            "Requirement already satisfied: google-auth-oauthlib<0.5,>=0.4.1 in /usr/local/lib/python3.7/dist-packages (from tensorboard>=2.3->OpenNMT-py) (0.4.6)\n",
            "Requirement already satisfied: pyasn1-modules>=0.2.1 in /usr/local/lib/python3.7/dist-packages (from google-auth<2,>=1.6.3->tensorboard>=2.3->OpenNMT-py) (0.2.8)\n",
            "Requirement already satisfied: cachetools<5.0,>=2.0.0 in /usr/local/lib/python3.7/dist-packages (from google-auth<2,>=1.6.3->tensorboard>=2.3->OpenNMT-py) (4.2.4)\n",
            "Requirement already satisfied: rsa<5,>=3.1.4 in /usr/local/lib/python3.7/dist-packages (from google-auth<2,>=1.6.3->tensorboard>=2.3->OpenNMT-py) (4.7.2)\n",
            "Requirement already satisfied: requests-oauthlib>=0.7.0 in /usr/local/lib/python3.7/dist-packages (from google-auth-oauthlib<0.5,>=0.4.1->tensorboard>=2.3->OpenNMT-py) (1.3.0)\n",
            "Requirement already satisfied: importlib-metadata in /usr/local/lib/python3.7/dist-packages (from markdown>=2.6.8->tensorboard>=2.3->OpenNMT-py) (4.8.1)\n",
            "Requirement already satisfied: pyasn1<0.5.0,>=0.4.6 in /usr/local/lib/python3.7/dist-packages (from pyasn1-modules>=0.2.1->google-auth<2,>=1.6.3->tensorboard>=2.3->OpenNMT-py) (0.4.8)\n",
            "Requirement already satisfied: chardet<4,>=3.0.2 in /usr/local/lib/python3.7/dist-packages (from requests->torchtext==0.5.0->OpenNMT-py) (3.0.4)\n",
            "Requirement already satisfied: idna<3,>=2.5 in /usr/local/lib/python3.7/dist-packages (from requests->torchtext==0.5.0->OpenNMT-py) (2.10)\n",
            "Requirement already satisfied: urllib3!=1.25.0,!=1.25.1,<1.26,>=1.21.1 in /usr/local/lib/python3.7/dist-packages (from requests->torchtext==0.5.0->OpenNMT-py) (1.24.3)\n",
            "Requirement already satisfied: certifi>=2017.4.17 in /usr/local/lib/python3.7/dist-packages (from requests->torchtext==0.5.0->OpenNMT-py) (2021.5.30)\n",
            "Requirement already satisfied: oauthlib>=3.0.0 in /usr/local/lib/python3.7/dist-packages (from requests-oauthlib>=0.7.0->google-auth-oauthlib<0.5,>=0.4.1->tensorboard>=2.3->OpenNMT-py) (3.1.1)\n",
            "Requirement already satisfied: typing-extensions in /usr/local/lib/python3.7/dist-packages (from torch>=1.6.0->OpenNMT-py) (3.7.4.3)\n",
            "Requirement already satisfied: click<8.0,>=5.1 in /usr/local/lib/python3.7/dist-packages (from flask->OpenNMT-py) (7.1.2)\n",
            "Requirement already satisfied: itsdangerous<2.0,>=0.24 in /usr/local/lib/python3.7/dist-packages (from flask->OpenNMT-py) (1.1.0)\n",
            "Requirement already satisfied: Jinja2<3.0,>=2.10.1 in /usr/local/lib/python3.7/dist-packages (from flask->OpenNMT-py) (2.11.3)\n",
            "Requirement already satisfied: MarkupSafe>=0.23 in /usr/local/lib/python3.7/dist-packages (from Jinja2<3.0,>=2.10.1->flask->OpenNMT-py) (2.0.1)\n",
            "Requirement already satisfied: zipp>=0.5 in /usr/local/lib/python3.7/dist-packages (from importlib-metadata->markdown>=2.6.8->tensorboard>=2.3->OpenNMT-py) (3.6.0)\n",
            "Installing collected packages: sentencepiece, waitress, torchtext, pyonmttok, configargparse, OpenNMT-py\n",
            "  Attempting uninstall: torchtext\n",
            "    Found existing installation: torchtext 0.10.0\n",
            "    Uninstalling torchtext-0.10.0:\n",
            "      Successfully uninstalled torchtext-0.10.0\n",
            "Successfully installed OpenNMT-py-2.2.0 configargparse-1.5.3 pyonmttok-1.29.0 sentencepiece-0.1.96 torchtext-0.5.0 waitress-2.0.0\n"
          ]
        }
      ]
    },
    {
      "cell_type": "code",
      "metadata": {
        "id": "Pm-x7Md0BNZi"
      },
      "source": [
        "import torch\n",
        "import torch.nn as nn\n",
        "from argparse import Namespace\n",
        "from collections import defaultdict, Counter"
      ],
      "execution_count": 6,
      "outputs": []
    },
    {
      "cell_type": "code",
      "metadata": {
        "id": "VwrLKwamBOAh"
      },
      "source": [
        "import onmt\n",
        "from onmt.inputters.inputter import _load_vocab, _build_fields_vocab, get_fields, IterOnDevice\n",
        "from onmt.inputters.corpus import ParallelCorpus\n",
        "from onmt.inputters.dynamic_iterator import DynamicDatasetIter\n",
        "from onmt.translate import GNMTGlobalScorer, Translator, TranslationBuilder\n",
        "from onmt.utils.misc import set_random_seed"
      ],
      "execution_count": 7,
      "outputs": []
    },
    {
      "cell_type": "code",
      "metadata": {
        "id": "dWCCFRMcBUgM",
        "colab": {
          "base_uri": "https://localhost:8080/"
        },
        "outputId": "42651f09-e6d3-44b5-d2d7-03cc8c04e7d4"
      },
      "source": [
        "# enable logging\n",
        "from onmt.utils.logging import init_logger, logger\n",
        "init_logger()"
      ],
      "execution_count": 8,
      "outputs": [
        {
          "output_type": "execute_result",
          "data": {
            "text/plain": [
              "<RootLogger root (INFO)>"
            ]
          },
          "metadata": {},
          "execution_count": 8
        }
      ]
    },
    {
      "cell_type": "markdown",
      "metadata": {
        "id": "VtInB14qBNkU"
      },
      "source": [
        "# モデルの読み込み"
      ]
    },
    {
      "cell_type": "code",
      "metadata": {
        "colab": {
          "base_uri": "https://localhost:8080/"
        },
        "id": "umQJYyFWsvAy",
        "outputId": "0bdb48cb-8638-40df-f564-5aa59268b1c9"
      },
      "source": [
        "import onmt.opts as opts\n",
        "from onmt.utils.parse import ArgumentParser\n",
        "#from onmt.opts import dynamic_prepare_opts\n",
        "\n",
        "parser = ArgumentParser(description='translate.py')\n",
        "#dynamic_prepare_opts(parser, build_vocab_only=True)\n",
        "opts.translate_opts(parser)\n",
        "\n",
        "base_args = ([\"-model\", \"data/kftt-data-1.0/run/model_step_15000.pt\", \"-src\", \"data/en_sample.txt\", \"-output\", \"data/kftt-data-1.0/out.txt\", \"-gpu\", \"0\", \"-verbose\",\"-attn_debug\"])\n",
        "opt, unknown = parser.parse_known_args(base_args)\n",
        "opt"
      ],
      "execution_count": 9,
      "outputs": [
        {
          "output_type": "execute_result",
          "data": {
            "text/plain": [
              "Namespace(align_debug=False, alpha=0.0, attn_debug=True, avg_raw_probs=False, ban_unk_token=False, batch_size=30, batch_type='sents', beam_size=5, beta=-0.0, block_ngram_repeat=0, coverage_penalty='none', data_type='text', dump_beam='', fp32=False, gpu=0, ignore_when_blocking=[], int8=False, length_penalty='none', log_file='', log_file_level='0', max_length=100, max_sent_length=None, min_length=0, models=['data/kftt-data-1.0/run/model_step_15000.pt'], n_best=1, output='data/kftt-data-1.0/out.txt', phrase_table='', random_sampling_temp=1.0, random_sampling_topk=0, random_sampling_topp=0.0, ratio=-0.0, replace_unk=False, report_align=False, report_time=False, seed=-1, shard_size=10000, src='data/en_sample.txt', src_feats=None, stepwise_penalty=False, tgt=None, tgt_prefix=False, verbose=True)"
            ]
          },
          "metadata": {},
          "execution_count": 9
        }
      ]
    },
    {
      "cell_type": "code",
      "metadata": {
        "id": "cHcg9gkUNs7V"
      },
      "source": [
        "from onmt.translate.translator import build_translator\n",
        "\n",
        "ArgumentParser.validate_translate_opts(opt)\n",
        "logger = init_logger(opt.log_file)\n",
        "\n",
        "translator = build_translator(opt, logger=logger, report_score=True)"
      ],
      "execution_count": 10,
      "outputs": []
    },
    {
      "cell_type": "code",
      "metadata": {
        "id": "Y1njxC7MJ8u_"
      },
      "source": [
        "\"\"\"\n",
        "# out_fileの作成\n",
        "if out_file is None:\n",
        "    out_file = codecs.open(opt.output, \"w+\", \"utf-8\")\n",
        "\"\"\"\n",
        "load_test_model = (\n",
        "    onmt.decoders.ensemble.load_test_model\n",
        "    if len(opt.models) > 1\n",
        "    else onmt.model_builder.load_test_model\n",
        ")\n",
        "vocab_fields, model, model_opt = load_test_model(opt) # fields->vocab_fields\n",
        "\n",
        "scorer = onmt.translate.GNMTGlobalScorer.from_opt(opt)"
      ],
      "execution_count": 11,
      "outputs": []
    },
    {
      "cell_type": "code",
      "metadata": {
        "colab": {
          "base_uri": "https://localhost:8080/",
          "height": 106
        },
        "id": "i9WIABBdhY0K",
        "outputId": "6eab8818-4617-49b0-e707-9347f522e3be"
      },
      "source": [
        "#def load_test_model(opt, model_path=None)\n",
        "\"\"\"\n",
        "from onmt.utils.parse import ArgumentParser\n",
        "import onmt.inputters as inputters\n",
        "from onmt.utils.misc import use_gpu\n",
        "\n",
        "model_path=\"data/kftt-data-1.0/run/model_step_15000.pt\"\n",
        "\n",
        "checkpoint = torch.load(model_path,map_location=lambda storage, loc: storage)\n",
        "\n",
        "model_opt = ArgumentParser.ckpt_model_opts(checkpoint['opt'])\n",
        "ArgumentParser.update_model_opts(model_opt)\n",
        "ArgumentParser.validate_model_opts(model_opt)\n",
        "fields = checkpoint['vocab']\n",
        "\n",
        "# Avoid functionality on inference\n",
        "model_opt.update_vocab = False\n",
        "\n",
        "model = onmt.model_builder.build_base_model(model_opt, fields, use_gpu(opt), checkpoint,\n",
        "                            opt.gpu)\n",
        "if opt.fp32:\n",
        "    model.float()\n",
        "elif opt.int8:\n",
        "    if opt.gpu >= 0:\n",
        "        raise ValueError(\n",
        "            \"Dynamic 8-bit quantization is not supported on GPU\")\n",
        "    torch.quantization.quantize_dynamic(model, inplace=True)\n",
        "model.eval()\n",
        "model.generator.eval()\n",
        "\"\"\""
      ],
      "execution_count": 12,
      "outputs": [
        {
          "output_type": "execute_result",
          "data": {
            "application/vnd.google.colaboratory.intrinsic+json": {
              "type": "string"
            },
            "text/plain": [
              "'\\nfrom onmt.utils.parse import ArgumentParser\\nimport onmt.inputters as inputters\\nfrom onmt.utils.misc import use_gpu\\n\\nmodel_path=\"data/kftt-data-1.0/run/model_step_15000.pt\"\\n\\ncheckpoint = torch.load(model_path,map_location=lambda storage, loc: storage)\\n\\nmodel_opt = ArgumentParser.ckpt_model_opts(checkpoint[\\'opt\\'])\\nArgumentParser.update_model_opts(model_opt)\\nArgumentParser.validate_model_opts(model_opt)\\nfields = checkpoint[\\'vocab\\']\\n\\n# Avoid functionality on inference\\nmodel_opt.update_vocab = False\\n\\nmodel = onmt.model_builder.build_base_model(model_opt, fields, use_gpu(opt), checkpoint,\\n                            opt.gpu)\\nif opt.fp32:\\n    model.float()\\nelif opt.int8:\\n    if opt.gpu >= 0:\\n        raise ValueError(\\n            \"Dynamic 8-bit quantization is not supported on GPU\")\\n    torch.quantization.quantize_dynamic(model, inplace=True)\\nmodel.eval()\\nmodel.generator.eval()\\n'"
            ]
          },
          "metadata": {},
          "execution_count": 12
        }
      ]
    },
    {
      "cell_type": "code",
      "metadata": {
        "colab": {
          "base_uri": "https://localhost:8080/"
        },
        "id": "IGDQWf9HgzVn",
        "outputId": "b5233b4f-1dd2-45c5-f7e0-81081064cec1"
      },
      "source": [
        "model"
      ],
      "execution_count": 13,
      "outputs": [
        {
          "output_type": "execute_result",
          "data": {
            "text/plain": [
              "NMTModel(\n",
              "  (encoder): TransformerEncoder(\n",
              "    (embeddings): Embeddings(\n",
              "      (make_embedding): Sequential(\n",
              "        (emb_luts): Elementwise(\n",
              "          (0): Embedding(13639, 512, padding_idx=1)\n",
              "        )\n",
              "        (pe): PositionalEncoding(\n",
              "          (dropout): Dropout(p=0.1, inplace=False)\n",
              "        )\n",
              "      )\n",
              "    )\n",
              "    (transformer): ModuleList(\n",
              "      (0): TransformerEncoderLayer(\n",
              "        (self_attn): MultiHeadedAttention(\n",
              "          (linear_keys): Linear(in_features=512, out_features=512, bias=True)\n",
              "          (linear_values): Linear(in_features=512, out_features=512, bias=True)\n",
              "          (linear_query): Linear(in_features=512, out_features=512, bias=True)\n",
              "          (softmax): Softmax(dim=-1)\n",
              "          (dropout): Dropout(p=0.1, inplace=False)\n",
              "          (final_linear): Linear(in_features=512, out_features=512, bias=True)\n",
              "        )\n",
              "        (feed_forward): PositionwiseFeedForward(\n",
              "          (w_1): Linear(in_features=512, out_features=2048, bias=True)\n",
              "          (w_2): Linear(in_features=2048, out_features=512, bias=True)\n",
              "          (layer_norm): LayerNorm((512,), eps=1e-06, elementwise_affine=True)\n",
              "          (dropout_1): Dropout(p=0.1, inplace=False)\n",
              "          (dropout_2): Dropout(p=0.1, inplace=False)\n",
              "        )\n",
              "        (layer_norm): LayerNorm((512,), eps=1e-06, elementwise_affine=True)\n",
              "        (dropout): Dropout(p=0.1, inplace=False)\n",
              "      )\n",
              "      (1): TransformerEncoderLayer(\n",
              "        (self_attn): MultiHeadedAttention(\n",
              "          (linear_keys): Linear(in_features=512, out_features=512, bias=True)\n",
              "          (linear_values): Linear(in_features=512, out_features=512, bias=True)\n",
              "          (linear_query): Linear(in_features=512, out_features=512, bias=True)\n",
              "          (softmax): Softmax(dim=-1)\n",
              "          (dropout): Dropout(p=0.1, inplace=False)\n",
              "          (final_linear): Linear(in_features=512, out_features=512, bias=True)\n",
              "        )\n",
              "        (feed_forward): PositionwiseFeedForward(\n",
              "          (w_1): Linear(in_features=512, out_features=2048, bias=True)\n",
              "          (w_2): Linear(in_features=2048, out_features=512, bias=True)\n",
              "          (layer_norm): LayerNorm((512,), eps=1e-06, elementwise_affine=True)\n",
              "          (dropout_1): Dropout(p=0.1, inplace=False)\n",
              "          (dropout_2): Dropout(p=0.1, inplace=False)\n",
              "        )\n",
              "        (layer_norm): LayerNorm((512,), eps=1e-06, elementwise_affine=True)\n",
              "        (dropout): Dropout(p=0.1, inplace=False)\n",
              "      )\n",
              "      (2): TransformerEncoderLayer(\n",
              "        (self_attn): MultiHeadedAttention(\n",
              "          (linear_keys): Linear(in_features=512, out_features=512, bias=True)\n",
              "          (linear_values): Linear(in_features=512, out_features=512, bias=True)\n",
              "          (linear_query): Linear(in_features=512, out_features=512, bias=True)\n",
              "          (softmax): Softmax(dim=-1)\n",
              "          (dropout): Dropout(p=0.1, inplace=False)\n",
              "          (final_linear): Linear(in_features=512, out_features=512, bias=True)\n",
              "        )\n",
              "        (feed_forward): PositionwiseFeedForward(\n",
              "          (w_1): Linear(in_features=512, out_features=2048, bias=True)\n",
              "          (w_2): Linear(in_features=2048, out_features=512, bias=True)\n",
              "          (layer_norm): LayerNorm((512,), eps=1e-06, elementwise_affine=True)\n",
              "          (dropout_1): Dropout(p=0.1, inplace=False)\n",
              "          (dropout_2): Dropout(p=0.1, inplace=False)\n",
              "        )\n",
              "        (layer_norm): LayerNorm((512,), eps=1e-06, elementwise_affine=True)\n",
              "        (dropout): Dropout(p=0.1, inplace=False)\n",
              "      )\n",
              "      (3): TransformerEncoderLayer(\n",
              "        (self_attn): MultiHeadedAttention(\n",
              "          (linear_keys): Linear(in_features=512, out_features=512, bias=True)\n",
              "          (linear_values): Linear(in_features=512, out_features=512, bias=True)\n",
              "          (linear_query): Linear(in_features=512, out_features=512, bias=True)\n",
              "          (softmax): Softmax(dim=-1)\n",
              "          (dropout): Dropout(p=0.1, inplace=False)\n",
              "          (final_linear): Linear(in_features=512, out_features=512, bias=True)\n",
              "        )\n",
              "        (feed_forward): PositionwiseFeedForward(\n",
              "          (w_1): Linear(in_features=512, out_features=2048, bias=True)\n",
              "          (w_2): Linear(in_features=2048, out_features=512, bias=True)\n",
              "          (layer_norm): LayerNorm((512,), eps=1e-06, elementwise_affine=True)\n",
              "          (dropout_1): Dropout(p=0.1, inplace=False)\n",
              "          (dropout_2): Dropout(p=0.1, inplace=False)\n",
              "        )\n",
              "        (layer_norm): LayerNorm((512,), eps=1e-06, elementwise_affine=True)\n",
              "        (dropout): Dropout(p=0.1, inplace=False)\n",
              "      )\n",
              "      (4): TransformerEncoderLayer(\n",
              "        (self_attn): MultiHeadedAttention(\n",
              "          (linear_keys): Linear(in_features=512, out_features=512, bias=True)\n",
              "          (linear_values): Linear(in_features=512, out_features=512, bias=True)\n",
              "          (linear_query): Linear(in_features=512, out_features=512, bias=True)\n",
              "          (softmax): Softmax(dim=-1)\n",
              "          (dropout): Dropout(p=0.1, inplace=False)\n",
              "          (final_linear): Linear(in_features=512, out_features=512, bias=True)\n",
              "        )\n",
              "        (feed_forward): PositionwiseFeedForward(\n",
              "          (w_1): Linear(in_features=512, out_features=2048, bias=True)\n",
              "          (w_2): Linear(in_features=2048, out_features=512, bias=True)\n",
              "          (layer_norm): LayerNorm((512,), eps=1e-06, elementwise_affine=True)\n",
              "          (dropout_1): Dropout(p=0.1, inplace=False)\n",
              "          (dropout_2): Dropout(p=0.1, inplace=False)\n",
              "        )\n",
              "        (layer_norm): LayerNorm((512,), eps=1e-06, elementwise_affine=True)\n",
              "        (dropout): Dropout(p=0.1, inplace=False)\n",
              "      )\n",
              "      (5): TransformerEncoderLayer(\n",
              "        (self_attn): MultiHeadedAttention(\n",
              "          (linear_keys): Linear(in_features=512, out_features=512, bias=True)\n",
              "          (linear_values): Linear(in_features=512, out_features=512, bias=True)\n",
              "          (linear_query): Linear(in_features=512, out_features=512, bias=True)\n",
              "          (softmax): Softmax(dim=-1)\n",
              "          (dropout): Dropout(p=0.1, inplace=False)\n",
              "          (final_linear): Linear(in_features=512, out_features=512, bias=True)\n",
              "        )\n",
              "        (feed_forward): PositionwiseFeedForward(\n",
              "          (w_1): Linear(in_features=512, out_features=2048, bias=True)\n",
              "          (w_2): Linear(in_features=2048, out_features=512, bias=True)\n",
              "          (layer_norm): LayerNorm((512,), eps=1e-06, elementwise_affine=True)\n",
              "          (dropout_1): Dropout(p=0.1, inplace=False)\n",
              "          (dropout_2): Dropout(p=0.1, inplace=False)\n",
              "        )\n",
              "        (layer_norm): LayerNorm((512,), eps=1e-06, elementwise_affine=True)\n",
              "        (dropout): Dropout(p=0.1, inplace=False)\n",
              "      )\n",
              "    )\n",
              "    (layer_norm): LayerNorm((512,), eps=1e-06, elementwise_affine=True)\n",
              "  )\n",
              "  (decoder): TransformerDecoder(\n",
              "    (embeddings): Embeddings(\n",
              "      (make_embedding): Sequential(\n",
              "        (emb_luts): Elementwise(\n",
              "          (0): Embedding(12203, 512, padding_idx=1)\n",
              "        )\n",
              "        (pe): PositionalEncoding(\n",
              "          (dropout): Dropout(p=0.1, inplace=False)\n",
              "        )\n",
              "      )\n",
              "    )\n",
              "    (layer_norm): LayerNorm((512,), eps=1e-06, elementwise_affine=True)\n",
              "    (transformer_layers): ModuleList(\n",
              "      (0): TransformerDecoderLayer(\n",
              "        (self_attn): MultiHeadedAttention(\n",
              "          (linear_keys): Linear(in_features=512, out_features=512, bias=True)\n",
              "          (linear_values): Linear(in_features=512, out_features=512, bias=True)\n",
              "          (linear_query): Linear(in_features=512, out_features=512, bias=True)\n",
              "          (softmax): Softmax(dim=-1)\n",
              "          (dropout): Dropout(p=0.1, inplace=False)\n",
              "          (final_linear): Linear(in_features=512, out_features=512, bias=True)\n",
              "        )\n",
              "        (feed_forward): PositionwiseFeedForward(\n",
              "          (w_1): Linear(in_features=512, out_features=2048, bias=True)\n",
              "          (w_2): Linear(in_features=2048, out_features=512, bias=True)\n",
              "          (layer_norm): LayerNorm((512,), eps=1e-06, elementwise_affine=True)\n",
              "          (dropout_1): Dropout(p=0.1, inplace=False)\n",
              "          (dropout_2): Dropout(p=0.1, inplace=False)\n",
              "        )\n",
              "        (layer_norm_1): LayerNorm((512,), eps=1e-06, elementwise_affine=True)\n",
              "        (drop): Dropout(p=0.1, inplace=False)\n",
              "        (context_attn): MultiHeadedAttention(\n",
              "          (linear_keys): Linear(in_features=512, out_features=512, bias=True)\n",
              "          (linear_values): Linear(in_features=512, out_features=512, bias=True)\n",
              "          (linear_query): Linear(in_features=512, out_features=512, bias=True)\n",
              "          (softmax): Softmax(dim=-1)\n",
              "          (dropout): Dropout(p=0.1, inplace=False)\n",
              "          (final_linear): Linear(in_features=512, out_features=512, bias=True)\n",
              "        )\n",
              "        (layer_norm_2): LayerNorm((512,), eps=1e-06, elementwise_affine=True)\n",
              "      )\n",
              "      (1): TransformerDecoderLayer(\n",
              "        (self_attn): MultiHeadedAttention(\n",
              "          (linear_keys): Linear(in_features=512, out_features=512, bias=True)\n",
              "          (linear_values): Linear(in_features=512, out_features=512, bias=True)\n",
              "          (linear_query): Linear(in_features=512, out_features=512, bias=True)\n",
              "          (softmax): Softmax(dim=-1)\n",
              "          (dropout): Dropout(p=0.1, inplace=False)\n",
              "          (final_linear): Linear(in_features=512, out_features=512, bias=True)\n",
              "        )\n",
              "        (feed_forward): PositionwiseFeedForward(\n",
              "          (w_1): Linear(in_features=512, out_features=2048, bias=True)\n",
              "          (w_2): Linear(in_features=2048, out_features=512, bias=True)\n",
              "          (layer_norm): LayerNorm((512,), eps=1e-06, elementwise_affine=True)\n",
              "          (dropout_1): Dropout(p=0.1, inplace=False)\n",
              "          (dropout_2): Dropout(p=0.1, inplace=False)\n",
              "        )\n",
              "        (layer_norm_1): LayerNorm((512,), eps=1e-06, elementwise_affine=True)\n",
              "        (drop): Dropout(p=0.1, inplace=False)\n",
              "        (context_attn): MultiHeadedAttention(\n",
              "          (linear_keys): Linear(in_features=512, out_features=512, bias=True)\n",
              "          (linear_values): Linear(in_features=512, out_features=512, bias=True)\n",
              "          (linear_query): Linear(in_features=512, out_features=512, bias=True)\n",
              "          (softmax): Softmax(dim=-1)\n",
              "          (dropout): Dropout(p=0.1, inplace=False)\n",
              "          (final_linear): Linear(in_features=512, out_features=512, bias=True)\n",
              "        )\n",
              "        (layer_norm_2): LayerNorm((512,), eps=1e-06, elementwise_affine=True)\n",
              "      )\n",
              "      (2): TransformerDecoderLayer(\n",
              "        (self_attn): MultiHeadedAttention(\n",
              "          (linear_keys): Linear(in_features=512, out_features=512, bias=True)\n",
              "          (linear_values): Linear(in_features=512, out_features=512, bias=True)\n",
              "          (linear_query): Linear(in_features=512, out_features=512, bias=True)\n",
              "          (softmax): Softmax(dim=-1)\n",
              "          (dropout): Dropout(p=0.1, inplace=False)\n",
              "          (final_linear): Linear(in_features=512, out_features=512, bias=True)\n",
              "        )\n",
              "        (feed_forward): PositionwiseFeedForward(\n",
              "          (w_1): Linear(in_features=512, out_features=2048, bias=True)\n",
              "          (w_2): Linear(in_features=2048, out_features=512, bias=True)\n",
              "          (layer_norm): LayerNorm((512,), eps=1e-06, elementwise_affine=True)\n",
              "          (dropout_1): Dropout(p=0.1, inplace=False)\n",
              "          (dropout_2): Dropout(p=0.1, inplace=False)\n",
              "        )\n",
              "        (layer_norm_1): LayerNorm((512,), eps=1e-06, elementwise_affine=True)\n",
              "        (drop): Dropout(p=0.1, inplace=False)\n",
              "        (context_attn): MultiHeadedAttention(\n",
              "          (linear_keys): Linear(in_features=512, out_features=512, bias=True)\n",
              "          (linear_values): Linear(in_features=512, out_features=512, bias=True)\n",
              "          (linear_query): Linear(in_features=512, out_features=512, bias=True)\n",
              "          (softmax): Softmax(dim=-1)\n",
              "          (dropout): Dropout(p=0.1, inplace=False)\n",
              "          (final_linear): Linear(in_features=512, out_features=512, bias=True)\n",
              "        )\n",
              "        (layer_norm_2): LayerNorm((512,), eps=1e-06, elementwise_affine=True)\n",
              "      )\n",
              "      (3): TransformerDecoderLayer(\n",
              "        (self_attn): MultiHeadedAttention(\n",
              "          (linear_keys): Linear(in_features=512, out_features=512, bias=True)\n",
              "          (linear_values): Linear(in_features=512, out_features=512, bias=True)\n",
              "          (linear_query): Linear(in_features=512, out_features=512, bias=True)\n",
              "          (softmax): Softmax(dim=-1)\n",
              "          (dropout): Dropout(p=0.1, inplace=False)\n",
              "          (final_linear): Linear(in_features=512, out_features=512, bias=True)\n",
              "        )\n",
              "        (feed_forward): PositionwiseFeedForward(\n",
              "          (w_1): Linear(in_features=512, out_features=2048, bias=True)\n",
              "          (w_2): Linear(in_features=2048, out_features=512, bias=True)\n",
              "          (layer_norm): LayerNorm((512,), eps=1e-06, elementwise_affine=True)\n",
              "          (dropout_1): Dropout(p=0.1, inplace=False)\n",
              "          (dropout_2): Dropout(p=0.1, inplace=False)\n",
              "        )\n",
              "        (layer_norm_1): LayerNorm((512,), eps=1e-06, elementwise_affine=True)\n",
              "        (drop): Dropout(p=0.1, inplace=False)\n",
              "        (context_attn): MultiHeadedAttention(\n",
              "          (linear_keys): Linear(in_features=512, out_features=512, bias=True)\n",
              "          (linear_values): Linear(in_features=512, out_features=512, bias=True)\n",
              "          (linear_query): Linear(in_features=512, out_features=512, bias=True)\n",
              "          (softmax): Softmax(dim=-1)\n",
              "          (dropout): Dropout(p=0.1, inplace=False)\n",
              "          (final_linear): Linear(in_features=512, out_features=512, bias=True)\n",
              "        )\n",
              "        (layer_norm_2): LayerNorm((512,), eps=1e-06, elementwise_affine=True)\n",
              "      )\n",
              "      (4): TransformerDecoderLayer(\n",
              "        (self_attn): MultiHeadedAttention(\n",
              "          (linear_keys): Linear(in_features=512, out_features=512, bias=True)\n",
              "          (linear_values): Linear(in_features=512, out_features=512, bias=True)\n",
              "          (linear_query): Linear(in_features=512, out_features=512, bias=True)\n",
              "          (softmax): Softmax(dim=-1)\n",
              "          (dropout): Dropout(p=0.1, inplace=False)\n",
              "          (final_linear): Linear(in_features=512, out_features=512, bias=True)\n",
              "        )\n",
              "        (feed_forward): PositionwiseFeedForward(\n",
              "          (w_1): Linear(in_features=512, out_features=2048, bias=True)\n",
              "          (w_2): Linear(in_features=2048, out_features=512, bias=True)\n",
              "          (layer_norm): LayerNorm((512,), eps=1e-06, elementwise_affine=True)\n",
              "          (dropout_1): Dropout(p=0.1, inplace=False)\n",
              "          (dropout_2): Dropout(p=0.1, inplace=False)\n",
              "        )\n",
              "        (layer_norm_1): LayerNorm((512,), eps=1e-06, elementwise_affine=True)\n",
              "        (drop): Dropout(p=0.1, inplace=False)\n",
              "        (context_attn): MultiHeadedAttention(\n",
              "          (linear_keys): Linear(in_features=512, out_features=512, bias=True)\n",
              "          (linear_values): Linear(in_features=512, out_features=512, bias=True)\n",
              "          (linear_query): Linear(in_features=512, out_features=512, bias=True)\n",
              "          (softmax): Softmax(dim=-1)\n",
              "          (dropout): Dropout(p=0.1, inplace=False)\n",
              "          (final_linear): Linear(in_features=512, out_features=512, bias=True)\n",
              "        )\n",
              "        (layer_norm_2): LayerNorm((512,), eps=1e-06, elementwise_affine=True)\n",
              "      )\n",
              "      (5): TransformerDecoderLayer(\n",
              "        (self_attn): MultiHeadedAttention(\n",
              "          (linear_keys): Linear(in_features=512, out_features=512, bias=True)\n",
              "          (linear_values): Linear(in_features=512, out_features=512, bias=True)\n",
              "          (linear_query): Linear(in_features=512, out_features=512, bias=True)\n",
              "          (softmax): Softmax(dim=-1)\n",
              "          (dropout): Dropout(p=0.1, inplace=False)\n",
              "          (final_linear): Linear(in_features=512, out_features=512, bias=True)\n",
              "        )\n",
              "        (feed_forward): PositionwiseFeedForward(\n",
              "          (w_1): Linear(in_features=512, out_features=2048, bias=True)\n",
              "          (w_2): Linear(in_features=2048, out_features=512, bias=True)\n",
              "          (layer_norm): LayerNorm((512,), eps=1e-06, elementwise_affine=True)\n",
              "          (dropout_1): Dropout(p=0.1, inplace=False)\n",
              "          (dropout_2): Dropout(p=0.1, inplace=False)\n",
              "        )\n",
              "        (layer_norm_1): LayerNorm((512,), eps=1e-06, elementwise_affine=True)\n",
              "        (drop): Dropout(p=0.1, inplace=False)\n",
              "        (context_attn): MultiHeadedAttention(\n",
              "          (linear_keys): Linear(in_features=512, out_features=512, bias=True)\n",
              "          (linear_values): Linear(in_features=512, out_features=512, bias=True)\n",
              "          (linear_query): Linear(in_features=512, out_features=512, bias=True)\n",
              "          (softmax): Softmax(dim=-1)\n",
              "          (dropout): Dropout(p=0.1, inplace=False)\n",
              "          (final_linear): Linear(in_features=512, out_features=512, bias=True)\n",
              "        )\n",
              "        (layer_norm_2): LayerNorm((512,), eps=1e-06, elementwise_affine=True)\n",
              "      )\n",
              "    )\n",
              "  )\n",
              "  (generator): Sequential(\n",
              "    (0): Linear(in_features=512, out_features=12203, bias=True)\n",
              "    (1): Cast()\n",
              "    (2): LogSoftmax(dim=-1)\n",
              "  )\n",
              ")"
            ]
          },
          "metadata": {},
          "execution_count": 13
        }
      ]
    },
    {
      "cell_type": "code",
      "metadata": {
        "id": "VAzsuUhFikbY"
      },
      "source": [
        "import onmt.inputters as inputters\n",
        "src_reader = inputters.str2reader[opt.data_type].from_opt(opt)\n",
        "tgt_reader = inputters.str2reader[\"text\"].from_opt(opt)"
      ],
      "execution_count": 14,
      "outputs": []
    },
    {
      "cell_type": "code",
      "metadata": {
        "id": "TaD5jFBZaa8k"
      },
      "source": [
        "from onmt.translate.translator import max_tok_len\n",
        "\n",
        "src_data = {\n",
        "    \"reader\": src_reader, # self.src_reader->src_reader\n",
        "    \"data\": opt.src, # src->opt.src\n",
        "    \"features\": {} # src_feats->{}\n",
        "}\n",
        "tgt_data = {\n",
        "    \"reader\": tgt_reader, # self.tgt_reader->tgt_reader\n",
        "    \"data\": opt.tgt, # tgt->opt.tgt\n",
        "    \"features\": {}\n",
        "}\n",
        "_readers, _data = inputters.Dataset.config(\n",
        "    [(\"src\", src_data), (\"tgt\", tgt_data)]\n",
        ")\n",
        "\n",
        "dataset = inputters.Dataset( # data->dataset\n",
        "    vocab_fields, # self.fields->vocab_fields\n",
        "    readers=_readers,\n",
        "    data=_data,\n",
        "    sort_key=inputters.str2sortkey[opt.data_type], # self->opt\n",
        "    filter_pred=None, # self._filter_pred -> None\n",
        ")\n",
        "\n",
        "data_iter = inputters.OrderedIterator(\n",
        "    dataset=dataset, # data->dataset\n",
        "    device=\"cuda\", # self._dev->\"cuda\"\n",
        "    batch_size=opt.batch_size, # batch_size->opt.batch_size\n",
        "    batch_size_fn=max_tok_len if opt.batch_type == \"tokens\" else None, # batch_type->opt.batch_type\n",
        "    train=False,\n",
        "    sort=False,\n",
        "    sort_within_batch=True,\n",
        "    shuffle=False,\n",
        ")\n",
        "\n",
        "builder = onmt.translate.TranslationBuilder(data=dataset, fields=vocab_fields)"
      ],
      "execution_count": 15,
      "outputs": []
    },
    {
      "cell_type": "code",
      "metadata": {
        "colab": {
          "base_uri": "https://localhost:8080/"
        },
        "id": "lm-GL0PZO5Us",
        "outputId": "2714f1aa-7470-4f77-eeaa-19227f0d67cc"
      },
      "source": [
        "from onmt.constants import DefaultTokens\n",
        "from onmt.utils.misc import tile, set_random_seed, report_matrix\n",
        "\n",
        "# アテンションデバッグをON->今後はopt.attn_debugを使う\n",
        "# attn_debug=True\n",
        "for batch in data_iter:\n",
        "    batch_data = translator.translate_batch(\n",
        "        batch, dataset.src_vocabs, opt.attn_debug\n",
        "    )\n",
        "    translations = builder.from_batch(batch_data)\n",
        "\n",
        "    for trans in translations:\n",
        "        print(trans.log(0))\n",
        "        \n",
        "        if opt.attn_debug:\n",
        "            preds = trans.pred_sents[0]\n",
        "            preds.append(DefaultTokens.EOS)\n",
        "            attns = trans.attns[0].tolist()\n",
        "            if translator.data_type == \"text\":\n",
        "                srcs = trans.src_raw\n",
        "            else:\n",
        "                srcs = [str(item) for item in range(len(attns[0]))]\n",
        "            output = report_matrix(srcs, preds, attns)\n",
        "            if translator.logger:\n",
        "                translator.logger.info(output)\n",
        "            else:\n",
        "                #os.write(1, output.encode(\"utf-8\"))\n",
        "                print(output)\n",
        "    break"
      ],
      "execution_count": 16,
      "outputs": [
        {
          "output_type": "stream",
          "name": "stderr",
          "text": [
            "/usr/local/lib/python3.7/dist-packages/torch/_tensor.py:575: UserWarning: floor_divide is deprecated, and will be removed in a future version of pytorch. It currently rounds toward 0 (like the 'trunc' function NOT 'floor'). This results in incorrect rounding for negative values.\n",
            "To keep the current behavior, use torch.div(a, b, rounding_mode='trunc'), or for actual floor division, use torch.div(a, b, rounding_mode='floor'). (Triggered internally at  /pytorch/aten/src/ATen/native/BinaryOps.cpp:467.)\n",
            "  return torch.floor_divide(self, other)\n",
            "[2021-11-07 08:58:55,707 INFO]                   Tom      wants          a        cat          . \n",
            "     <unk>  0.0810000  0.1024835  0.2358939 *0.3071590  0.2734635 \n",
            "         は  0.0732654  0.2247687  0.1639529  0.1544976 *0.3835154 \n",
            "     <unk>  0.0123236  0.0434103  0.2558491 *0.5182255  0.1701915 \n",
            "         を  0.0581807  0.1314416  0.1406691  0.1174425 *0.5522662 \n",
            "        求め  0.0094350  0.0870038  0.1193642  0.1103887 *0.6738083 \n",
            "         た  0.0225705  0.0063565  0.0122755  0.0420761 *0.9167213 \n",
            "         。  0.0304229  0.0092131  0.0123016  0.0236017 *0.9244608 \n",
            "      </s>  0.0484912  0.0379364  0.0628432  0.0896174 *0.7611118 \n",
            "\n"
          ]
        },
        {
          "output_type": "stream",
          "name": "stdout",
          "text": [
            "\n",
            "SENT 0: ['Tom', 'wants', 'a', 'cat', '.']\n",
            "PRED 0: <unk> は <unk> を 求め た 。\n",
            "PRED SCORE: -5.6415\n",
            "\n"
          ]
        }
      ]
    },
    {
      "cell_type": "markdown",
      "metadata": {
        "id": "gZ6AiX9W8_OE"
      },
      "source": [
        "# アテンションの利用"
      ]
    },
    {
      "cell_type": "code",
      "metadata": {
        "colab": {
          "base_uri": "https://localhost:8080/"
        },
        "id": "rm63hRsZn4So",
        "outputId": "52f52da8-eb4b-4c1b-8b97-df7ce98aec73"
      },
      "source": [
        "opt.attn_debug"
      ],
      "execution_count": 17,
      "outputs": [
        {
          "output_type": "execute_result",
          "data": {
            "text/plain": [
              "True"
            ]
          },
          "metadata": {},
          "execution_count": 17
        }
      ]
    }
  ]
}