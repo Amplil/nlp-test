{
  "cells": [
    {
      "cell_type": "markdown",
      "metadata": {
        "colab_type": "text",
        "id": "view-in-github"
      },
      "source": [
        "<a href=\"https://colab.research.google.com/github/Amplil/nlp-test/blob/master/tokenizer_test_sentencepiece.ipynb\" target=\"_parent\"><img src=\"https://colab.research.google.com/assets/colab-badge.svg\" alt=\"Open In Colab\"/></a>"
      ]
    },
    {
      "cell_type": "markdown",
      "metadata": {
        "id": "3MPlL083xWz_"
      },
      "source": [
        "# 単語分割（Sentencepiece）\n",
        "\n",
        "- Sentencepieceを使用して分かち書き（トークナイズ）します\n"
      ]
    },
    {
      "cell_type": "code",
      "execution_count": null,
      "metadata": {
        "colab": {
          "base_uri": "https://localhost:8080/"
        },
        "id": "QxTF6WLRTE6e",
        "outputId": "51d71b8a-b906-4b83-e98f-752efa31af62"
      },
      "outputs": [
        {
          "name": "stdout",
          "output_type": "stream",
          "text": [
            "Mounted at /content/drive\n"
          ]
        }
      ],
      "source": [
        "from google.colab import drive\n",
        "drive.mount('/content/drive')"
      ]
    },
    {
      "cell_type": "code",
      "execution_count": null,
      "metadata": {
        "colab": {
          "base_uri": "https://localhost:8080/"
        },
        "id": "FUpnPpUsrUqc",
        "outputId": "8c325a2b-f9b6-4368-a043-5e699bacfc42"
      },
      "outputs": [
        {
          "name": "stdout",
          "output_type": "stream",
          "text": [
            "/content/drive/.shortcut-targets-by-id/1JYLeAGUDjAxZze-1sd2SWMVi0u1f0RSf/data/JParaCrawl\n"
          ]
        }
      ],
      "source": [
        "cd \"/content/drive/MyDrive/Colab Notebooks/data/JParaCrawl\""
      ]
    },
    {
      "cell_type": "code",
      "execution_count": 1,
      "metadata": {},
      "outputs": [
        {
          "name": "stdout",
          "output_type": "stream",
          "text": [
            "d:\\data\\JParaCrawl\n"
          ]
        }
      ],
      "source": [
        "cd \"d:\\\\data\\\\JParaCrawl\""
      ]
    },
    {
      "cell_type": "code",
      "execution_count": null,
      "metadata": {
        "id": "uo5yBe-kTRmX"
      },
      "outputs": [],
      "source": [
        "import sys\n",
        "sys.path.append(\"/content/drive/MyDrive/Colab Notebooks/packages\")"
      ]
    },
    {
      "cell_type": "code",
      "execution_count": null,
      "metadata": {
        "colab": {
          "base_uri": "https://localhost:8080/"
        },
        "id": "JdKTeUAVpwjz",
        "outputId": "e1788fc4-36a1-4e55-afd4-9e6240deccde"
      },
      "outputs": [
        {
          "name": "stdout",
          "output_type": "stream",
          "text": [
            "Collecting sentencepiece\n",
            "  Downloading sentencepiece-0.1.96-cp37-cp37m-manylinux_2_17_x86_64.manylinux2014_x86_64.whl (1.2 MB)\n",
            "\u001b[?25l\r\u001b[K     |▎                               | 10 kB 24.3 MB/s eta 0:00:01\r\u001b[K     |▌                               | 20 kB 14.0 MB/s eta 0:00:01\r\u001b[K     |▉                               | 30 kB 10.4 MB/s eta 0:00:01\r\u001b[K     |█                               | 40 kB 8.5 MB/s eta 0:00:01\r\u001b[K     |█▍                              | 51 kB 4.9 MB/s eta 0:00:01\r\u001b[K     |█▋                              | 61 kB 5.2 MB/s eta 0:00:01\r\u001b[K     |██                              | 71 kB 5.4 MB/s eta 0:00:01\r\u001b[K     |██▏                             | 81 kB 6.0 MB/s eta 0:00:01\r\u001b[K     |██▍                             | 92 kB 4.5 MB/s eta 0:00:01\r\u001b[K     |██▊                             | 102 kB 4.9 MB/s eta 0:00:01\r\u001b[K     |███                             | 112 kB 4.9 MB/s eta 0:00:01\r\u001b[K     |███▎                            | 122 kB 4.9 MB/s eta 0:00:01\r\u001b[K     |███▌                            | 133 kB 4.9 MB/s eta 0:00:01\r\u001b[K     |███▉                            | 143 kB 4.9 MB/s eta 0:00:01\r\u001b[K     |████                            | 153 kB 4.9 MB/s eta 0:00:01\r\u001b[K     |████▎                           | 163 kB 4.9 MB/s eta 0:00:01\r\u001b[K     |████▋                           | 174 kB 4.9 MB/s eta 0:00:01\r\u001b[K     |████▉                           | 184 kB 4.9 MB/s eta 0:00:01\r\u001b[K     |█████▏                          | 194 kB 4.9 MB/s eta 0:00:01\r\u001b[K     |█████▍                          | 204 kB 4.9 MB/s eta 0:00:01\r\u001b[K     |█████▊                          | 215 kB 4.9 MB/s eta 0:00:01\r\u001b[K     |██████                          | 225 kB 4.9 MB/s eta 0:00:01\r\u001b[K     |██████▏                         | 235 kB 4.9 MB/s eta 0:00:01\r\u001b[K     |██████▌                         | 245 kB 4.9 MB/s eta 0:00:01\r\u001b[K     |██████▊                         | 256 kB 4.9 MB/s eta 0:00:01\r\u001b[K     |███████                         | 266 kB 4.9 MB/s eta 0:00:01\r\u001b[K     |███████▎                        | 276 kB 4.9 MB/s eta 0:00:01\r\u001b[K     |███████▋                        | 286 kB 4.9 MB/s eta 0:00:01\r\u001b[K     |███████▉                        | 296 kB 4.9 MB/s eta 0:00:01\r\u001b[K     |████████                        | 307 kB 4.9 MB/s eta 0:00:01\r\u001b[K     |████████▍                       | 317 kB 4.9 MB/s eta 0:00:01\r\u001b[K     |████████▋                       | 327 kB 4.9 MB/s eta 0:00:01\r\u001b[K     |█████████                       | 337 kB 4.9 MB/s eta 0:00:01\r\u001b[K     |█████████▏                      | 348 kB 4.9 MB/s eta 0:00:01\r\u001b[K     |█████████▌                      | 358 kB 4.9 MB/s eta 0:00:01\r\u001b[K     |█████████▊                      | 368 kB 4.9 MB/s eta 0:00:01\r\u001b[K     |██████████                      | 378 kB 4.9 MB/s eta 0:00:01\r\u001b[K     |██████████▎                     | 389 kB 4.9 MB/s eta 0:00:01\r\u001b[K     |██████████▌                     | 399 kB 4.9 MB/s eta 0:00:01\r\u001b[K     |██████████▉                     | 409 kB 4.9 MB/s eta 0:00:01\r\u001b[K     |███████████                     | 419 kB 4.9 MB/s eta 0:00:01\r\u001b[K     |███████████▍                    | 430 kB 4.9 MB/s eta 0:00:01\r\u001b[K     |███████████▋                    | 440 kB 4.9 MB/s eta 0:00:01\r\u001b[K     |███████████▉                    | 450 kB 4.9 MB/s eta 0:00:01\r\u001b[K     |████████████▏                   | 460 kB 4.9 MB/s eta 0:00:01\r\u001b[K     |████████████▍                   | 471 kB 4.9 MB/s eta 0:00:01\r\u001b[K     |████████████▊                   | 481 kB 4.9 MB/s eta 0:00:01\r\u001b[K     |█████████████                   | 491 kB 4.9 MB/s eta 0:00:01\r\u001b[K     |█████████████▎                  | 501 kB 4.9 MB/s eta 0:00:01\r\u001b[K     |█████████████▌                  | 512 kB 4.9 MB/s eta 0:00:01\r\u001b[K     |█████████████▊                  | 522 kB 4.9 MB/s eta 0:00:01\r\u001b[K     |██████████████                  | 532 kB 4.9 MB/s eta 0:00:01\r\u001b[K     |██████████████▎                 | 542 kB 4.9 MB/s eta 0:00:01\r\u001b[K     |██████████████▋                 | 552 kB 4.9 MB/s eta 0:00:01\r\u001b[K     |██████████████▉                 | 563 kB 4.9 MB/s eta 0:00:01\r\u001b[K     |███████████████▏                | 573 kB 4.9 MB/s eta 0:00:01\r\u001b[K     |███████████████▍                | 583 kB 4.9 MB/s eta 0:00:01\r\u001b[K     |███████████████▋                | 593 kB 4.9 MB/s eta 0:00:01\r\u001b[K     |████████████████                | 604 kB 4.9 MB/s eta 0:00:01\r\u001b[K     |████████████████▏               | 614 kB 4.9 MB/s eta 0:00:01\r\u001b[K     |████████████████▌               | 624 kB 4.9 MB/s eta 0:00:01\r\u001b[K     |████████████████▊               | 634 kB 4.9 MB/s eta 0:00:01\r\u001b[K     |█████████████████               | 645 kB 4.9 MB/s eta 0:00:01\r\u001b[K     |█████████████████▎              | 655 kB 4.9 MB/s eta 0:00:01\r\u001b[K     |█████████████████▌              | 665 kB 4.9 MB/s eta 0:00:01\r\u001b[K     |█████████████████▉              | 675 kB 4.9 MB/s eta 0:00:01\r\u001b[K     |██████████████████              | 686 kB 4.9 MB/s eta 0:00:01\r\u001b[K     |██████████████████▍             | 696 kB 4.9 MB/s eta 0:00:01\r\u001b[K     |██████████████████▋             | 706 kB 4.9 MB/s eta 0:00:01\r\u001b[K     |███████████████████             | 716 kB 4.9 MB/s eta 0:00:01\r\u001b[K     |███████████████████▏            | 727 kB 4.9 MB/s eta 0:00:01\r\u001b[K     |███████████████████▍            | 737 kB 4.9 MB/s eta 0:00:01\r\u001b[K     |███████████████████▊            | 747 kB 4.9 MB/s eta 0:00:01\r\u001b[K     |████████████████████            | 757 kB 4.9 MB/s eta 0:00:01\r\u001b[K     |████████████████████▎           | 768 kB 4.9 MB/s eta 0:00:01\r\u001b[K     |████████████████████▌           | 778 kB 4.9 MB/s eta 0:00:01\r\u001b[K     |████████████████████▉           | 788 kB 4.9 MB/s eta 0:00:01\r\u001b[K     |█████████████████████           | 798 kB 4.9 MB/s eta 0:00:01\r\u001b[K     |█████████████████████▎          | 808 kB 4.9 MB/s eta 0:00:01\r\u001b[K     |█████████████████████▋          | 819 kB 4.9 MB/s eta 0:00:01\r\u001b[K     |█████████████████████▉          | 829 kB 4.9 MB/s eta 0:00:01\r\u001b[K     |██████████████████████▏         | 839 kB 4.9 MB/s eta 0:00:01\r\u001b[K     |██████████████████████▍         | 849 kB 4.9 MB/s eta 0:00:01\r\u001b[K     |██████████████████████▊         | 860 kB 4.9 MB/s eta 0:00:01\r\u001b[K     |███████████████████████         | 870 kB 4.9 MB/s eta 0:00:01\r\u001b[K     |███████████████████████▏        | 880 kB 4.9 MB/s eta 0:00:01\r\u001b[K     |███████████████████████▌        | 890 kB 4.9 MB/s eta 0:00:01\r\u001b[K     |███████████████████████▊        | 901 kB 4.9 MB/s eta 0:00:01\r\u001b[K     |████████████████████████        | 911 kB 4.9 MB/s eta 0:00:01\r\u001b[K     |████████████████████████▎       | 921 kB 4.9 MB/s eta 0:00:01\r\u001b[K     |████████████████████████▋       | 931 kB 4.9 MB/s eta 0:00:01\r\u001b[K     |████████████████████████▉       | 942 kB 4.9 MB/s eta 0:00:01\r\u001b[K     |█████████████████████████       | 952 kB 4.9 MB/s eta 0:00:01\r\u001b[K     |█████████████████████████▍      | 962 kB 4.9 MB/s eta 0:00:01\r\u001b[K     |█████████████████████████▋      | 972 kB 4.9 MB/s eta 0:00:01\r\u001b[K     |██████████████████████████      | 983 kB 4.9 MB/s eta 0:00:01\r\u001b[K     |██████████████████████████▏     | 993 kB 4.9 MB/s eta 0:00:01\r\u001b[K     |██████████████████████████▌     | 1.0 MB 4.9 MB/s eta 0:00:01\r\u001b[K     |██████████████████████████▊     | 1.0 MB 4.9 MB/s eta 0:00:01\r\u001b[K     |███████████████████████████     | 1.0 MB 4.9 MB/s eta 0:00:01\r\u001b[K     |███████████████████████████▎    | 1.0 MB 4.9 MB/s eta 0:00:01\r\u001b[K     |███████████████████████████▌    | 1.0 MB 4.9 MB/s eta 0:00:01\r\u001b[K     |███████████████████████████▉    | 1.1 MB 4.9 MB/s eta 0:00:01\r\u001b[K     |████████████████████████████    | 1.1 MB 4.9 MB/s eta 0:00:01\r\u001b[K     |████████████████████████████▍   | 1.1 MB 4.9 MB/s eta 0:00:01\r\u001b[K     |████████████████████████████▋   | 1.1 MB 4.9 MB/s eta 0:00:01\r\u001b[K     |████████████████████████████▉   | 1.1 MB 4.9 MB/s eta 0:00:01\r\u001b[K     |█████████████████████████████▏  | 1.1 MB 4.9 MB/s eta 0:00:01\r\u001b[K     |█████████████████████████████▍  | 1.1 MB 4.9 MB/s eta 0:00:01\r\u001b[K     |█████████████████████████████▊  | 1.1 MB 4.9 MB/s eta 0:00:01\r\u001b[K     |██████████████████████████████  | 1.1 MB 4.9 MB/s eta 0:00:01\r\u001b[K     |██████████████████████████████▎ | 1.1 MB 4.9 MB/s eta 0:00:01\r\u001b[K     |██████████████████████████████▌ | 1.2 MB 4.9 MB/s eta 0:00:01\r\u001b[K     |██████████████████████████████▊ | 1.2 MB 4.9 MB/s eta 0:00:01\r\u001b[K     |███████████████████████████████ | 1.2 MB 4.9 MB/s eta 0:00:01\r\u001b[K     |███████████████████████████████▎| 1.2 MB 4.9 MB/s eta 0:00:01\r\u001b[K     |███████████████████████████████▋| 1.2 MB 4.9 MB/s eta 0:00:01\r\u001b[K     |███████████████████████████████▉| 1.2 MB 4.9 MB/s eta 0:00:01\r\u001b[K     |████████████████████████████████| 1.2 MB 4.9 MB/s \n",
            "\u001b[?25hInstalling collected packages: sentencepiece\n",
            "Successfully installed sentencepiece-0.1.96\n",
            "\u001b[33mWARNING: Target directory /content/drive/MyDrive/Colab Notebooks/packages/sentencepiece-0.1.96.dist-info already exists. Specify --upgrade to force replacement.\u001b[0m\n",
            "\u001b[33mWARNING: Target directory /content/drive/MyDrive/Colab Notebooks/packages/sentencepiece already exists. Specify --upgrade to force replacement.\u001b[0m\n"
          ]
        }
      ],
      "source": [
        "#pip install --target \"/content/drive/MyDrive/Colab Notebooks/packages\" sentencepiece"
      ]
    },
    {
      "cell_type": "code",
      "execution_count": 2,
      "metadata": {
        "colab": {
          "base_uri": "https://localhost:8080/"
        },
        "id": "4RVg0G6S1MQ4",
        "outputId": "f72c4aa8-5ac4-49b7-a29b-0d2075c26932"
      },
      "outputs": [
        {
          "name": "stdout",
          "output_type": "stream",
          "text": [
            "Requirement already satisfied: sentencepiece in c:\\users\\aikot\\anaconda3\\lib\\site-packages (0.1.96)Note: you may need to restart the kernel to use updated packages.\n",
            "\n"
          ]
        }
      ],
      "source": [
        "#pip install sentencepiece"
      ]
    },
    {
      "cell_type": "markdown",
      "metadata": {
        "id": "GJlDEwxpPxQj"
      },
      "source": [
        "# JParaCrawlのトークナイズ（日本語も英語も一緒に行う）"
      ]
    },
    {
      "cell_type": "code",
      "execution_count": null,
      "metadata": {
        "id": "QwZGzhb3r1BR"
      },
      "outputs": [],
      "source": [
        "#!cat en.txt ja.txt > tmp.txt"
      ]
    },
    {
      "cell_type": "code",
      "execution_count": 2,
      "metadata": {},
      "outputs": [],
      "source": [
        "import sentencepiece as spm\n",
        "\n",
        "# 学習の実行\n",
        "spm.SentencePieceTrainer.Train(\n",
        "   \"--input=tmp.txt --model_prefix=spm_trained_model --vocab_size=16000 train_extremely_large_corpus=true\"\n",
        ")"
      ]
    },
    {
      "cell_type": "code",
      "execution_count": 3,
      "metadata": {
        "id": "qj-JUwVWsV5F"
      },
      "outputs": [
        {
          "data": {
            "text/plain": [
              "True"
            ]
          },
          "execution_count": 3,
          "metadata": {},
          "output_type": "execute_result"
        }
      ],
      "source": [
        "sp = spm.SentencePieceProcessor()\n",
        "sp.load('spm_trained_model.model')"
      ]
    },
    {
      "cell_type": "code",
      "execution_count": 4,
      "metadata": {
        "id": "x9MTEsJpsesU"
      },
      "outputs": [],
      "source": [
        "def detok(filename, outputfilename):\n",
        "    f = open(filename, mode='r')\n",
        "    foutput = open(outputfilename, mode='w')\n",
        "    d = f.read()\n",
        "    d = d.split('\\n')\n",
        "    for i in d:\n",
        "        data = sp.EncodeAsPieces(str(i))\n",
        "        data = ' '.join(data)\n",
        "        foutput.write(data + '\\n')\n",
        "    f.close()\n",
        "    foutput.close()"
      ]
    },
    {
      "cell_type": "code",
      "execution_count": 5,
      "metadata": {
        "id": "af-N0Wswuczl"
      },
      "outputs": [],
      "source": [
        "detok('en.txt','en.txt.atok')\n",
        "detok('ja.txt','ja.txt.atok')\n",
        "detok('kyoto-dev.en','kyoto-dev.en.atok')\n",
        "detok('kyoto-dev.ja','kyoto-dev.ja.atok')\n",
        "detok('kyoto-test.en','kyoto-test.en.atok')\n",
        "detok('kyoto-test.ja','kyoto-test.ja.atok')"
      ]
    },
    {
      "cell_type": "code",
      "execution_count": 8,
      "metadata": {
        "colab": {
          "base_uri": "https://localhost:8080/",
          "height": 91
        },
        "id": "4SMlHrNCT_2J",
        "outputId": "a6234776-c038-42e6-ac26-c1cbb5012745"
      },
      "outputs": [
        {
          "data": {
            "text/plain": [
              "'▁The ▁rain y ▁season ▁began ▁in ▁the ▁southern ▁area ▁of ▁Kyushu ▁around ▁May . 31 ▁( Fri ) ▁as ▁normal .\\n▁Ho pe ▁Report ▁ HO PE ▁report ▁Number :19 - 06 5 ▁Pre li min ary ▁analysis ▁of ▁the ▁P li o / P le ist oc ene ▁p ri mate ▁ fo s s il s ▁from ▁the ▁cave ▁deposit s ▁in ▁southern ▁China ▁Report : Ma s ana ru ▁Taka i ▁Date : 2008 / 01 / 11 ▁- ▁2008 / 01 / 17 ▁During ▁my ▁stay ing ▁in ▁Beijing ▁I ▁visited ▁three ▁institute s : ▁Institute ▁of ▁Ver te b rate ▁Pa le on t ology ▁and ▁Pa le o an th '"
            ]
          },
          "execution_count": 8,
          "metadata": {},
          "output_type": "execute_result"
        }
      ],
      "source": [
        "f = open('en.txt.atok', 'r',encoding=\"utf-8\")\n",
        "f.read(500)"
      ]
    },
    {
      "cell_type": "code",
      "execution_count": 7,
      "metadata": {
        "colab": {
          "base_uri": "https://localhost:8080/",
          "height": 91
        },
        "id": "qfGXJi7UVBuK",
        "outputId": "c899b0f8-4ece-4f70-e2b6-2d4cd94faa81"
      },
      "outputs": [
        {
          "data": {
            "text/plain": [
              "'▁ 九州 南部 は 平 年 並 み の 5 / 31 ( 金 ) 頃 に 梅 雨 入り 。\\n▁Ho pe ▁Report ▁ 事業 報告 ▁ 事業 番号 :19 - 06 5 ▁ 中国 南部 の 洞窟 から 見 つか っている 鮮 新 世 〜 更新 世 前 半 の 霊 長 類 化 石 の 解析 ▁ 報告 者 : 高 井 ▁ 正 成 ▁ 期間 : 2008 / 01 / 11 ▁- ▁2008 / 01 / 17 ▁ 中国 南部 の 広 西 壮 族 自 治 区 を中心とした 洞窟 堆 積 物 からは 、 鮮 新 世 から 更新 世 後半 の 動物 化 石 が 豊富 に出 土 することが 知られている 。 申請 者は 2007 年 11 月に 広 西 壮 族 自 治 区 西部 の 崇 左 にある 北京 大学 崇 左 生物 多様性 研究 基地 において 、 同 施設 主 任 の 秦 大 公 氏 や 中国 科学 院 古 脊 椎 動物 ・ 古 人類 研究所 ( IV PP ) の 金 昌 柱 教授 や とともに 予 備 的な 発 掘 調査 を行い 、 霊 長 類 を含む 多数の 動物 化 石 を'"
            ]
          },
          "execution_count": 7,
          "metadata": {},
          "output_type": "execute_result"
        }
      ],
      "source": [
        "f = open('ja.txt.atok', 'r',encoding=\"utf-8\")\n",
        "f.read(500)"
      ]
    },
    {
      "cell_type": "code",
      "execution_count": 9,
      "metadata": {},
      "outputs": [
        {
          "data": {
            "text/plain": [
              "'▁R in za i ▁Zen ▁Buddhism ▁is ▁one ▁of ▁the ▁Chinese ▁five ▁House s / s even ▁School s ▁of ▁Zen ▁( R in za i , ▁I g you , ▁So to , ▁Un mon , ▁Ho gan ) ▁and ▁Gi gen ▁R IN Z AI ▁( ? ▁- ▁8 67 ) ▁of ▁T ang ▁was ▁its ▁found er .\\n▁He ▁was ▁known ▁as ▁\" RI N Z AI ▁of ▁Ka tu ▁( me an ing ▁to ▁help ▁w ake ▁up ▁the ▁sleep ing ▁mind ) ▁\" ▁and ▁\" General ▁R IN Z AI \", ▁and ▁rose ▁to ▁the ▁top ▁of ▁Chinese ▁Zen ▁with ▁his ▁distinct ive ▁style .\\n▁With ▁its ▁Zen ▁Ta lk s ▁that ▁try ▁to ▁a wa ken ▁self ▁awarene'"
            ]
          },
          "execution_count": 9,
          "metadata": {},
          "output_type": "execute_result"
        }
      ],
      "source": [
        "f = open('kyoto-dev.en.atok', 'r',encoding=\"utf-8\")\n",
        "f.read(500)"
      ]
    },
    {
      "cell_type": "code",
      "execution_count": 10,
      "metadata": {},
      "outputs": [
        {
          "data": {
            "text/plain": [
              "'▁ 臨 済 宗 ( 臨 濟 宗 、 り ん ざ い し ゅ う ) は 、 中国 禅 五 家 七 宗 ( ご け し ち し ゅ う ) ( 臨 済 、 潙 仰 宗 、 曹 洞 宗 、 雲 門 宗 、 法 眼 宗 ) のひとつ で 、 唐 の 臨 済 義 玄 ( ? -8 67 年 ) を 宗 祖 とする 。\\n▁彼は 『 喝 の 臨 済 』 『 臨 済 将 軍 』 の 異 名 で 知られ 、 豪 放 な 家 風 を 特徴 として 中国 禅 興 隆 の 頂 点 を 極 めた 。\\n▁ 公 案 に 参 究 することにより 見 性 しようとする 看 話 禅 ( か ん なぜ ん ) で 、 ただ 座 禅 する 曹 洞 宗 の 黙 照 禅 と はこの 点 が 異なる 。\\n▁ 中国 における 臨 済 宗\\n▁ 臨 済 宗 は 、 その 名の 通り 、 会 昌 の 廃 仏 後 、 唐 末 の 宗 祖 臨 済 義 玄 に 始まる 。\\n▁ 臨 済 は 黄 檗 希 運 の 弟子 であり 、 河 北 省 の 地 を 拠点 と し 、 新 興 の 藩 鎮 勢 力 であった 成 徳 府 藩 鎮 の 王 常 侍 を'"
            ]
          },
          "execution_count": 10,
          "metadata": {},
          "output_type": "execute_result"
        }
      ],
      "source": [
        "f = open('kyoto-dev.ja.atok', 'r',encoding=\"utf-8\")\n",
        "f.read(500)"
      ]
    },
    {
      "cell_type": "code",
      "execution_count": 11,
      "metadata": {},
      "outputs": [
        {
          "data": {
            "text/plain": [
              "'▁In fo box ▁Buddhist\\n▁Do gen ▁was ▁a ▁Zen ▁monk ▁in ▁the ▁early ▁Ka ma ku ra ▁period .\\n▁The ▁found er ▁of ▁So to ▁Zen\\n▁La ter ▁in ▁his ▁life ▁he ▁also ▁went ▁by ▁the ▁name ▁Ki gen .\\n▁With in ▁the ▁ s ect ▁he ▁is ▁referred ▁to ▁by ▁the ▁honor ary ▁title ▁Ko so .\\n▁Post h um ous ly ▁named ▁Bu s sho ▁Den to ▁Ko ku shi , ▁or ▁Jo yo - D ai shi .\\n▁He ▁is ▁generally ▁called ▁Do gen ▁Zen ji .\\n▁He ▁is ▁re put ed ▁to ▁have ▁been ▁the ▁one ▁that ▁spread ▁the ▁practice s ▁of ▁too th ▁brush ing , ▁face ▁wash '"
            ]
          },
          "execution_count": 11,
          "metadata": {},
          "output_type": "execute_result"
        }
      ],
      "source": [
        "f = open('kyoto-test.en.atok', 'r',encoding=\"utf-8\")\n",
        "f.read(500)"
      ]
    },
    {
      "cell_type": "code",
      "execution_count": 12,
      "metadata": {},
      "outputs": [
        {
          "data": {
            "text/plain": [
              "'▁In fo box B ud d hi st\\n▁ 道 元 ( どう げ ん ) は 、 鎌 倉 時代 初期 の 禅 僧 。\\n▁ 曹 洞 宗 の 開 祖 。\\n▁ 晩 年に 希 玄 という 異 称 も 用 いた 。\\n▁ 同 宗 旨 では 高 祖 と 尊 称 される 。\\n▁ 諡 は 、 仏 性 伝 東 国 師 、 承 陽 大 師 _ ( 僧 )。\\n▁ 一般 には 道 元 禅 師 と呼ばれる 。\\n▁日本 に 歯 磨 き 洗 面 、 食事 の 際 の 作 法 や 掃 除 の 習慣 を 広 めた といわれ る 。\\n▁ 最初に モ ウ ソ ウ チ ク ( 孟 宗 竹 ) を持ち 帰 った とする 説 もある 。\\n▁ 道 元の 出 生 には 不 明 の 点 が多い が 、 内 大臣 土 御 門 通 親 ( 源 通 親 あるいは 久 我 通 親 ) の 嫡 流 に 生まれた とする 点 では 諸 説 が 一致 している 。\\n▁ 定 説 では 京都 木 幡 の 松 殿 山 荘 で 通 親 と 太 政 大臣 松 殿 基 房 ( 藤 原 基 房 ) の 娘 藤 原 伊 子 の 子 として 生まれた と され'"
            ]
          },
          "execution_count": 12,
          "metadata": {},
          "output_type": "execute_result"
        }
      ],
      "source": [
        "f = open('kyoto-test.ja.atok', 'r',encoding=\"utf-8\")\n",
        "f.read(500)"
      ]
    },
    {
      "cell_type": "markdown",
      "metadata": {},
      "source": [
        "# デトークナイズ"
      ]
    },
    {
      "cell_type": "code",
      "execution_count": 3,
      "metadata": {},
      "outputs": [],
      "source": [
        "import sentencepiece as spm\n",
        "import sys\n",
        "\n",
        "sp = spm.SentencePieceProcessor()\n",
        "sp.load('spm_trained_model.model')\n",
        "openfile = 'out_kyoto_en_atok.txt'\n",
        "f = open(openfile,mode='r')\n",
        "data = f.read()\n",
        "outputsentence = data.split('\\n')\n",
        "f.close()\n",
        "f2 = open(openfile+'detok', mode='w')\n",
        "for i in outputsentence:\n",
        "    i = i.split(' ')\n",
        "    tmp = sp.decode_pieces(i)\n",
        "    f2.write(tmp + '\\n')\n",
        "f2.close()"
      ]
    }
  ],
  "metadata": {
    "colab": {
      "collapsed_sections": [],
      "include_colab_link": true,
      "name": "tokenizer_test_sentencepiece.ipynb",
      "provenance": [],
      "toc_visible": true
    },
    "kernelspec": {
      "display_name": "Python 3",
      "language": "python",
      "name": "python3"
    },
    "language_info": {
      "codemirror_mode": {
        "name": "ipython",
        "version": 3
      },
      "file_extension": ".py",
      "mimetype": "text/x-python",
      "name": "python",
      "nbconvert_exporter": "python",
      "pygments_lexer": "ipython3",
      "version": "3.8.8"
    }
  },
  "nbformat": 4,
  "nbformat_minor": 0
}
