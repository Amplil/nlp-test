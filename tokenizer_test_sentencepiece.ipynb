{
  "cells": [
    {
      "cell_type": "markdown",
      "metadata": {
        "id": "view-in-github",
        "colab_type": "text"
      },
      "source": [
        "<a href=\"https://colab.research.google.com/github/Amplil/nlp-test/blob/master/tokenizer_test_sentencepiece.ipynb\" target=\"_parent\"><img src=\"https://colab.research.google.com/assets/colab-badge.svg\" alt=\"Open In Colab\"/></a>"
      ]
    },
    {
      "cell_type": "markdown",
      "metadata": {
        "id": "3MPlL083xWz_"
      },
      "source": [
        "# 単語分割（Sentencepiece）\n",
        "\n",
        "- Sentencepieceを使用して分かち書き（トークナイズ）します\n"
      ]
    },
    {
      "cell_type": "code",
      "execution_count": null,
      "metadata": {
        "colab": {
          "base_uri": "https://localhost:8080/"
        },
        "id": "QxTF6WLRTE6e",
        "outputId": "51d71b8a-b906-4b83-e98f-752efa31af62"
      },
      "outputs": [
        {
          "output_type": "stream",
          "name": "stdout",
          "text": [
            "Mounted at /content/drive\n"
          ]
        }
      ],
      "source": [
        "from google.colab import drive\n",
        "drive.mount('/content/drive')"
      ]
    },
    {
      "cell_type": "code",
      "source": [
        "cd \"/content/drive/MyDrive/Colab Notebooks/data/JParaCrawl\""
      ],
      "metadata": {
        "colab": {
          "base_uri": "https://localhost:8080/"
        },
        "id": "FUpnPpUsrUqc",
        "outputId": "8c325a2b-f9b6-4368-a043-5e699bacfc42"
      },
      "execution_count": null,
      "outputs": [
        {
          "output_type": "stream",
          "name": "stdout",
          "text": [
            "/content/drive/.shortcut-targets-by-id/1JYLeAGUDjAxZze-1sd2SWMVi0u1f0RSf/data/JParaCrawl\n"
          ]
        }
      ]
    },
    {
      "cell_type": "code",
      "execution_count": null,
      "metadata": {
        "id": "uo5yBe-kTRmX"
      },
      "outputs": [],
      "source": [
        "import sys\n",
        "sys.path.append(\"/content/drive/MyDrive/Colab Notebooks/packages\")"
      ]
    },
    {
      "cell_type": "code",
      "source": [
        "#pip install --target \"/content/drive/MyDrive/Colab Notebooks/packages\" sentencepiece"
      ],
      "metadata": {
        "colab": {
          "base_uri": "https://localhost:8080/"
        },
        "id": "JdKTeUAVpwjz",
        "outputId": "e1788fc4-36a1-4e55-afd4-9e6240deccde"
      },
      "execution_count": null,
      "outputs": [
        {
          "output_type": "stream",
          "name": "stdout",
          "text": [
            "Collecting sentencepiece\n",
            "  Downloading sentencepiece-0.1.96-cp37-cp37m-manylinux_2_17_x86_64.manylinux2014_x86_64.whl (1.2 MB)\n",
            "\u001b[?25l\r\u001b[K     |▎                               | 10 kB 24.3 MB/s eta 0:00:01\r\u001b[K     |▌                               | 20 kB 14.0 MB/s eta 0:00:01\r\u001b[K     |▉                               | 30 kB 10.4 MB/s eta 0:00:01\r\u001b[K     |█                               | 40 kB 8.5 MB/s eta 0:00:01\r\u001b[K     |█▍                              | 51 kB 4.9 MB/s eta 0:00:01\r\u001b[K     |█▋                              | 61 kB 5.2 MB/s eta 0:00:01\r\u001b[K     |██                              | 71 kB 5.4 MB/s eta 0:00:01\r\u001b[K     |██▏                             | 81 kB 6.0 MB/s eta 0:00:01\r\u001b[K     |██▍                             | 92 kB 4.5 MB/s eta 0:00:01\r\u001b[K     |██▊                             | 102 kB 4.9 MB/s eta 0:00:01\r\u001b[K     |███                             | 112 kB 4.9 MB/s eta 0:00:01\r\u001b[K     |███▎                            | 122 kB 4.9 MB/s eta 0:00:01\r\u001b[K     |███▌                            | 133 kB 4.9 MB/s eta 0:00:01\r\u001b[K     |███▉                            | 143 kB 4.9 MB/s eta 0:00:01\r\u001b[K     |████                            | 153 kB 4.9 MB/s eta 0:00:01\r\u001b[K     |████▎                           | 163 kB 4.9 MB/s eta 0:00:01\r\u001b[K     |████▋                           | 174 kB 4.9 MB/s eta 0:00:01\r\u001b[K     |████▉                           | 184 kB 4.9 MB/s eta 0:00:01\r\u001b[K     |█████▏                          | 194 kB 4.9 MB/s eta 0:00:01\r\u001b[K     |█████▍                          | 204 kB 4.9 MB/s eta 0:00:01\r\u001b[K     |█████▊                          | 215 kB 4.9 MB/s eta 0:00:01\r\u001b[K     |██████                          | 225 kB 4.9 MB/s eta 0:00:01\r\u001b[K     |██████▏                         | 235 kB 4.9 MB/s eta 0:00:01\r\u001b[K     |██████▌                         | 245 kB 4.9 MB/s eta 0:00:01\r\u001b[K     |██████▊                         | 256 kB 4.9 MB/s eta 0:00:01\r\u001b[K     |███████                         | 266 kB 4.9 MB/s eta 0:00:01\r\u001b[K     |███████▎                        | 276 kB 4.9 MB/s eta 0:00:01\r\u001b[K     |███████▋                        | 286 kB 4.9 MB/s eta 0:00:01\r\u001b[K     |███████▉                        | 296 kB 4.9 MB/s eta 0:00:01\r\u001b[K     |████████                        | 307 kB 4.9 MB/s eta 0:00:01\r\u001b[K     |████████▍                       | 317 kB 4.9 MB/s eta 0:00:01\r\u001b[K     |████████▋                       | 327 kB 4.9 MB/s eta 0:00:01\r\u001b[K     |█████████                       | 337 kB 4.9 MB/s eta 0:00:01\r\u001b[K     |█████████▏                      | 348 kB 4.9 MB/s eta 0:00:01\r\u001b[K     |█████████▌                      | 358 kB 4.9 MB/s eta 0:00:01\r\u001b[K     |█████████▊                      | 368 kB 4.9 MB/s eta 0:00:01\r\u001b[K     |██████████                      | 378 kB 4.9 MB/s eta 0:00:01\r\u001b[K     |██████████▎                     | 389 kB 4.9 MB/s eta 0:00:01\r\u001b[K     |██████████▌                     | 399 kB 4.9 MB/s eta 0:00:01\r\u001b[K     |██████████▉                     | 409 kB 4.9 MB/s eta 0:00:01\r\u001b[K     |███████████                     | 419 kB 4.9 MB/s eta 0:00:01\r\u001b[K     |███████████▍                    | 430 kB 4.9 MB/s eta 0:00:01\r\u001b[K     |███████████▋                    | 440 kB 4.9 MB/s eta 0:00:01\r\u001b[K     |███████████▉                    | 450 kB 4.9 MB/s eta 0:00:01\r\u001b[K     |████████████▏                   | 460 kB 4.9 MB/s eta 0:00:01\r\u001b[K     |████████████▍                   | 471 kB 4.9 MB/s eta 0:00:01\r\u001b[K     |████████████▊                   | 481 kB 4.9 MB/s eta 0:00:01\r\u001b[K     |█████████████                   | 491 kB 4.9 MB/s eta 0:00:01\r\u001b[K     |█████████████▎                  | 501 kB 4.9 MB/s eta 0:00:01\r\u001b[K     |█████████████▌                  | 512 kB 4.9 MB/s eta 0:00:01\r\u001b[K     |█████████████▊                  | 522 kB 4.9 MB/s eta 0:00:01\r\u001b[K     |██████████████                  | 532 kB 4.9 MB/s eta 0:00:01\r\u001b[K     |██████████████▎                 | 542 kB 4.9 MB/s eta 0:00:01\r\u001b[K     |██████████████▋                 | 552 kB 4.9 MB/s eta 0:00:01\r\u001b[K     |██████████████▉                 | 563 kB 4.9 MB/s eta 0:00:01\r\u001b[K     |███████████████▏                | 573 kB 4.9 MB/s eta 0:00:01\r\u001b[K     |███████████████▍                | 583 kB 4.9 MB/s eta 0:00:01\r\u001b[K     |███████████████▋                | 593 kB 4.9 MB/s eta 0:00:01\r\u001b[K     |████████████████                | 604 kB 4.9 MB/s eta 0:00:01\r\u001b[K     |████████████████▏               | 614 kB 4.9 MB/s eta 0:00:01\r\u001b[K     |████████████████▌               | 624 kB 4.9 MB/s eta 0:00:01\r\u001b[K     |████████████████▊               | 634 kB 4.9 MB/s eta 0:00:01\r\u001b[K     |█████████████████               | 645 kB 4.9 MB/s eta 0:00:01\r\u001b[K     |█████████████████▎              | 655 kB 4.9 MB/s eta 0:00:01\r\u001b[K     |█████████████████▌              | 665 kB 4.9 MB/s eta 0:00:01\r\u001b[K     |█████████████████▉              | 675 kB 4.9 MB/s eta 0:00:01\r\u001b[K     |██████████████████              | 686 kB 4.9 MB/s eta 0:00:01\r\u001b[K     |██████████████████▍             | 696 kB 4.9 MB/s eta 0:00:01\r\u001b[K     |██████████████████▋             | 706 kB 4.9 MB/s eta 0:00:01\r\u001b[K     |███████████████████             | 716 kB 4.9 MB/s eta 0:00:01\r\u001b[K     |███████████████████▏            | 727 kB 4.9 MB/s eta 0:00:01\r\u001b[K     |███████████████████▍            | 737 kB 4.9 MB/s eta 0:00:01\r\u001b[K     |███████████████████▊            | 747 kB 4.9 MB/s eta 0:00:01\r\u001b[K     |████████████████████            | 757 kB 4.9 MB/s eta 0:00:01\r\u001b[K     |████████████████████▎           | 768 kB 4.9 MB/s eta 0:00:01\r\u001b[K     |████████████████████▌           | 778 kB 4.9 MB/s eta 0:00:01\r\u001b[K     |████████████████████▉           | 788 kB 4.9 MB/s eta 0:00:01\r\u001b[K     |█████████████████████           | 798 kB 4.9 MB/s eta 0:00:01\r\u001b[K     |█████████████████████▎          | 808 kB 4.9 MB/s eta 0:00:01\r\u001b[K     |█████████████████████▋          | 819 kB 4.9 MB/s eta 0:00:01\r\u001b[K     |█████████████████████▉          | 829 kB 4.9 MB/s eta 0:00:01\r\u001b[K     |██████████████████████▏         | 839 kB 4.9 MB/s eta 0:00:01\r\u001b[K     |██████████████████████▍         | 849 kB 4.9 MB/s eta 0:00:01\r\u001b[K     |██████████████████████▊         | 860 kB 4.9 MB/s eta 0:00:01\r\u001b[K     |███████████████████████         | 870 kB 4.9 MB/s eta 0:00:01\r\u001b[K     |███████████████████████▏        | 880 kB 4.9 MB/s eta 0:00:01\r\u001b[K     |███████████████████████▌        | 890 kB 4.9 MB/s eta 0:00:01\r\u001b[K     |███████████████████████▊        | 901 kB 4.9 MB/s eta 0:00:01\r\u001b[K     |████████████████████████        | 911 kB 4.9 MB/s eta 0:00:01\r\u001b[K     |████████████████████████▎       | 921 kB 4.9 MB/s eta 0:00:01\r\u001b[K     |████████████████████████▋       | 931 kB 4.9 MB/s eta 0:00:01\r\u001b[K     |████████████████████████▉       | 942 kB 4.9 MB/s eta 0:00:01\r\u001b[K     |█████████████████████████       | 952 kB 4.9 MB/s eta 0:00:01\r\u001b[K     |█████████████████████████▍      | 962 kB 4.9 MB/s eta 0:00:01\r\u001b[K     |█████████████████████████▋      | 972 kB 4.9 MB/s eta 0:00:01\r\u001b[K     |██████████████████████████      | 983 kB 4.9 MB/s eta 0:00:01\r\u001b[K     |██████████████████████████▏     | 993 kB 4.9 MB/s eta 0:00:01\r\u001b[K     |██████████████████████████▌     | 1.0 MB 4.9 MB/s eta 0:00:01\r\u001b[K     |██████████████████████████▊     | 1.0 MB 4.9 MB/s eta 0:00:01\r\u001b[K     |███████████████████████████     | 1.0 MB 4.9 MB/s eta 0:00:01\r\u001b[K     |███████████████████████████▎    | 1.0 MB 4.9 MB/s eta 0:00:01\r\u001b[K     |███████████████████████████▌    | 1.0 MB 4.9 MB/s eta 0:00:01\r\u001b[K     |███████████████████████████▉    | 1.1 MB 4.9 MB/s eta 0:00:01\r\u001b[K     |████████████████████████████    | 1.1 MB 4.9 MB/s eta 0:00:01\r\u001b[K     |████████████████████████████▍   | 1.1 MB 4.9 MB/s eta 0:00:01\r\u001b[K     |████████████████████████████▋   | 1.1 MB 4.9 MB/s eta 0:00:01\r\u001b[K     |████████████████████████████▉   | 1.1 MB 4.9 MB/s eta 0:00:01\r\u001b[K     |█████████████████████████████▏  | 1.1 MB 4.9 MB/s eta 0:00:01\r\u001b[K     |█████████████████████████████▍  | 1.1 MB 4.9 MB/s eta 0:00:01\r\u001b[K     |█████████████████████████████▊  | 1.1 MB 4.9 MB/s eta 0:00:01\r\u001b[K     |██████████████████████████████  | 1.1 MB 4.9 MB/s eta 0:00:01\r\u001b[K     |██████████████████████████████▎ | 1.1 MB 4.9 MB/s eta 0:00:01\r\u001b[K     |██████████████████████████████▌ | 1.2 MB 4.9 MB/s eta 0:00:01\r\u001b[K     |██████████████████████████████▊ | 1.2 MB 4.9 MB/s eta 0:00:01\r\u001b[K     |███████████████████████████████ | 1.2 MB 4.9 MB/s eta 0:00:01\r\u001b[K     |███████████████████████████████▎| 1.2 MB 4.9 MB/s eta 0:00:01\r\u001b[K     |███████████████████████████████▋| 1.2 MB 4.9 MB/s eta 0:00:01\r\u001b[K     |███████████████████████████████▉| 1.2 MB 4.9 MB/s eta 0:00:01\r\u001b[K     |████████████████████████████████| 1.2 MB 4.9 MB/s \n",
            "\u001b[?25hInstalling collected packages: sentencepiece\n",
            "Successfully installed sentencepiece-0.1.96\n",
            "\u001b[33mWARNING: Target directory /content/drive/MyDrive/Colab Notebooks/packages/sentencepiece-0.1.96.dist-info already exists. Specify --upgrade to force replacement.\u001b[0m\n",
            "\u001b[33mWARNING: Target directory /content/drive/MyDrive/Colab Notebooks/packages/sentencepiece already exists. Specify --upgrade to force replacement.\u001b[0m\n"
          ]
        }
      ]
    },
    {
      "cell_type": "code",
      "source": [
        "pip install sentencepiece"
      ],
      "metadata": {
        "colab": {
          "base_uri": "https://localhost:8080/"
        },
        "id": "4RVg0G6S1MQ4",
        "outputId": "f72c4aa8-5ac4-49b7-a29b-0d2075c26932"
      },
      "execution_count": null,
      "outputs": [
        {
          "output_type": "stream",
          "name": "stdout",
          "text": [
            "Collecting sentencepiece\n",
            "  Downloading sentencepiece-0.1.96-cp37-cp37m-manylinux_2_17_x86_64.manylinux2014_x86_64.whl (1.2 MB)\n",
            "\u001b[?25l\r\u001b[K     |▎                               | 10 kB 21.1 MB/s eta 0:00:01\r\u001b[K     |▌                               | 20 kB 24.8 MB/s eta 0:00:01\r\u001b[K     |▉                               | 30 kB 22.4 MB/s eta 0:00:01\r\u001b[K     |█                               | 40 kB 17.5 MB/s eta 0:00:01\r\u001b[K     |█▍                              | 51 kB 19.3 MB/s eta 0:00:01\r\u001b[K     |█▋                              | 61 kB 16.3 MB/s eta 0:00:01\r\u001b[K     |██                              | 71 kB 16.8 MB/s eta 0:00:01\r\u001b[K     |██▏                             | 81 kB 18.2 MB/s eta 0:00:01\r\u001b[K     |██▍                             | 92 kB 16.5 MB/s eta 0:00:01\r\u001b[K     |██▊                             | 102 kB 17.5 MB/s eta 0:00:01\r\u001b[K     |███                             | 112 kB 17.5 MB/s eta 0:00:01\r\u001b[K     |███▎                            | 122 kB 17.5 MB/s eta 0:00:01\r\u001b[K     |███▌                            | 133 kB 17.5 MB/s eta 0:00:01\r\u001b[K     |███▉                            | 143 kB 17.5 MB/s eta 0:00:01\r\u001b[K     |████                            | 153 kB 17.5 MB/s eta 0:00:01\r\u001b[K     |████▎                           | 163 kB 17.5 MB/s eta 0:00:01\r\u001b[K     |████▋                           | 174 kB 17.5 MB/s eta 0:00:01\r\u001b[K     |████▉                           | 184 kB 17.5 MB/s eta 0:00:01\r\u001b[K     |█████▏                          | 194 kB 17.5 MB/s eta 0:00:01\r\u001b[K     |█████▍                          | 204 kB 17.5 MB/s eta 0:00:01\r\u001b[K     |█████▊                          | 215 kB 17.5 MB/s eta 0:00:01\r\u001b[K     |██████                          | 225 kB 17.5 MB/s eta 0:00:01\r\u001b[K     |██████▏                         | 235 kB 17.5 MB/s eta 0:00:01\r\u001b[K     |██████▌                         | 245 kB 17.5 MB/s eta 0:00:01\r\u001b[K     |██████▊                         | 256 kB 17.5 MB/s eta 0:00:01\r\u001b[K     |███████                         | 266 kB 17.5 MB/s eta 0:00:01\r\u001b[K     |███████▎                        | 276 kB 17.5 MB/s eta 0:00:01\r\u001b[K     |███████▋                        | 286 kB 17.5 MB/s eta 0:00:01\r\u001b[K     |███████▉                        | 296 kB 17.5 MB/s eta 0:00:01\r\u001b[K     |████████                        | 307 kB 17.5 MB/s eta 0:00:01\r\u001b[K     |████████▍                       | 317 kB 17.5 MB/s eta 0:00:01\r\u001b[K     |████████▋                       | 327 kB 17.5 MB/s eta 0:00:01\r\u001b[K     |█████████                       | 337 kB 17.5 MB/s eta 0:00:01\r\u001b[K     |█████████▏                      | 348 kB 17.5 MB/s eta 0:00:01\r\u001b[K     |█████████▌                      | 358 kB 17.5 MB/s eta 0:00:01\r\u001b[K     |█████████▊                      | 368 kB 17.5 MB/s eta 0:00:01\r\u001b[K     |██████████                      | 378 kB 17.5 MB/s eta 0:00:01\r\u001b[K     |██████████▎                     | 389 kB 17.5 MB/s eta 0:00:01\r\u001b[K     |██████████▌                     | 399 kB 17.5 MB/s eta 0:00:01\r\u001b[K     |██████████▉                     | 409 kB 17.5 MB/s eta 0:00:01\r\u001b[K     |███████████                     | 419 kB 17.5 MB/s eta 0:00:01\r\u001b[K     |███████████▍                    | 430 kB 17.5 MB/s eta 0:00:01\r\u001b[K     |███████████▋                    | 440 kB 17.5 MB/s eta 0:00:01\r\u001b[K     |███████████▉                    | 450 kB 17.5 MB/s eta 0:00:01\r\u001b[K     |████████████▏                   | 460 kB 17.5 MB/s eta 0:00:01\r\u001b[K     |████████████▍                   | 471 kB 17.5 MB/s eta 0:00:01\r\u001b[K     |████████████▊                   | 481 kB 17.5 MB/s eta 0:00:01\r\u001b[K     |█████████████                   | 491 kB 17.5 MB/s eta 0:00:01\r\u001b[K     |█████████████▎                  | 501 kB 17.5 MB/s eta 0:00:01\r\u001b[K     |█████████████▌                  | 512 kB 17.5 MB/s eta 0:00:01\r\u001b[K     |█████████████▊                  | 522 kB 17.5 MB/s eta 0:00:01\r\u001b[K     |██████████████                  | 532 kB 17.5 MB/s eta 0:00:01\r\u001b[K     |██████████████▎                 | 542 kB 17.5 MB/s eta 0:00:01\r\u001b[K     |██████████████▋                 | 552 kB 17.5 MB/s eta 0:00:01\r\u001b[K     |██████████████▉                 | 563 kB 17.5 MB/s eta 0:00:01\r\u001b[K     |███████████████▏                | 573 kB 17.5 MB/s eta 0:00:01\r\u001b[K     |███████████████▍                | 583 kB 17.5 MB/s eta 0:00:01\r\u001b[K     |███████████████▋                | 593 kB 17.5 MB/s eta 0:00:01\r\u001b[K     |████████████████                | 604 kB 17.5 MB/s eta 0:00:01\r\u001b[K     |████████████████▏               | 614 kB 17.5 MB/s eta 0:00:01\r\u001b[K     |████████████████▌               | 624 kB 17.5 MB/s eta 0:00:01\r\u001b[K     |████████████████▊               | 634 kB 17.5 MB/s eta 0:00:01\r\u001b[K     |█████████████████               | 645 kB 17.5 MB/s eta 0:00:01\r\u001b[K     |█████████████████▎              | 655 kB 17.5 MB/s eta 0:00:01\r\u001b[K     |█████████████████▌              | 665 kB 17.5 MB/s eta 0:00:01\r\u001b[K     |█████████████████▉              | 675 kB 17.5 MB/s eta 0:00:01\r\u001b[K     |██████████████████              | 686 kB 17.5 MB/s eta 0:00:01\r\u001b[K     |██████████████████▍             | 696 kB 17.5 MB/s eta 0:00:01\r\u001b[K     |██████████████████▋             | 706 kB 17.5 MB/s eta 0:00:01\r\u001b[K     |███████████████████             | 716 kB 17.5 MB/s eta 0:00:01\r\u001b[K     |███████████████████▏            | 727 kB 17.5 MB/s eta 0:00:01\r\u001b[K     |███████████████████▍            | 737 kB 17.5 MB/s eta 0:00:01\r\u001b[K     |███████████████████▊            | 747 kB 17.5 MB/s eta 0:00:01\r\u001b[K     |████████████████████            | 757 kB 17.5 MB/s eta 0:00:01\r\u001b[K     |████████████████████▎           | 768 kB 17.5 MB/s eta 0:00:01\r\u001b[K     |████████████████████▌           | 778 kB 17.5 MB/s eta 0:00:01\r\u001b[K     |████████████████████▉           | 788 kB 17.5 MB/s eta 0:00:01\r\u001b[K     |█████████████████████           | 798 kB 17.5 MB/s eta 0:00:01\r\u001b[K     |█████████████████████▎          | 808 kB 17.5 MB/s eta 0:00:01\r\u001b[K     |█████████████████████▋          | 819 kB 17.5 MB/s eta 0:00:01\r\u001b[K     |█████████████████████▉          | 829 kB 17.5 MB/s eta 0:00:01\r\u001b[K     |██████████████████████▏         | 839 kB 17.5 MB/s eta 0:00:01\r\u001b[K     |██████████████████████▍         | 849 kB 17.5 MB/s eta 0:00:01\r\u001b[K     |██████████████████████▊         | 860 kB 17.5 MB/s eta 0:00:01\r\u001b[K     |███████████████████████         | 870 kB 17.5 MB/s eta 0:00:01\r\u001b[K     |███████████████████████▏        | 880 kB 17.5 MB/s eta 0:00:01\r\u001b[K     |███████████████████████▌        | 890 kB 17.5 MB/s eta 0:00:01\r\u001b[K     |███████████████████████▊        | 901 kB 17.5 MB/s eta 0:00:01\r\u001b[K     |████████████████████████        | 911 kB 17.5 MB/s eta 0:00:01\r\u001b[K     |████████████████████████▎       | 921 kB 17.5 MB/s eta 0:00:01\r\u001b[K     |████████████████████████▋       | 931 kB 17.5 MB/s eta 0:00:01\r\u001b[K     |████████████████████████▉       | 942 kB 17.5 MB/s eta 0:00:01\r\u001b[K     |█████████████████████████       | 952 kB 17.5 MB/s eta 0:00:01\r\u001b[K     |█████████████████████████▍      | 962 kB 17.5 MB/s eta 0:00:01\r\u001b[K     |█████████████████████████▋      | 972 kB 17.5 MB/s eta 0:00:01\r\u001b[K     |██████████████████████████      | 983 kB 17.5 MB/s eta 0:00:01\r\u001b[K     |██████████████████████████▏     | 993 kB 17.5 MB/s eta 0:00:01\r\u001b[K     |██████████████████████████▌     | 1.0 MB 17.5 MB/s eta 0:00:01\r\u001b[K     |██████████████████████████▊     | 1.0 MB 17.5 MB/s eta 0:00:01\r\u001b[K     |███████████████████████████     | 1.0 MB 17.5 MB/s eta 0:00:01\r\u001b[K     |███████████████████████████▎    | 1.0 MB 17.5 MB/s eta 0:00:01\r\u001b[K     |███████████████████████████▌    | 1.0 MB 17.5 MB/s eta 0:00:01\r\u001b[K     |███████████████████████████▉    | 1.1 MB 17.5 MB/s eta 0:00:01\r\u001b[K     |████████████████████████████    | 1.1 MB 17.5 MB/s eta 0:00:01\r\u001b[K     |████████████████████████████▍   | 1.1 MB 17.5 MB/s eta 0:00:01\r\u001b[K     |████████████████████████████▋   | 1.1 MB 17.5 MB/s eta 0:00:01\r\u001b[K     |████████████████████████████▉   | 1.1 MB 17.5 MB/s eta 0:00:01\r\u001b[K     |█████████████████████████████▏  | 1.1 MB 17.5 MB/s eta 0:00:01\r\u001b[K     |█████████████████████████████▍  | 1.1 MB 17.5 MB/s eta 0:00:01\r\u001b[K     |█████████████████████████████▊  | 1.1 MB 17.5 MB/s eta 0:00:01\r\u001b[K     |██████████████████████████████  | 1.1 MB 17.5 MB/s eta 0:00:01\r\u001b[K     |██████████████████████████████▎ | 1.1 MB 17.5 MB/s eta 0:00:01\r\u001b[K     |██████████████████████████████▌ | 1.2 MB 17.5 MB/s eta 0:00:01\r\u001b[K     |██████████████████████████████▊ | 1.2 MB 17.5 MB/s eta 0:00:01\r\u001b[K     |███████████████████████████████ | 1.2 MB 17.5 MB/s eta 0:00:01\r\u001b[K     |███████████████████████████████▎| 1.2 MB 17.5 MB/s eta 0:00:01\r\u001b[K     |███████████████████████████████▋| 1.2 MB 17.5 MB/s eta 0:00:01\r\u001b[K     |███████████████████████████████▉| 1.2 MB 17.5 MB/s eta 0:00:01\r\u001b[K     |████████████████████████████████| 1.2 MB 17.5 MB/s \n",
            "\u001b[?25hInstalling collected packages: sentencepiece\n",
            "Successfully installed sentencepiece-0.1.96\n"
          ]
        }
      ]
    },
    {
      "cell_type": "markdown",
      "source": [
        "# JParaCrawlのトークナイズ（日本語も英語も一緒に行う）"
      ],
      "metadata": {
        "id": "GJlDEwxpPxQj"
      }
    },
    {
      "cell_type": "code",
      "source": [
        "#!cat en.txt ja.txt > tmp.txt"
      ],
      "metadata": {
        "id": "QwZGzhb3r1BR"
      },
      "execution_count": null,
      "outputs": []
    },
    {
      "cell_type": "code",
      "source": [
        "import sentencepiece as spm\n",
        "\n",
        "# 学習の実行\n",
        "spm.SentencePieceTrainer.Train(\n",
        "   \"--input=tmp.txt --model_prefix=spm_trained_model --vocab_size=16000\"\n",
        ")"
      ],
      "metadata": {
        "id": "RfKLH66v03p3"
      },
      "execution_count": null,
      "outputs": []
    },
    {
      "cell_type": "code",
      "source": [
        "import sentencepiece as spm\n",
        "\n",
        "# 学習の実行\n",
        "spm.SentencePieceTrainer.Train(\n",
        "   \"--input=tmp.txt --model_prefix=spm_trained_model --vocab_size=7000 --character_coverage=0.98\"\n",
        ")"
      ],
      "metadata": {
        "id": "ORi1gGl_qlTq"
      },
      "execution_count": null,
      "outputs": []
    },
    {
      "cell_type": "code",
      "source": [
        "sp = spm.SentencePieceProcessor()\n",
        "sp.load('spm_trained_model.model')"
      ],
      "metadata": {
        "id": "qj-JUwVWsV5F"
      },
      "execution_count": null,
      "outputs": []
    },
    {
      "cell_type": "code",
      "source": [
        "def detok(filename, outputfilename):\n",
        "    f = open(filename, mode='r')\n",
        "    foutput = open(outputfilename, mode='w')\n",
        "    d = f.read()\n",
        "    d = d.split('\\n')\n",
        "    for i in d:\n",
        "        data = sp.EncodeAsPieces(str(i))\n",
        "        data = ' '.join(data)\n",
        "        foutput.write(data + '\\n')\n",
        "    f.close()\n",
        "    foutput.close()"
      ],
      "metadata": {
        "id": "x9MTEsJpsesU"
      },
      "execution_count": null,
      "outputs": []
    },
    {
      "cell_type": "code",
      "source": [
        "detok('train.en','train.en.atok')\n",
        "detok('train.ja','train.ja.atok')\n",
        "detok('dev.en','dev.en.atok')\n",
        "detok('dev.ja','dev.ja.atok')\n",
        "detok('test.en','test.en.atok')\n",
        "detok('test.ja','test.ja.atok')"
      ],
      "metadata": {
        "id": "af-N0Wswuczl"
      },
      "execution_count": null,
      "outputs": []
    },
    {
      "cell_type": "code",
      "source": [
        "f = open('./data/JParaCrawl/ja.txt', 'r',encoding=\"utf-8\")\n",
        "f.read(500)"
      ],
      "metadata": {
        "colab": {
          "base_uri": "https://localhost:8080/",
          "height": 91
        },
        "id": "4SMlHrNCT_2J",
        "outputId": "a6234776-c038-42e6-ac26-c1cbb5012745"
      },
      "execution_count": null,
      "outputs": [
        {
          "output_type": "execute_result",
          "data": {
            "application/vnd.google.colaboratory.intrinsic+json": {
              "type": "string"
            },
            "text/plain": [
              "'\\ufeff九州南部は平年並みの5/31(金)頃に梅雨入り。\\nHope Report 事業報告 事業番号:19-065 中国南部の洞窟から見つかっている鮮新世〜更新世前半の霊長類化石の解析 報告者:高井 正成 期間:2008/01/11 - 2008/01/17 中国南部の広西壮族自治区を中心とした洞窟堆積物からは、鮮新世から更新世後半の動物化石が豊富に出土することが知られている。申請者は2007年11月に広西壮族自治区西部の崇左にある北京大学崇左生物多様性研究基地において、同施設主任の秦大公氏や中国科学院古脊椎動物・古人類研究所(IVPP)の金昌柱教授やとともに予備的な発掘調査を行い、霊長類を含む多数の動物化石を発見した。\\nゆんフリー写真素材集 : No. 9702 日本海の夕暮れ [日本 / 島根]\\nゆんフリー写真素材集 : No. 937 クリスマスツリーと青空 [日本 / 北海道]\\nゆんフリー写真素材集 : No. 852 アルカトラズ島全景 [アメリカ / サンフランシスコ]\\nゆんフリー写真素材集 : No. 8200 魚の顔 [アメリカ / サンフランシスコ]\\nゆんフリー写真素材集 '"
            ]
          },
          "metadata": {},
          "execution_count": 34
        }
      ]
    },
    {
      "cell_type": "code",
      "source": [
        "f = open('./data/JParaCrawl/ja-tok.txt', 'r',encoding=\"utf-8\")\n",
        "f.read(500)"
      ],
      "metadata": {
        "colab": {
          "base_uri": "https://localhost:8080/",
          "height": 91
        },
        "id": "qfGXJi7UVBuK",
        "outputId": "c899b0f8-4ece-4f70-e2b6-2d4cd94faa81"
      },
      "execution_count": null,
      "outputs": [
        {
          "output_type": "execute_result",
          "data": {
            "application/vnd.google.colaboratory.intrinsic+json": {
              "type": "string"
            },
            "text/plain": [
              "'\\ufeff 九州南部 は 平年並み の 5 / 31 ( 金 ) 頃 に 梅雨入り 。 \\n \\nHope Repo rt 事業報告 事業 番号 : 19 - 065 中国 南部 の 洞窟 から 見つかっ て いる 鮮新世 〜 更新世 前半 の 霊長類 化石 の 解析 報告 者 : 高井 正成 期間 : 2008 / 01 / 11 - 2008 / 01 / 17 中国 南部 の 広西壮族自治区 を 中心 と し た 洞窟 堆積 物 から は 、 鮮新世 から 更新世 後半 の 動物 化石 が 豊富 に 出土 する こと が 知ら れ て いる 。 申請 者 は 2007年 11月 に 広西壮族自治区 西部 の 崇 左 に ある 北京大学 崇 左 生物多様性 研究 基地 において 、 同 施設 主任 の 秦 大公 氏 や 中国科学院 古 脊椎動物 ・ 古人 類 研究所 ( IVPP ) の 金昌柱 教授 や とともに 予備 的 な 発掘 調査 を 行い 、 霊長類 を 含む 多数 の 動物 化石 を 発見 し た 。 \\n \\nゆんフリー写真素材集 : No. 9702 日 本海 の 夕暮れ [ 日'"
            ]
          },
          "metadata": {},
          "execution_count": 36
        }
      ]
    }
  ],
  "metadata": {
    "colab": {
      "collapsed_sections": [],
      "name": "tokenizer_test_sentencepiece.ipynb",
      "provenance": [],
      "toc_visible": true,
      "include_colab_link": true
    },
    "kernelspec": {
      "display_name": "Python 3",
      "language": "python",
      "name": "python3"
    },
    "language_info": {
      "codemirror_mode": {
        "name": "ipython",
        "version": 3
      },
      "file_extension": ".py",
      "mimetype": "text/x-python",
      "name": "python",
      "nbconvert_exporter": "python",
      "pygments_lexer": "ipython3",
      "version": "3.6.5"
    }
  },
  "nbformat": 4,
  "nbformat_minor": 0
}