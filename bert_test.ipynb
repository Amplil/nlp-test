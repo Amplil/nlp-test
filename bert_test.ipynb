{
  "nbformat": 4,
  "nbformat_minor": 0,
  "metadata": {
    "colab": {
      "name": "bert_test.ipynb",
      "provenance": [],
      "mount_file_id": "1SxukMwiKqW_s90KTSkx1dHjCbbM_rhl3",
      "authorship_tag": "ABX9TyP28/pDq9vm0OxhCl2E+Aue",
      "include_colab_link": true
    },
    "kernelspec": {
      "name": "python3",
      "display_name": "Python 3"
    },
    "language_info": {
      "name": "python"
    },
    "accelerator": "GPU"
  },
  "cells": [
    {
      "cell_type": "markdown",
      "metadata": {
        "id": "view-in-github",
        "colab_type": "text"
      },
      "source": [
        "<a href=\"https://colab.research.google.com/github/Amplil/nlp-test/blob/master/bert_test.ipynb\" target=\"_parent\"><img src=\"https://colab.research.google.com/assets/colab-badge.svg\" alt=\"Open In Colab\"/></a>"
      ]
    },
    {
      "cell_type": "code",
      "metadata": {
        "colab": {
          "base_uri": "https://localhost:8080/"
        },
        "id": "QjH6YU3s3SPc",
        "outputId": "ea631f14-3138-425d-aa66-bb4bdd84edc9"
      },
      "source": [
        "ls"
      ],
      "execution_count": 1,
      "outputs": [
        {
          "output_type": "stream",
          "text": [
            "\u001b[0m\u001b[01;34mdrive\u001b[0m/  \u001b[01;34msample_data\u001b[0m/\n"
          ],
          "name": "stdout"
        }
      ]
    },
    {
      "cell_type": "code",
      "metadata": {
        "id": "XG__BRNc266h"
      },
      "source": [
        "import sys\n",
        "sys.path.append(\"/content/drive/MyDrive/Colab Notebooks/packages\")\n",
        "import slacknotice # オリジナルモジュール"
      ],
      "execution_count": 2,
      "outputs": []
    },
    {
      "cell_type": "markdown",
      "metadata": {
        "id": "r6UqsP48RYJn"
      },
      "source": [
        "# OpenNMT\n",
        "[OpenNMT](https://github.com/OpenNMT/OpenNMT-py)のQuickstartを参考にした。"
      ]
    },
    {
      "cell_type": "markdown",
      "metadata": {
        "id": "ry0g7-bPkV6z"
      },
      "source": [
        "## 初回インストール"
      ]
    },
    {
      "cell_type": "code",
      "metadata": {
        "colab": {
          "base_uri": "https://localhost:8080/"
        },
        "id": "LhR-UoKlnzX7",
        "outputId": "23daf6ef-1344-4b28-baf1-ac5465903f41"
      },
      "source": [
        "cd \"/content/drive/MyDrive/Colab Notebooks\""
      ],
      "execution_count": 3,
      "outputs": [
        {
          "output_type": "stream",
          "text": [
            "/content/drive/MyDrive/Colab Notebooks\n"
          ],
          "name": "stdout"
        }
      ]
    },
    {
      "cell_type": "code",
      "metadata": {
        "colab": {
          "base_uri": "https://localhost:8080/"
        },
        "id": "FmaEQQlERPO0",
        "outputId": "8538def4-a740-48bb-f536-c04e4b969c6b"
      },
      "source": [
        "!git clone https://github.com/shakeel608/OpenNMT-py-with-BERT"
      ],
      "execution_count": 4,
      "outputs": [
        {
          "output_type": "stream",
          "text": [
            "Cloning into 'OpenNMT-py-with-BERT'...\n",
            "remote: Enumerating objects: 276, done.\u001b[K\n",
            "remote: Total 276 (delta 0), reused 0 (delta 0), pack-reused 276\u001b[K\n",
            "Receiving objects: 100% (276/276), 4.85 MiB | 12.70 MiB/s, done.\n",
            "Resolving deltas: 100% (29/29), done.\n",
            "Checking out files: 100% (189/189), done.\n"
          ],
          "name": "stdout"
        }
      ]
    },
    {
      "cell_type": "markdown",
      "metadata": {
        "id": "_fHlI7KmoMvi"
      },
      "source": [
        "## 毎回必要なインストール"
      ]
    },
    {
      "cell_type": "code",
      "metadata": {
        "colab": {
          "base_uri": "https://localhost:8080/"
        },
        "id": "YBKMW7Q5hB7-",
        "outputId": "b431570f-7fa4-45ef-d938-a54e64ed3536"
      },
      "source": [
        "cd \"/content/drive/MyDrive/Colab Notebooks\""
      ],
      "execution_count": 3,
      "outputs": [
        {
          "output_type": "stream",
          "text": [
            "/content/drive/MyDrive/Colab Notebooks\n"
          ],
          "name": "stdout"
        }
      ]
    },
    {
      "cell_type": "code",
      "metadata": {
        "colab": {
          "base_uri": "https://localhost:8080/"
        },
        "id": "a5PqAIm8g2wZ",
        "outputId": "beb739a1-eeb2-4566-b57d-ebdcbb67c575"
      },
      "source": [
        "pip install -r OpenNMT-py-with-BERT/requirements.txt"
      ],
      "execution_count": 7,
      "outputs": [
        {
          "output_type": "stream",
          "text": [
            "Collecting git+https://github.com/pytorch/text.git@master#wheel=torchtext (from -r requirements.txt (line 4))\n",
            "  Cloning https://github.com/pytorch/text.git (to revision master) to /tmp/pip-req-build-n0611x3l\n",
            "  Running command git clone -q https://github.com/pytorch/text.git /tmp/pip-req-build-n0611x3l\n",
            "  Running command git submodule update --init --recursive -q\n",
            "Requirement already satisfied: six in /usr/local/lib/python3.7/dist-packages (from -r requirements.txt (line 1)) (1.15.0)\n",
            "Collecting tqdm==4.30.*\n",
            "\u001b[?25l  Downloading https://files.pythonhosted.org/packages/76/4c/103a4d3415dafc1ddfe6a6624333971756e2d3dd8c6dc0f520152855f040/tqdm-4.30.0-py2.py3-none-any.whl (47kB)\n",
            "\u001b[K     |████████████████████████████████| 51kB 7.9MB/s \n",
            "\u001b[?25hRequirement already satisfied: torch>=1.0 in /usr/local/lib/python3.7/dist-packages (from -r requirements.txt (line 3)) (1.9.0+cu102)\n",
            "Requirement already satisfied: future in /usr/local/lib/python3.7/dist-packages (from -r requirements.txt (line 5)) (0.16.0)\n",
            "Collecting configargparse\n",
            "  Downloading https://files.pythonhosted.org/packages/5e/1d/9722b6247cb89ee9f741095bf748c87ae064c5961758846e4f03fa1f4940/ConfigArgParse-1.5.1-py3-none-any.whl\n",
            "Requirement already satisfied: requests in /usr/local/lib/python3.7/dist-packages (from torchtext==0.11.0a0+16d2376->-r requirements.txt (line 4)) (2.23.0)\n",
            "Requirement already satisfied: numpy in /usr/local/lib/python3.7/dist-packages (from torchtext==0.11.0a0+16d2376->-r requirements.txt (line 4)) (1.19.5)\n",
            "Requirement already satisfied: typing-extensions in /usr/local/lib/python3.7/dist-packages (from torch>=1.0->-r requirements.txt (line 3)) (3.7.4.3)\n",
            "Requirement already satisfied: idna<3,>=2.5 in /usr/local/lib/python3.7/dist-packages (from requests->torchtext==0.11.0a0+16d2376->-r requirements.txt (line 4)) (2.10)\n",
            "Requirement already satisfied: urllib3!=1.25.0,!=1.25.1,<1.26,>=1.21.1 in /usr/local/lib/python3.7/dist-packages (from requests->torchtext==0.11.0a0+16d2376->-r requirements.txt (line 4)) (1.24.3)\n",
            "Requirement already satisfied: certifi>=2017.4.17 in /usr/local/lib/python3.7/dist-packages (from requests->torchtext==0.11.0a0+16d2376->-r requirements.txt (line 4)) (2021.5.30)\n",
            "Requirement already satisfied: chardet<4,>=3.0.2 in /usr/local/lib/python3.7/dist-packages (from requests->torchtext==0.11.0a0+16d2376->-r requirements.txt (line 4)) (3.0.4)\n",
            "Building wheels for collected packages: torchtext\n",
            "  Building wheel for torchtext (setup.py) ... \u001b[?25l\u001b[?25hdone\n",
            "  Created wheel for torchtext: filename=torchtext-0.11.0a0+16d2376-cp37-cp37m-linux_x86_64.whl size=7961061 sha256=9c8f38cb23b6a71e1cbf0e4c1499f95fd9f813bdc603782a9e938413d19f1434\n",
            "  Stored in directory: /tmp/pip-ephem-wheel-cache-wru6g5gb/wheels/47/f9/8d/a9e397ec2629a3fd3219b2ebc3ec8b55396fd3cf55963a77a5\n",
            "Successfully built torchtext\n",
            "\u001b[31mERROR: spacy 2.2.4 has requirement tqdm<5.0.0,>=4.38.0, but you'll have tqdm 4.30.0 which is incompatible.\u001b[0m\n",
            "\u001b[31mERROR: fbprophet 0.7.1 has requirement tqdm>=4.36.1, but you'll have tqdm 4.30.0 which is incompatible.\u001b[0m\n",
            "Installing collected packages: tqdm, configargparse, torchtext\n",
            "  Found existing installation: tqdm 4.41.1\n",
            "    Uninstalling tqdm-4.41.1:\n",
            "      Successfully uninstalled tqdm-4.41.1\n",
            "  Found existing installation: torchtext 0.10.0\n",
            "    Uninstalling torchtext-0.10.0:\n",
            "      Successfully uninstalled torchtext-0.10.0\n",
            "Successfully installed configargparse-1.5.1 torchtext-0.11.0a0+16d2376 tqdm-4.30.0\n"
          ],
          "name": "stdout"
        }
      ]
    },
    {
      "cell_type": "code",
      "metadata": {
        "colab": {
          "base_uri": "https://localhost:8080/"
        },
        "id": "t6VZnCHopgsD",
        "outputId": "ce44b877-dd58-4c9d-f080-7972ed7d5472"
      },
      "source": [
        "!python OpenNMT-py-with-BERT/setup.py install"
      ],
      "execution_count": 16,
      "outputs": [
        {
          "output_type": "stream",
          "text": [
            "running install\n",
            "running bdist_egg\n",
            "running egg_info\n",
            "writing OpenNMT_py.egg-info/PKG-INFO\n",
            "writing dependency_links to OpenNMT_py.egg-info/dependency_links.txt\n",
            "deleting OpenNMT_py.egg-info/entry_points.txt\n",
            "deleting OpenNMT_py.egg-info/requires.txt\n",
            "writing top-level names to OpenNMT_py.egg-info/top_level.txt\n",
            "error: package directory 'onmt' does not exist\n"
          ],
          "name": "stdout"
        }
      ]
    },
    {
      "cell_type": "code",
      "metadata": {
        "colab": {
          "base_uri": "https://localhost:8080/"
        },
        "id": "Jnxc8oY4ivBW",
        "outputId": "d16c5f5f-98cf-41e8-bb9a-9b6143e326bf"
      },
      "source": [
        "pip install iopath"
      ],
      "execution_count": 10,
      "outputs": [
        {
          "output_type": "stream",
          "text": [
            "Collecting iopath\n",
            "  Downloading https://files.pythonhosted.org/packages/af/20/65dd9bd25a1eb7fa35b5ae38d289126af065f8a0c1f6a90564f4bff0f89d/iopath-0.1.9-py3-none-any.whl\n",
            "Collecting portalocker\n",
            "  Downloading https://files.pythonhosted.org/packages/68/33/cb524f4de298509927b90aa5ee34767b9a2b93e663cf354b2a3efa2b4acd/portalocker-2.3.0-py2.py3-none-any.whl\n",
            "Requirement already satisfied: tqdm in /usr/local/lib/python3.7/dist-packages (from iopath) (4.30.0)\n",
            "Installing collected packages: portalocker, iopath\n",
            "Successfully installed iopath-0.1.9 portalocker-2.3.0\n"
          ],
          "name": "stdout"
        }
      ]
    },
    {
      "cell_type": "code",
      "metadata": {
        "colab": {
          "base_uri": "https://localhost:8080/"
        },
        "id": "YfBl4Dc7nk-m",
        "outputId": "b8022a2f-ff5d-48da-845a-b9d0495e50b6"
      },
      "source": [
        "!pip install -U torch==1.0.0"
      ],
      "execution_count": 17,
      "outputs": [
        {
          "output_type": "stream",
          "text": [
            "Collecting torch==1.0.0\n",
            "\u001b[?25l  Downloading https://files.pythonhosted.org/packages/f5/3b/0b8de6e654c2983898564226792c6f09d9bcaba97b7b29c40e4ed4ae43ed/torch-1.0.0-cp37-cp37m-manylinux1_x86_64.whl (591.8MB)\n",
            "\u001b[K     |████████████████████████████████| 591.8MB 30kB/s \n",
            "\u001b[31mERROR: torchvision 0.10.0+cu102 has requirement torch==1.9.0, but you'll have torch 1.0.0 which is incompatible.\u001b[0m\n",
            "\u001b[?25hInstalling collected packages: torch\n",
            "  Found existing installation: torch 1.8.0\n",
            "    Uninstalling torch-1.8.0:\n",
            "      Successfully uninstalled torch-1.8.0\n",
            "Successfully installed torch-1.0.0\n"
          ],
          "name": "stdout"
        }
      ]
    },
    {
      "cell_type": "code",
      "metadata": {
        "colab": {
          "base_uri": "https://localhost:8080/"
        },
        "id": "Wb9UI4OOkW1u",
        "outputId": "747c853d-8b16-4f6c-8a7c-131fb821515c"
      },
      "source": [
        "!pip install -U torchtext==0.8.0"
      ],
      "execution_count": 14,
      "outputs": [
        {
          "output_type": "stream",
          "text": [
            "Collecting torchtext==0.8.0\n",
            "  Using cached https://files.pythonhosted.org/packages/26/8a/e09b9b82d4dd676f17aa681003a7533765346744391966dec0d5dba03ee4/torchtext-0.8.0-cp37-cp37m-manylinux1_x86_64.whl\n",
            "Requirement already satisfied, skipping upgrade: torch in /usr/local/lib/python3.7/dist-packages (from torchtext==0.8.0) (1.8.0)\n",
            "Requirement already satisfied, skipping upgrade: numpy in /usr/local/lib/python3.7/dist-packages (from torchtext==0.8.0) (1.19.5)\n",
            "Requirement already satisfied, skipping upgrade: tqdm in /usr/local/lib/python3.7/dist-packages (from torchtext==0.8.0) (4.41.1)\n",
            "Requirement already satisfied, skipping upgrade: requests in /usr/local/lib/python3.7/dist-packages (from torchtext==0.8.0) (2.23.0)\n",
            "Requirement already satisfied, skipping upgrade: typing-extensions in /usr/local/lib/python3.7/dist-packages (from torch->torchtext==0.8.0) (3.7.4.3)\n",
            "Requirement already satisfied, skipping upgrade: urllib3!=1.25.0,!=1.25.1,<1.26,>=1.21.1 in /usr/local/lib/python3.7/dist-packages (from requests->torchtext==0.8.0) (1.24.3)\n",
            "Requirement already satisfied, skipping upgrade: idna<3,>=2.5 in /usr/local/lib/python3.7/dist-packages (from requests->torchtext==0.8.0) (2.10)\n",
            "Requirement already satisfied, skipping upgrade: certifi>=2017.4.17 in /usr/local/lib/python3.7/dist-packages (from requests->torchtext==0.8.0) (2021.5.30)\n",
            "Requirement already satisfied, skipping upgrade: chardet<4,>=3.0.2 in /usr/local/lib/python3.7/dist-packages (from requests->torchtext==0.8.0) (3.0.4)\n",
            "Installing collected packages: torchtext\n",
            "  Found existing installation: torchtext 0.9.0\n",
            "    Uninstalling torchtext-0.9.0:\n",
            "      Successfully uninstalled torchtext-0.9.0\n",
            "Successfully installed torchtext-0.8.0\n"
          ],
          "name": "stdout"
        }
      ]
    },
    {
      "cell_type": "code",
      "metadata": {
        "colab": {
          "base_uri": "https://localhost:8080/"
        },
        "id": "g5emL5qihdXv",
        "outputId": "e82d6696-3c6c-4f50-b049-1eeceaca26eb"
      },
      "source": [
        "!python OpenNMT-py-with-BERT/preprocess.py -train_src toy-ende/src-train.txt -train_tgt toy-ende/tgt-train.txt -valid_src toy-ende/src-val.txt -valid_tgt toy-ende/tgt-val.txt -save_data toy-ende/demo"
      ],
      "execution_count": 18,
      "outputs": [
        {
          "output_type": "stream",
          "text": [
            "Traceback (most recent call last):\n",
            "  File \"OpenNMT-py-with-BERT/preprocess.py\", line 13, in <module>\n",
            "    from onmt.utils.logging import init_logger, logger\n",
            "  File \"/content/drive/My Drive/Colab Notebooks/OpenNMT-py-with-BERT/onmt/__init__.py\", line 4, in <module>\n",
            "    import onmt.inputters\n",
            "  File \"/content/drive/My Drive/Colab Notebooks/OpenNMT-py-with-BERT/onmt/inputters/__init__.py\", line 6, in <module>\n",
            "    from onmt.inputters.inputter import \\\n",
            "  File \"/content/drive/My Drive/Colab Notebooks/OpenNMT-py-with-BERT/onmt/inputters/inputter.py\", line 11, in <module>\n",
            "    import torchtext.data\n",
            "  File \"/usr/local/lib/python3.7/dist-packages/torchtext/__init__.py\", line 40, in <module>\n",
            "    _init_extension()\n",
            "  File \"/usr/local/lib/python3.7/dist-packages/torchtext/__init__.py\", line 36, in _init_extension\n",
            "    torch.ops.load_library(ext_specs.origin)\n",
            "  File \"/usr/local/lib/python3.7/dist-packages/torch/_ops.py\", line 102, in load_library\n",
            "    ctypes.CDLL(path)\n",
            "  File \"/usr/lib/python3.7/ctypes/__init__.py\", line 364, in __init__\n",
            "    self._handle = _dlopen(self._name, mode)\n",
            "OSError: libtorch.so: cannot open shared object file: No such file or directory\n"
          ],
          "name": "stdout"
        }
      ]
    }
  ]
}